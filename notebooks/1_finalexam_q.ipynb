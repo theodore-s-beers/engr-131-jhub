{
  "cells": [
    {
      "cell_type": "code",
      "execution_count": null,
      "id": "62c1b5bf",
      "metadata": {
        "tags": [
          "skip-execution"
        ]
      },
      "outputs": [],
      "source": [
        "from pykubegrader.tokens.validate_token import validate_token\n",
        "validate_token('type the key provided by your instructor here', assignment = 'week11-finalexam')\n"
      ]
    },
    {
      "cell_type": "code",
      "execution_count": null,
      "metadata": {
        "deletable": false,
        "editable": false,
        "tags": [
          "skip-execution"
        ]
      },
      "outputs": [],
      "source": [
        "validate_token(assignment = 'week11-finalexam')\n",
        "\n",
        "# You must make sure to run all cells in sequence using shift + enter or you might encounter errors\n",
        "from pykubegrader.initialize import initialize_assignment\n",
        "\n",
        "responses = initialize_assignment(\"1_finalexam_q\", \"week_11\", \"finalexam\", assignment_points = 130.0, assignment_tag = 'week11-finalexam')\n",
        "\n",
        "# Initialize Otter\n",
        "import otter\n",
        "grader = otter.Notebook(\"1_finalexam_q.ipynb\")"
      ]
    },
    {
      "cell_type": "markdown",
      "metadata": {
        "deletable": false,
        "editable": false
      },
      "source": [
        "# \u2753 ENGR131: FINAL EXAM: Introduction to Programming for Engineers\n",
        "\n",
        "## Time Limit\n",
        "\n",
        "You will have 2 hours to complete the Final Exam."
      ]
    },
    {
      "cell_type": "code",
      "execution_count": null,
      "metadata": {
        "tags": [
          "skip-execution"
        ]
      },
      "outputs": [],
      "source": [
        "# Run this block of code by pressing Shift + Enter to display the question\n",
        "from questions._1_finalexam_q import Question1\n",
        "Question1().show()\n"
      ]
    },
    {
      "cell_type": "code",
      "execution_count": null,
      "metadata": {
        "tags": [
          "skip-execution"
        ]
      },
      "outputs": [],
      "source": [
        "# Run this block of code by pressing Shift + Enter to display the question\n",
        "from questions._1_finalexam_q import Question2\n",
        "Question2().show()\n"
      ]
    },
    {
      "cell_type": "markdown",
      "metadata": {
        "deletable": false,
        "editable": false
      },
      "source": [
        "## Question 3 (Points: 16.00): Problem Description: Basic Statistical Analysis of a Numerical Array\n",
        "\n",
        "You are given a NumPy array or a list of numerical values. Your task is to implement a function `compute_statistics` that computes key descriptive statistics of the input data. Specifically, the function should return a dictionary containing:\n",
        "\n",
        "- **Mean**: The average value.\n",
        "- **Median**: The middle value.\n",
        "- **Standard Deviation**: The population standard deviation.\n",
        "- **Sum**: The total sum of elements.\n",
        "- **Minimum**: The smallest value.\n",
        "- **Maximum**: The largest value.\n",
        "\n",
        "If the input array is empty, the function should return an empty dictionary.\n",
        "\n",
        "Helper functions for each individual statistic (`compute_mean`, `compute_median`, etc.) are provided for modular computation. You may assume all inputs are numeric and can be converted into a NumPy array."
      ]
    },
    {
      "cell_type": "markdown",
      "metadata": {
        "deletable": false,
        "editable": false
      },
      "source": [
        "### Question 3-Part 1 (Points: 0.50): Importing Modules"
      ]
    },
    {
      "cell_type": "code",
      "execution_count": null,
      "metadata": {
        "tags": [
          "otter_answer_cell",
          "skip-execution"
        ]
      },
      "outputs": [],
      "source": [
        "# Import numpy using the common alias np\n",
        "..."
      ]
    },
    {
      "cell_type": "code",
      "execution_count": null,
      "metadata": {
        "deletable": false,
        "editable": false,
        "tags": [
          "skip-execution"
        ]
      },
      "outputs": [],
      "source": [
        "grader.check(\"import-numpy\")"
      ]
    },
    {
      "cell_type": "markdown",
      "metadata": {
        "deletable": false,
        "editable": false
      },
      "source": [
        "### Question 3-Part 2 (Points: 2.00): Computing the Mean"
      ]
    },
    {
      "cell_type": "code",
      "execution_count": null,
      "metadata": {
        "tags": [
          "otter_answer_cell",
          "skip-execution"
        ]
      },
      "outputs": [],
      "source": [
        "# write a function compute_mean that computes the mean of the array\n",
        "# the function should use the np.mean function to compute the mean, of an array\n",
        "# make sure the function returns the mean of the array\n",
        "..."
      ]
    },
    {
      "cell_type": "code",
      "execution_count": null,
      "metadata": {
        "deletable": false,
        "editable": false,
        "tags": [
          "skip-execution"
        ]
      },
      "outputs": [],
      "source": [
        "grader.check(\"compute-mean\")"
      ]
    },
    {
      "cell_type": "markdown",
      "metadata": {
        "deletable": false,
        "editable": false
      },
      "source": [
        "### Question 3-Part 3 (Points: 2.00): Computing the Median"
      ]
    },
    {
      "cell_type": "code",
      "execution_count": null,
      "metadata": {
        "tags": [
          "otter_answer_cell",
          "skip-execution"
        ]
      },
      "outputs": [],
      "source": [
        "# write a function compute_median that computes the median of the array\n",
        "# the function should use the np.median function to compute the median, of an array\n",
        "# make sure the function returns the median of the array\n",
        "..."
      ]
    },
    {
      "cell_type": "code",
      "execution_count": null,
      "metadata": {
        "deletable": false,
        "editable": false,
        "tags": [
          "skip-execution"
        ]
      },
      "outputs": [],
      "source": [
        "grader.check(\"median-function\")"
      ]
    },
    {
      "cell_type": "markdown",
      "metadata": {
        "deletable": false,
        "editable": false
      },
      "source": [
        "### Question 3-Part 4 (Points: 2.00): Computing the Standard Deviation"
      ]
    },
    {
      "cell_type": "code",
      "execution_count": null,
      "metadata": {
        "tags": [
          "otter_answer_cell",
          "skip-execution"
        ]
      },
      "outputs": [],
      "source": [
        "# write a function compute_std_dev that computes the standard deviation of the array\n",
        "# the function should use the np.std function to compute the standard deviation, of an array\n",
        "# the function should have an optional parameter ddof, which defaults to 0\n",
        "# the function should pass this parameter to the np.std function as the optional parameter ddof\n",
        "# make sure the function returns the standard deviation of the array\n",
        "..."
      ]
    },
    {
      "cell_type": "code",
      "execution_count": null,
      "metadata": {
        "deletable": false,
        "editable": false,
        "tags": [
          "skip-execution"
        ]
      },
      "outputs": [],
      "source": [
        "grader.check(\"compute-std-dev\")"
      ]
    },
    {
      "cell_type": "markdown",
      "metadata": {
        "deletable": false,
        "editable": false
      },
      "source": [
        "### Question 3-Part 5 (Points: 2.00): Computing the Sum"
      ]
    },
    {
      "cell_type": "code",
      "execution_count": null,
      "metadata": {
        "tags": [
          "otter_answer_cell",
          "skip-execution"
        ]
      },
      "outputs": [],
      "source": [
        "# write a function compute_sum that computes the sum of the array\n",
        "# the function should use the np.sum function to compute the sum, of an array\n",
        "# make sure the function returns the sum of the array\n",
        "..."
      ]
    },
    {
      "cell_type": "code",
      "execution_count": null,
      "metadata": {
        "deletable": false,
        "editable": false,
        "tags": [
          "skip-execution"
        ]
      },
      "outputs": [],
      "source": [
        "grader.check(\"computing-the-sum\")"
      ]
    },
    {
      "cell_type": "markdown",
      "metadata": {
        "deletable": false,
        "editable": false
      },
      "source": [
        "### Question 3-Part 6 (Points: 7.50): Computing the Statistics\n",
        "\n",
        "Now we want to use all these sub-functions to compute the statistics of the array."
      ]
    },
    {
      "cell_type": "code",
      "execution_count": null,
      "metadata": {
        "tags": [
          "otter_answer_cell",
          "skip-execution"
        ]
      },
      "outputs": [],
      "source": [
        "# write a function compute_statistics that computes the statistics of the array\n",
        "# the function should use the compute_mean, compute_median, compute_std_dev, and compute_sum functions\n",
        "# make sure the function returns a dictionary containing the mean, median, standard deviation, and sum of the array\n",
        "...\n",
        "    \"\"\"\n",
        "    Given a NumPy array or list of numbers, compute and return \n",
        "    a dictionary containing the mean, median, standard deviation, and sum.\n",
        "    If the input is empty, return an empty dictionary.\n",
        "\n",
        "    Parameters:\n",
        "    arr (array-like): A NumPy array or list of numbers.\n",
        "\n",
        "    Returns:\n",
        "    dict: A dictionary containing the mean, median, standard deviation, and sum of the array.\n",
        "    \"\"\"\n",
        "    # Ensure input is a NumPy array\n",
        "    # use the np.asarray function to convert the input to a NumPy array\n",
        "    ...\n",
        "\n",
        "    # Return an empty dictionary if the array is empty\n",
        "    # we cannot convert an empty list to a NumPy array, so we need to check if the array is empty\n",
        "    # One way to check if the array is empty is to use the size attribute of the array, you can do this by calling arr.size\n",
        "    ...\n",
        "\n",
        "    # Dictionary to map statistic names to their corresponding functions\n",
        "    # The dictionary should have the name stats_function\n",
        "    # You can use the compute_mean, compute_median, compute_std_dev, and compute_sum functions to compute the statistics\n",
        "    # In this case you will want to create a dictionary with the key being the strings 'mean', 'median', 'std_dev', and 'sum'\n",
        "    # and the values being the functions compute_mean, compute_median, compute_std_dev, and compute_sum\n",
        "    ...\n",
        "    \n",
        "    # You can use a loop to iterate over the dictionary and compute the statistics\n",
        "    # You can use the items() method of the dictionary to get the key and value of each item in the dictionary\n",
        "    # You can use the stat_name and func to compute the statistics\n",
        "    # You can use the stats_dict to store the statistics\n",
        "    # You can use the func(arr) to compute the statistics\n",
        "    # You can use the stat_name to store the statistics in the stats_dict\n",
        "    ...\n",
        "    \n",
        "    # you need to return the stats_dict\n",
        "    ...\n",
        "    \n",
        "# Note: Our tests do not require that you follow the exact methodology provided. We are testing that the function returns the correct values given a set of inputs."
      ]
    },
    {
      "cell_type": "code",
      "execution_count": null,
      "metadata": {
        "deletable": false,
        "editable": false,
        "tags": [
          "skip-execution"
        ]
      },
      "outputs": [],
      "source": [
        "grader.check(\"compute-statistics\")"
      ]
    },
    {
      "cell_type": "markdown",
      "metadata": {
        "deletable": false,
        "editable": false
      },
      "source": [
        "### Example usage:\n",
        "\n",
        "We have provided you with some basic codes to test your functions."
      ]
    },
    {
      "cell_type": "code",
      "execution_count": null,
      "metadata": {
        "tags": [
          "skip-execution"
        ]
      },
      "outputs": [],
      "source": [
        "# Example usage:\n",
        "import pandas as pd\n",
        "\n",
        "test_array = np.array([1, 2, 3, 4, 5])\n",
        "stats_result = compute_statistics(test_array)\n",
        "\n",
        "# Convert the dictionary to a pandas DataFrame for pretty printing\n",
        "df = pd.DataFrame(list(stats_result.items()), columns=['Statistic', 'Value'])\n",
        "df"
      ]
    },
    {
      "cell_type": "markdown",
      "metadata": {
        "deletable": false,
        "editable": false
      },
      "source": [
        "## Question 4 (Points: 12.50): Building a Plotting Function in Python\n",
        "\n",
        "This problem will test your ability to build a plotting function in Python, an essential skill for an engineer."
      ]
    },
    {
      "cell_type": "markdown",
      "metadata": {
        "deletable": false,
        "editable": false
      },
      "source": [
        "### Question 4-Part 1 (Points: 1.00): Importing Modules"
      ]
    },
    {
      "cell_type": "code",
      "execution_count": null,
      "metadata": {
        "tags": [
          "otter_answer_cell",
          "skip-execution"
        ]
      },
      "outputs": [],
      "source": [
        "# Import numpy using the common alias np\n",
        "# You need to import the pyplot module from matplotlib and give it the alias plt\n",
        "...\n",
        "    "
      ]
    },
    {
      "cell_type": "code",
      "execution_count": null,
      "metadata": {
        "deletable": false,
        "editable": false,
        "tags": [
          "skip-execution"
        ]
      },
      "outputs": [],
      "source": [
        "grader.check(\"importing-modules\")"
      ]
    },
    {
      "cell_type": "markdown",
      "metadata": {
        "deletable": false,
        "editable": false
      },
      "source": [
        "### Question 4-Part 2 (Points: 11.50): Plotting a Spiral"
      ]
    },
    {
      "cell_type": "code",
      "execution_count": null,
      "metadata": {
        "tags": [
          "otter_answer_cell",
          "skip-execution"
        ]
      },
      "outputs": [],
      "source": [
        "# Define a function plot_spiral that plots a spiral with a smoothly changing color gradient.\n",
        "# it should have 3 parameters: num_turns, num_points, and colormap\n",
        "# the default values should be num_turns=5, num_points=500, and colormap=\"plasma\"\n",
        "\n",
        "...\n",
        "\n",
        "    \"\"\"\n",
        "    Plots a spiral with a smoothly changing color gradient.\n",
        "    \n",
        "    Parameters:\n",
        "        num_turns (int): Number of turns in the spiral.\n",
        "        num_points (int): Number of points in the spiral.\n",
        "        colormap (str): Matplotlib colormap name.\n",
        "    \n",
        "    The color of the spiral smoothly changes along its path.\n",
        "    \"\"\"\n",
        "    \n",
        "    # Generate theta values as the variable `theta` from 0 to 2\u03c0 * num_turn, with num_points points\n",
        "    # use the np.linspace function to generate the theta values,\n",
        "    ...\n",
        "\n",
        "    # Convert to Cartesian coordinates\n",
        "    # the x function is theta * np.cos(theta)\n",
        "    # the y function is theta * np.sin(theta)\n",
        "    ...\n",
        "\n",
        "    # Create color gradient based on the index of points\n",
        "    # use the np.linspace function to generate the color values, from 0 to 1, with num_points points\n",
        "    ...\n",
        "\n",
        "    # Create the figure and axis\n",
        "    # use the plt.subplots function to create the figure and axis\n",
        "    # the optional figsize parameter should be (6, 6), as a tuple\n",
        "    # save the outputs of the plt.subplots function to the variables fig and ax\n",
        "    ...\n",
        "\n",
        "    # Scatter plot to create a smoothly colored spiral\n",
        "    # use the ax.scatter function to create the scatter plot\n",
        "    # the c parameter should be the colors variable\n",
        "    # the cmap parameter should be the colormap variable\n",
        "    # the s parameter should be 2\n",
        "    # the edgecolors parameter should be \"none\"\n",
        "    # save the output of the ax.scatter function to the variable scatter\n",
        "    ...\n",
        "\n",
        "    # use the ax.set_title function to set the title of the plot\n",
        "    # the title should be \"Spiral with Changing Colors\"\n",
        "    # the fontsize should be 14\n",
        "    # the fontweight should be \"bold\"\n",
        "    ...\n",
        "    \n",
        "    # use the ax.set_xlabel function to set the x-axis label\n",
        "    # the label should be \"X-axis\"\n",
        "    ...\n",
        "    \n",
        "    # use the ax.set_ylabel function to set the y-axis label\n",
        "    # the label should be \"Y-axis\"\n",
        "    ...\n",
        "\n",
        "    # use the ax.set_aspect function to set the aspect ratio of the plot\n",
        "    # the aspect ratio should be \"equal\"\n",
        "    ...\n",
        "\n",
        "    # we have provided the return statement for you, do not modify it\n",
        "    return fig, ax\n",
        "\n",
        "# call the plot_spiral function with num_turns=7, num_points=1000, colormap=\"viridis\"\n",
        "# save the output of the plot_spiral function to the variables fig and ax\n",
        "# call the plt.show function to display the plot\n",
        "...\n"
      ]
    },
    {
      "cell_type": "code",
      "execution_count": null,
      "metadata": {
        "deletable": false,
        "editable": false,
        "tags": [
          "skip-execution"
        ]
      },
      "outputs": [],
      "source": [
        "grader.check(\"plot-spiral\")"
      ]
    },
    {
      "cell_type": "markdown",
      "metadata": {
        "deletable": false,
        "editable": false
      },
      "source": [
        "## Question 5 (Points: 15.50): \u2753\u270d\ufe0f Training MNIST Handwritten Digits \ud83d\udd8b\ufe0f\n",
        "\n",
        "### Key Steps in the Problem: \ud83d\udddd\ufe0f\n",
        "\n",
        "1. **Load the MNIST Dataset** \ud83d\udce5  \n",
        "   - The dataset is retrieved from OpenML and consists of **784 features (28\u00d728 pixel images)** and **70,000 samples**. \ud83d\udcca\n",
        "   - The labels represent digit classes from **0 to 9**. \ud83d\udd22\n",
        "\n",
        "2. **Data Preprocessing** \ud83d\udd04  \n",
        "   - Pixel values are normalized to **[0,1]** for better numerical stability. \ud83d\udccf\n",
        "   - The dataset is split into a **training set (80%)** and a **test set (20%)**. \ud83d\udcda\n",
        "\n",
        "3. **Model Selection: Stochastic Gradient Descent (SGD) Classifier** \ud83e\udd14  \n",
        "   - An **Stochastic Gradient Descent (SGD) Classifier** is used. \ud83c\udfc3\u200d\u2642\ufe0f  \n",
        "   - The loss function is set to `\"log_loss\"`, which enables logistic regression-like behavior. \u2699\ufe0f\n",
        "\n",
        "4. **Training the Model** \ud83c\udfcb\ufe0f\u200d\u2642\ufe0f  \n",
        "   - The SGD model is trained using the processed dataset. \ud83d\udcc8\n",
        "\n",
        "5. **Model Evaluation** \ud83d\udcca  \n",
        "   - Predictions are made on the test set. \ud83d\udd0d\n",
        "   - Accuracy, classification report, and a confusion matrix are used to assess performance. \ud83d\udcd1\n",
        "\n",
        "6. **Visualization** \ud83d\uddbc\ufe0f  \n",
        "   - A confusion matrix is plotted to analyze model errors in classifying digits. \ud83d\udcc9\n"
      ]
    },
    {
      "cell_type": "markdown",
      "metadata": {
        "deletable": false,
        "editable": false
      },
      "source": [
        "### Question 5-Part 1 (Points: 0.50): Importing Modules"
      ]
    },
    {
      "cell_type": "code",
      "execution_count": null,
      "metadata": {
        "tags": [
          "otter_answer_cell",
          "skip-execution"
        ]
      },
      "outputs": [],
      "source": [
        "import numpy as np\n",
        "import matplotlib.pyplot as plt\n",
        "\n",
        "# import necessary libraries\n",
        "# from sklearn import datasets\n",
        "# from sklearn.model_selection import train_test_split\n",
        "# from sklearn.metrics import accuracy_score, classification_report, confusion_matrix\n",
        "# from sklearn.linear_model import SGDClassifier\n",
        "...\n",
        "\n",
        "# Set random seed for reproducibility\n",
        "# Do not modify this line\n",
        "np.random.seed(42)\n"
      ]
    },
    {
      "cell_type": "code",
      "execution_count": null,
      "metadata": {
        "deletable": false,
        "editable": false,
        "tags": [
          "skip-execution"
        ]
      },
      "outputs": [],
      "source": [
        "grader.check(\"import-functions-5\")"
      ]
    },
    {
      "cell_type": "markdown",
      "metadata": {
        "deletable": false,
        "editable": false
      },
      "source": [
        "### Question 5-Part 2 (Points: 1.50): Loading the MNIST Dataset"
      ]
    },
    {
      "cell_type": "code",
      "execution_count": null,
      "metadata": {
        "tags": [
          "otter_answer_cell",
          "skip-execution"
        ]
      },
      "outputs": [],
      "source": [
        "# Set random seed for reproducibility\n",
        "# Do not modify this line\n",
        "np.random.seed(42)\n",
        "\n",
        "# Step 1: Load the MNIST dataset\n",
        "# load the MNIST dataset, to the variable mnist using the datasets.fetch_openml function\n",
        "# the first required argument is the name of the dataset, which is 'mnist_784'\n",
        "# the second optional argument is the version of the dataset, which is 1 (we need to provide the optional argument version=1)\n",
        "# the third optional argument is as_frame, which is set to False (we need to provide the optional argument as_frame=False)\n",
        "...\n",
        "\n",
        "# Unpack the data by assigning the mnist.data to X and the mnist.target to y\n",
        "# You want to ensure that the datatype is in np.uint8, do this by using the astype method of the object mnist.target, and setting the option to dtype=np.uint8\n",
        "..."
      ]
    },
    {
      "cell_type": "code",
      "execution_count": null,
      "metadata": {
        "deletable": false,
        "editable": false,
        "tags": [
          "skip-execution"
        ]
      },
      "outputs": [],
      "source": [
        "grader.check(\"load the mnist dataset\")"
      ]
    },
    {
      "cell_type": "markdown",
      "metadata": {
        "deletable": false,
        "editable": false
      },
      "source": [
        "### Question 5-Part 3 (Points: 2.75): Test-Train Split"
      ]
    },
    {
      "cell_type": "code",
      "execution_count": null,
      "metadata": {
        "tags": [
          "otter_answer_cell",
          "skip-execution"
        ]
      },
      "outputs": [],
      "source": [
        "# Set random seed for reproducibility\n",
        "# Do not modify this line\n",
        "np.random.seed(42)\n",
        "\n",
        "# Step 2: Preprocess the data\n",
        "# Normalize pixel values to range [0,1], by dividing the X object by 255.0\n",
        "...\n",
        "\n",
        "# Split the data into training and testing sets, by using the train_test_split function, and setting the test_size to 0.2, and random_state to 42   \n",
        "# save the output of the train_test_split function to the variables X_train, X_test, y_train, y_test\n",
        "...\n"
      ]
    },
    {
      "cell_type": "code",
      "execution_count": null,
      "metadata": {
        "deletable": false,
        "editable": false,
        "tags": [
          "skip-execution"
        ]
      },
      "outputs": [],
      "source": [
        "grader.check(\"normalize-the-data\")"
      ]
    },
    {
      "cell_type": "markdown",
      "metadata": {
        "deletable": false,
        "editable": false
      },
      "source": [
        "### Question 5-Part 4 (Points: 2.25): SGD Classifier"
      ]
    },
    {
      "cell_type": "code",
      "execution_count": null,
      "metadata": {
        "tags": [
          "otter_answer_cell",
          "skip-execution"
        ]
      },
      "outputs": [],
      "source": [
        "# Set random seed for reproducibility\n",
        "# Do not modify this line\n",
        "np.random.seed(42)\n",
        "\n",
        "# Step 3: Select a model (Stochastic Gradient Descent Classifier)\n",
        "# Instantiate the SGDClassifier `model`, by setting the loss to 'log_loss', max_iter to 2000, tol to 1e-5, and random_state to 42\n",
        "..."
      ]
    },
    {
      "cell_type": "code",
      "execution_count": null,
      "metadata": {
        "deletable": false,
        "editable": false,
        "tags": [
          "skip-execution"
        ]
      },
      "outputs": [],
      "source": [
        "grader.check(\"model-training\")"
      ]
    },
    {
      "cell_type": "markdown",
      "metadata": {
        "deletable": false,
        "editable": false
      },
      "source": [
        "### Question 5-Part 5 (Points: 8.50): Model Training and Evaluation"
      ]
    },
    {
      "cell_type": "code",
      "execution_count": null,
      "metadata": {
        "tags": [
          "otter_answer_cell",
          "skip-execution"
        ]
      },
      "outputs": [],
      "source": [
        "# Note: running this block of code might take 2-3 minutes, all other code should run fast. \n",
        "\n",
        "# Step 4: Train the model\n",
        "# Fit the model to the training data, by using the fit method of the model object, and passing in the X_train and y_train data\n",
        "..."
      ]
    },
    {
      "cell_type": "code",
      "execution_count": null,
      "metadata": {
        "tags": [
          "otter_answer_cell",
          "skip-execution"
        ]
      },
      "outputs": [],
      "source": [
        "# Step 5: Evaluate the model\n",
        "# Predict the test data, by using the predict method of the model object, and passing in the X_test data\n",
        "# save the output of the predict method to the variable y_pred\n",
        "...\n",
        "\n",
        "# Calculate the `accuracy` of the model, by using the `accuracy_score` function, and passing in the `y_test` and `y_pred` data\n",
        "..."
      ]
    },
    {
      "cell_type": "code",
      "execution_count": null,
      "metadata": {
        "deletable": false,
        "editable": false,
        "tags": [
          "skip-execution"
        ]
      },
      "outputs": [],
      "source": [
        "grader.check(\"model-training-and-evaluation\")"
      ]
    },
    {
      "cell_type": "markdown",
      "metadata": {
        "deletable": false,
        "editable": false
      },
      "source": [
        "### Question 5-Part 6 (Points: 0.00): Analyzing the model\n",
        "\n",
        "It is your job to analyze the model's performance, and use the information gleaned to anwser the following multiple choice questions. We provide you with directions for one method to provide the necessary information. "
      ]
    },
    {
      "cell_type": "code",
      "execution_count": null,
      "metadata": {
        "tags": [
          "otter_answer_cell",
          "skip-execution"
        ]
      },
      "outputs": [],
      "source": [
        "# Step 6: Display results\n",
        "# this is optional, you can print the accuracy of the model, and the classification report\n",
        "# Print the accuracy of the model\n",
        "...\n",
        "# Print the classification report\n",
        "print(\"\\nClassification Report:\\n\", classification_report(y_test, y_pred))\n",
        "\n",
        "# create a plot of the confusion matrix\n",
        "# create a figure and axis object, using the subplots function\n",
        "# set the figsize to (8, 6), this is an optional parameter figsize\n",
        "...\n",
        "\n",
        "# plot the confusion matrix\n",
        "# call the confusion_matrix function, and pass in the y_test and y_pred data\n",
        "# on the ax object, call the imshow method, and pass in the confusion matrix, and set the cmap to 'Blues', and the interpolation to 'nearest'\n",
        "...\n",
        "\n",
        "# set the title of the plot to \"Confusion Matrix\" using the plt object\n",
        "..."
      ]
    },
    {
      "cell_type": "code",
      "execution_count": null,
      "metadata": {
        "deletable": false,
        "editable": false,
        "tags": [
          "skip-execution"
        ]
      },
      "outputs": [],
      "source": [
        "grader.check(\"Evaluating your model\")"
      ]
    },
    {
      "cell_type": "code",
      "execution_count": null,
      "metadata": {
        "tags": [
          "skip-execution"
        ]
      },
      "outputs": [],
      "source": [
        "# Run this block of code by pressing Shift + Enter to display the question\n",
        "from questions._1_finalexam_q import Question5\n",
        "Question5().show()\n"
      ]
    },
    {
      "cell_type": "markdown",
      "metadata": {
        "deletable": false,
        "editable": false
      },
      "source": [
        "## Question 6 (Points: 17.00): \ud83d\udd25Battle of the Code Realms! \ud83c\udff0\u2694\ufe0f\n",
        "\n",
        "In the enchanted dominion of Pythonia a Python pokemon battle is taking place, where code flows like magic and logic bends reality, two champions enter the arena\u2014each ready to claim glory in an all-out brawl of brains and brawn! \ud83c\udfc6\n",
        "\n",
        "\ud83e\udea8 The Rock Pokemon \u2013 A relentless forged from bedrock and resolve. Every strike lands with 10 thunderous damage, unwavering and unstoppable. No luck, no flair\u2014just brutal consistency. When this titan swings, it\u2019s all power, no pretense. \u2694\ufe0f\ud83d\udca5\n",
        "\n",
        "Rules of the Realm: They battle until one falls. No timeouts. No mercy.\n",
        "\n",
        "Will geodude sheer force dominate the day? Or will Onyx find the path to victory?\n",
        "\n",
        "\ud83d\udc80 One shall stand. One shall fall.\n",
        "\n",
        "\u26a1 Let the code-fueled combat begin! \u26a1"
      ]
    },
    {
      "cell_type": "markdown",
      "metadata": {
        "deletable": false,
        "editable": false
      },
      "source": [
        "### Question 6-Part 1 (Points: 0.50): Importing Functions\n",
        "\n",
        "The first step in any python program is to import the necessary modules. In this question, you will import the necessary modules for the rest of the question.\n"
      ]
    },
    {
      "cell_type": "code",
      "execution_count": null,
      "metadata": {
        "tags": [
          "otter_answer_cell",
          "skip-execution"
        ]
      },
      "outputs": [],
      "source": [
        "# Import from the abc module, the ABC and abstractmethod classes\n",
        "...\n",
        "\n",
        "# Import the random module\n",
        "..."
      ]
    },
    {
      "cell_type": "code",
      "execution_count": null,
      "metadata": {
        "deletable": false,
        "editable": false,
        "tags": [
          "skip-execution"
        ]
      },
      "outputs": [],
      "source": [
        "grader.check(\"import-functions-6\")"
      ]
    },
    {
      "cell_type": "markdown",
      "metadata": {
        "deletable": false,
        "editable": false
      },
      "source": [
        "### Question 6-Part 2 (Points: 5.00): Implementing the Character Class\n",
        "\n",
        "The Character class is an abstract base class that defines the structure of a character in a role-playing game. It is a blueprint for creating specific character classes, such as RockPokemon and Mage."
      ]
    },
    {
      "cell_type": "code",
      "execution_count": null,
      "metadata": {
        "tags": [
          "otter_answer_cell",
          "skip-execution"
        ]
      },
      "outputs": [],
      "source": [
        "# create a Character class that inherits from the ABC class - the abstract base class\n",
        "...\n",
        "    \"\"\"\n",
        "    The Character class is an abstract base class (ABC) that represents a character in a role-playing game (RPG).\n",
        "    This class cannot be instantiated directly and must be inherited by subclasses that implement the abstract methods.\n",
        "\n",
        "    Attributes:\n",
        "        name (str): The name of the character.\n",
        "        hp (int): The hit points (health points) of the character.\n",
        "\n",
        "    Methods:\n",
        "        __init__(self, name, hp):\n",
        "            Initializes a new character with the given name and hit points.\n",
        "        \n",
        "        take_damage(self, amount):\n",
        "            Reduces the character's hit points by the specified amount. If the hit points drop below zero, they are set to zero.\n",
        "        \n",
        "        attack(self, target):\n",
        "            Abstract method that must be implemented by subclasses. Represents an attack on a target character.\n",
        "    \"\"\"\n",
        "    # define the __init__ method, this is the magic method that is called when a new instance of the class is created\n",
        "    ...\n",
        "        \"\"\"\n",
        "        Initializes a new character with the given name and hit points.\n",
        "\n",
        "        Args:\n",
        "            name (str): The name of the character.\n",
        "            hp (int): The hit points (health points) of the character.\n",
        "        \"\"\"\n",
        "        # define the name and hp attributes, these are the attributes of the character\n",
        "        # assign the name and hp arguments to the name and hp attributes of the object itselft\n",
        "        ...\n",
        "\n",
        "    # define the take_damage method, this is the method that is called when the character takes damage\n",
        "    # the method takes an amount argument, which is the amount of damage to inflict on the character\n",
        "    # the method reduces the character's hit points by the specified amount\n",
        "    # if the hit points drop below zero, they are set to zero\n",
        "    # make sure this is updating the hp attribute of the object itself\n",
        "    ...\n",
        "    \n",
        "        \"\"\"\n",
        "        Reduces the character's hit points by the specified amount. If the hit points drop below zero, they are set to zero.\n",
        "\n",
        "        Args:\n",
        "            amount (int): The amount of damage to inflict on the character.\n",
        "        \"\"\"\n",
        "        ...\n",
        "\n",
        "    # define the attack method, this is the method that is called when the character attacks another character\n",
        "    # the method takes a target argument, which is the character to attack\n",
        "    # the method must be implemented by subclasses -- this is an abstract method, use the @abstractmethod decorator\n",
        "    # the @abstractmethod decorator is applied above the method definition\n",
        "    ...\n",
        "    \n",
        "        \"\"\"\n",
        "        Abstract method that must be implemented by subclasses. Represents an attack on a target character.\n",
        "\n",
        "        Args:\n",
        "            target (Character): The target character to attack.\n",
        "        \"\"\"\n",
        "        # You can just use the pass statement to implement the abstract method, pass runs code that does nothing.\n",
        "        ..."
      ]
    },
    {
      "cell_type": "code",
      "execution_count": null,
      "metadata": {
        "deletable": false,
        "editable": false,
        "tags": [
          "skip-execution"
        ]
      },
      "outputs": [],
      "source": [
        "grader.check(\"Character-class\")"
      ]
    },
    {
      "cell_type": "markdown",
      "metadata": {
        "deletable": false,
        "editable": false
      },
      "source": [
        "### Question 6-Part 3 (Points: 4.00): Implementing the RockPokemon Class\n",
        "\n",
        "The RockPokemon class is a subclass of the Character class. It inherits the name and hp attributes from the Character class and implements the attack method.\n"
      ]
    },
    {
      "cell_type": "code",
      "execution_count": null,
      "metadata": {
        "tags": [
          "otter_answer_cell",
          "skip-execution"
        ]
      },
      "outputs": [],
      "source": [
        "...\n",
        "    \"\"\"\n",
        "    RockPokemon class that inherits from Character. Represents a RockPokemon character in the RPG game.\n",
        "\n",
        "    Methods:\n",
        "        attack(target):\n",
        "            Attacks the target character, dealing a fixed amount of damage.\n",
        "\n",
        "    Attributes:\n",
        "        name (str): The name of the RockPokemon.\n",
        "        hp (int): The hit points (health) of the RockPokemon.\n",
        "    \"\"\"\n",
        "    # define the attack method of the RockPokemon class\n",
        "    # the method takes a target argument, which is the character to attack\n",
        "    ...\n",
        "        \"\"\"\n",
        "        Attacks the target character, dealing a fixed amount of damage.\n",
        "\n",
        "        Args:\n",
        "            target (Character): The target character to attack. The target must have a take_damage method and a name attribute.\n",
        "\n",
        "        The attack method performs the following steps:\n",
        "        1. Sets a fixed `damage` value of 10.\n",
        "        2. Calls the `take_damage` method on the target character, passing the `damage` value as an argument.\n",
        "        3. Prints a message indicating the attack, the damage dealt, and the target's remaining HP.\n",
        "\n",
        "        Example:\n",
        "            rock_pokemon = RockPokemon(name=\"Conan\", hp=100)\n",
        "            enemy = Character(name=\"Goblin\", hp=30)\n",
        "            RockPokemon.attack(enemy)\n",
        "            # Output: \"Conan attacks Goblin for 10 damage! Goblin HP: 20\"\n",
        "        \"\"\"\n",
        "        # define the damage variable, this is the amount of damage to inflict on the target, this should be a constant value of 10\n",
        "        \n",
        "        ...\n",
        "        # call the take_damage method on the target character, passing the damage value as an argument\n",
        "        ...\n",
        "        # print the attack message, this should say \"<self.name> attacks <target.name> for <damage> damage! <target.name> HP: <target.hp>\"\n",
        "        # anywhere you see <> replace it with the actual values, dynamically from the variable values\n",
        "        ..."
      ]
    },
    {
      "cell_type": "code",
      "execution_count": null,
      "metadata": {
        "deletable": false,
        "editable": false,
        "tags": [
          "skip-execution"
        ]
      },
      "outputs": [],
      "source": [
        "grader.check(\"Implement-the-RockPokemon-class\")"
      ]
    },
    {
      "cell_type": "markdown",
      "metadata": {
        "deletable": false,
        "editable": false
      },
      "source": [
        "### Question 6-Part 4 (Points: 4.90): Battle Simulation\n",
        "\n",
        "This function simulates a battle between two characters until one of them is defeated. It prints the progress of the battle, including each attack made by the characters, the remaining HP of the characters after each attack, and the outcome of the battle."
      ]
    },
    {
      "cell_type": "code",
      "execution_count": null,
      "metadata": {
        "tags": [
          "otter_answer_cell",
          "skip-execution"
        ]
      },
      "outputs": [],
      "source": [
        "# define a function called battle that takes two parameters, character1 and character2\n",
        "...\n",
        "    \"\"\"\n",
        "    Simulates a battle between two characters until one of them is defeated.\n",
        "\n",
        "    Parameters:\n",
        "    character1 (Character): The first character participating in the battle. They deal damage first.\n",
        "    character2 (Character): The second character participating in the battle. They deal damage second.\n",
        "    \n",
        "    Note: if a character has 0 HP or less, they are considered defeated and the battle ends, immediately printing the outcome of the battle.\n",
        "\n",
        "    The function will print the progress of the battle, including:\n",
        "    - The start of the battle with the message \"Battle Start!\".\n",
        "    - Each attack made by the characters, including the attacker's name, the target's name, the damage dealt, and the target's remaining HP.\n",
        "    - The remaining HP of the characters after each attack.\n",
        "    - The outcome of the battle, indicating which character has been defeated and which one is the winner, with messages like \"{character_name} has been defeated! {winner_name} wins!\".\n",
        "\n",
        "    Example Outputs:\n",
        "    - \"Battle Start!\"\n",
        "    - \"Gandalf attacks Orc for 13 damage! Orc HP: 37\"\n",
        "    - \"Orc attacks Gandalf for 10 damage! Gandalf HP: 40\"\n",
        "    - \"Gandalf attacks Orc for 18 damage! Orc HP: 19\"\n",
        "    - \"Orc attacks Gandalf for 12 damage! Gandalf HP: 28\"\n",
        "    - \"Orc has been defeated! Gandalf wins!\"\n",
        "\n",
        "    The battle continues in a loop until one of the characters' HP reaches 0.\n",
        "    \"\"\"\n",
        "    print(\"Battle Start!\")\n",
        "    # write a while loop that continues until one of the characters' HP reaches 0\n",
        "    ...\n",
        "        # call the character1's attack method with character2 as the target\n",
        "        ...\n",
        "        # check if character2's HP is 0\n",
        "        \n",
        "        ...\n",
        "        \n",
        "            # print the outcome of the battle, it should say \"<character2.name> has been defeated! <character1.name> wins!\"\n",
        "            ...\n",
        "            \n",
        "            # break out of the loop\n",
        "            ...\n",
        "        \n",
        "        # call the character2's attack method with character1 as the target\n",
        "        ...\n",
        "        \n",
        "        # check if character1's HP is 0\n",
        "        ...\n",
        "            # print the outcome of the battle, it should say \"<character1.name> has been defeated! <character2.name> wins!\"\n",
        "            ...\n",
        "            \n",
        "            # break out of the loop\n",
        "            ..."
      ]
    },
    {
      "cell_type": "code",
      "execution_count": null,
      "metadata": {
        "deletable": false,
        "editable": false,
        "tags": [
          "skip-execution"
        ]
      },
      "outputs": [],
      "source": [
        "grader.check(\"battle-function\")"
      ]
    },
    {
      "cell_type": "markdown",
      "metadata": {
        "deletable": false,
        "editable": false
      },
      "source": [
        "### Question 6-Part 5 (Points: 1.00): Calling the Function"
      ]
    },
    {
      "cell_type": "code",
      "execution_count": null,
      "metadata": {
        "tags": [
          "otter_answer_cell",
          "skip-execution"
        ]
      },
      "outputs": [],
      "source": [
        "# Create characters\n",
        "# instantiate two RockPokemon classes with the names \"Geodude\" and \"Onyx\", \n",
        "# and 100 and 90 hit points respectively\n",
        "# the instances should be named geodude and onyx respectively\n",
        "..."
      ]
    },
    {
      "cell_type": "code",
      "execution_count": null,
      "metadata": {
        "deletable": false,
        "editable": false,
        "tags": [
          "skip-execution"
        ]
      },
      "outputs": [],
      "source": [
        "grader.check(\"calling-the-function\")"
      ]
    },
    {
      "cell_type": "markdown",
      "metadata": {
        "deletable": false,
        "editable": false
      },
      "source": [
        "### Question 6-Part 6 (Points: 1.60): Battle Simulation\n",
        "\n",
        "Makes the characters battle each other."
      ]
    },
    {
      "cell_type": "code",
      "execution_count": null,
      "metadata": {
        "tags": [
          "otter_answer_cell",
          "skip-execution"
        ]
      },
      "outputs": [],
      "source": [
        "# Start the battle between the geodude and the onyx, where the geodude deals damage first and the onyx deals damage second\n",
        "..."
      ]
    },
    {
      "cell_type": "code",
      "execution_count": null,
      "metadata": {
        "deletable": false,
        "editable": false,
        "tags": [
          "skip-execution"
        ]
      },
      "outputs": [],
      "source": [
        "grader.check(\"battle-simulation-test\")"
      ]
    },
    {
      "cell_type": "markdown",
      "metadata": {
        "deletable": false,
        "editable": false
      },
      "source": [
        "## Question None (Points: 30.00): BONUS: Island Counting \ud83c\udfdd\ufe0f\n",
        "\n",
        "Given an m x n 2D binary grid grid which represents a map of '1's (land) and '0's (water), return the number of islands.\n",
        "\n",
        "An island is surrounded by water and is formed by connecting adjacent lands horizontally or vertically. You may assume all four edges of the grid are all surrounded by water.\n",
        "\n",
        "Example 1:\n",
        "```python\n",
        "Input: grid = [\n",
        "  [\"1\",\"1\",\"1\",\"1\",\"0\"],\n",
        "  [\"1\",\"1\",\"0\",\"1\",\"0\"],\n",
        "  [\"1\",\"1\",\"0\",\"0\",\"0\"],\n",
        "  [\"0\",\"0\",\"0\",\"0\",\"0\"]\n",
        "]\n",
        "```\n",
        "Output: \n",
        "```bash\n",
        "1\n",
        "```\n",
        "Example 2:\n",
        "```py\n",
        "Input: grid = [\n",
        "  [\"1\",\"1\",\"0\",\"0\",\"0\"],\n",
        "  [\"1\",\"1\",\"0\",\"0\",\"0\"],\n",
        "  [\"0\",\"0\",\"1\",\"0\",\"0\"],\n",
        "  [\"0\",\"0\",\"0\",\"1\",\"1\"]\n",
        "]\n",
        "```\n",
        "Output: \n",
        "```bash\n",
        "3\n",
        "```\n",
        " \n",
        "Constraints:\n",
        "```py\n",
        "m == grid.length\n",
        "n == grid[i].length\n",
        "1 <= m, n <= 300\n",
        "grid[i][j] is '0' or '1'.\n",
        "```"
      ]
    },
    {
      "cell_type": "code",
      "execution_count": null,
      "metadata": {
        "tags": [
          "otter_answer_cell",
          "skip-execution"
        ]
      },
      "outputs": [],
      "source": [
        "# Import the List from typing\n",
        "...\n",
        "\n",
        "# Define `Islands` class\n",
        "# it must have a method `numIslands` which returns the number of islands in the grid\n",
        "# the numIslands method must take a parameter `grid` which is a list of lists of strings\n",
        "# the numIslands method must return an integer\n",
        "..."
      ]
    },
    {
      "cell_type": "code",
      "execution_count": null,
      "metadata": {
        "deletable": false,
        "editable": false,
        "tags": [
          "skip-execution"
        ]
      },
      "outputs": [],
      "source": [
        "grader.check(\"create-class-islands\")"
      ]
    },
    {
      "cell_type": "markdown",
      "id": "19d35b24",
      "metadata": {},
      "source": [
        "## Submitting Assignment\n",
        "\n",
        "Please run the following block of code using `shift + enter` to submit your assignment, you should see your score."
      ]
    },
    {
      "cell_type": "code",
      "execution_count": null,
      "id": "2fc10fd0",
      "metadata": {
        "deletable": false,
        "editable": true,
        "tags": [
          "skip-execution"
        ]
      },
      "outputs": [],
      "source": [
        "from pykubegrader.tokens.validate_token import validate_token\n",
        "validate_token(assignment = 'week11-finalexam')\n",
        "\n",
        "\n",
        "from pykubegrader.submit.submit_assignment import submit_assignment\n",
        "\n",
        "submit_assignment(\"week11-finalexam\", \"1_finalexam_q\")"
      ]
    },
    {
      "cell_type": "markdown",
      "id": "72103ccd",
      "metadata": {},
      "source": [
        "## Submitting Final Assignment\n",
        "\n",
        "Please run this cell with the provided token to identify your submission as final. Once your submission is final, you will not be able to make any changes to your assignment. "
      ]
    },
    {
      "cell_type": "code",
      "execution_count": null,
      "id": "4ced5b70",
      "metadata": {
        "deletable": false,
        "editable": true,
        "tags": [
          "skip-execution"
        ]
      },
      "outputs": [],
      "source": [
        "from pykubegrader.submit.final_submission import final_submission\n",
        "\n",
        "final_submission(assignment='week11-finalexam', assignment_type='finalexam', token='replace your token here', week_number = 11)"
      ]
    }
  ],
  "metadata": {
    "kernelspec": {
      "display_name": "Python 3",
      "language": "python",
      "name": "python3"
    },
    "language_info": {
      "codemirror_mode": {
        "name": "ipython",
        "version": 3
      },
      "file_extension": ".py",
      "mimetype": "text/x-python",
      "name": "python",
      "nbconvert_exporter": "python",
      "pygments_lexer": "ipython3",
      "version": "3.12.9"
    },
    "otter": {
      "OK_FORMAT": true,
      "tests": {
        "Character-class": {
          "name": "Character-class",
          "points": null,
          "suites": [
            {
              "cases": [
                {
                  "code": ">>> from pykubegrader.telemetry import ensure_responses, log_variable, score_question, submit_question, telemetry, update_responses\n>>> import os\n>>> import base64\n>>> import matplotlib\n>>> from pykubegrader.tokens.validate_token import validate_token\n>>> validate_token(assignment='week11-finalexam')\n>>> import matplotlib\n>>> matplotlib.use('Agg')\n>>> max_question_points = str(5.0)\n>>> earned_points = 0\n>>> os.environ['EARNED_POINTS'] = str(earned_points)\n>>> os.environ['TOTAL_POINTS_FREE_RESPONSE'] = str(91.0)\n>>> from pykubegrader.tokens.validate_token import validate_token\n>>> validate_token(assignment='week11-finalexam')\n>>> log_variable('total-points', f'week11-finalexam, 1_finalexam_q', 91.0)\n>>> question_id = 'Character-class-1'\n>>> max_score = 0.5\n>>> score = 0\n>>> exec(base64.b64decode('Y29uZGl0aW9uID0gIkNoYXJhY3RlciIgaW4gZ2xvYmFscygp').decode())\n>>> assert condition, 'Character class is not defined.'\n>>> if condition:\n...     score = 0.5\n>>> earned_points = float(os.environ.get('EARNED_POINTS', 0))\n>>> earned_points += score\n>>> log_variable('1_finalexam_q', f'{score}, {max_score}', question_id)\n>>> os.environ['EARNED_POINTS'] = str(earned_points)\n",
                  "failure_message": "Character class is not defined or incorrect.",
                  "hidden": false,
                  "locked": false,
                  "points": 0.5,
                  "success_message": "Success: Character class is defined correctly."
                },
                {
                  "code": ">>> from pykubegrader.telemetry import ensure_responses, log_variable, score_question, submit_question, telemetry, update_responses\n>>> import os\n>>> import base64\n>>> import matplotlib\n>>> from pykubegrader.tokens.validate_token import validate_token\n>>> validate_token(assignment='week11-finalexam')\n>>> import matplotlib\n>>> matplotlib.use('Agg')\n>>> question_id = 'Character-class-2'\n>>> max_score = 0.5\n>>> score = 0\n>>> exec(base64.b64decode('Y29uZGl0aW9uID0gaXNzdWJjbGFzcyhDaGFyYWN0ZXIsIEFCQyk=').decode())\n>>> assert condition, 'Character does not inherit from ABC.'\n>>> if condition:\n...     score = 0.5\n>>> earned_points = float(os.environ.get('EARNED_POINTS', 0))\n>>> earned_points += score\n>>> log_variable('1_finalexam_q', f'{score}, {max_score}', question_id)\n>>> os.environ['EARNED_POINTS'] = str(earned_points)\n",
                  "failure_message": "Character class does not inherit from ABC.",
                  "hidden": false,
                  "locked": false,
                  "points": 0.5,
                  "success_message": "Success: Character class inherits from ABC."
                },
                {
                  "code": ">>> from pykubegrader.telemetry import ensure_responses, log_variable, score_question, submit_question, telemetry, update_responses\n>>> import os\n>>> import base64\n>>> import matplotlib\n>>> from pykubegrader.tokens.validate_token import validate_token\n>>> validate_token(assignment='week11-finalexam')\n>>> import matplotlib\n>>> matplotlib.use('Agg')\n>>> question_id = 'Character-class-3'\n>>> max_score = 0.5\n>>> score = 0\n>>> exec(base64.b64decode('Y29uZGl0aW9uID0gaGFzYXR0cihDaGFyYWN0ZXIsICJfX2luaXRfXyIp').decode())\n>>> assert condition, 'Character class is missing __init__ method.'\n>>> if condition:\n...     score = 0.5\n>>> earned_points = float(os.environ.get('EARNED_POINTS', 0))\n>>> earned_points += score\n>>> log_variable('1_finalexam_q', f'{score}, {max_score}', question_id)\n>>> os.environ['EARNED_POINTS'] = str(earned_points)\n",
                  "failure_message": "Character class is missing __init__ method.",
                  "hidden": false,
                  "locked": false,
                  "points": 0.5,
                  "success_message": "Success: Character class has an __init__ method."
                },
                {
                  "code": ">>> from pykubegrader.telemetry import ensure_responses, log_variable, score_question, submit_question, telemetry, update_responses\n>>> import os\n>>> import base64\n>>> import matplotlib\n>>> from pykubegrader.tokens.validate_token import validate_token\n>>> validate_token(assignment='week11-finalexam')\n>>> import matplotlib\n>>> matplotlib.use('Agg')\n>>> question_id = 'Character-class-4'\n>>> max_score = 0.5\n>>> score = 0\n>>> exec(base64.b64decode('Y29uZGl0aW9uID0gIm5hbWUiIGluIENoYXJhY3Rlci5fX2luaXRfXy5fX2NvZGVfXy5jb192YXJuYW1lcw==').decode())\n>>> assert condition, \"__init__ method does not accept 'name' argument.\"\n>>> if condition:\n...     score = 0.5\n>>> earned_points = float(os.environ.get('EARNED_POINTS', 0))\n>>> earned_points += score\n>>> log_variable('1_finalexam_q', f'{score}, {max_score}', question_id)\n>>> os.environ['EARNED_POINTS'] = str(earned_points)\n",
                  "failure_message": "__init__ method does not accept 'name' argument.",
                  "hidden": false,
                  "locked": false,
                  "points": 0.5,
                  "success_message": "Success: __init__ method correctly accepts 'name' argument."
                },
                {
                  "code": ">>> from pykubegrader.telemetry import ensure_responses, log_variable, score_question, submit_question, telemetry, update_responses\n>>> import os\n>>> import base64\n>>> import matplotlib\n>>> from pykubegrader.tokens.validate_token import validate_token\n>>> validate_token(assignment='week11-finalexam')\n>>> import matplotlib\n>>> matplotlib.use('Agg')\n>>> question_id = 'Character-class-5'\n>>> max_score = 0.5\n>>> score = 0\n>>> exec(base64.b64decode('Y29uZGl0aW9uID0gImhwIiBpbiBDaGFyYWN0ZXIuX19pbml0X18uX19jb2RlX18uY29fdmFybmFtZXM=').decode())\n>>> assert condition, \"__init__ method does not accept 'hp' argument.\"\n>>> if condition:\n...     score = 0.5\n>>> earned_points = float(os.environ.get('EARNED_POINTS', 0))\n>>> earned_points += score\n>>> log_variable('1_finalexam_q', f'{score}, {max_score}', question_id)\n>>> os.environ['EARNED_POINTS'] = str(earned_points)\n",
                  "failure_message": "__init__ method does not accept 'hp' argument.",
                  "hidden": false,
                  "locked": false,
                  "points": 0.5,
                  "success_message": "Success: __init__ method correctly accepts 'hp' argument."
                },
                {
                  "code": ">>> from pykubegrader.telemetry import ensure_responses, log_variable, score_question, submit_question, telemetry, update_responses\n>>> import os\n>>> import base64\n>>> import matplotlib\n>>> from pykubegrader.tokens.validate_token import validate_token\n>>> validate_token(assignment='week11-finalexam')\n>>> import matplotlib\n>>> matplotlib.use('Agg')\n>>> question_id = 'Character-class-6'\n>>> max_score = 0.5\n>>> score = 0\n>>> exec(base64.b64decode('Y29uZGl0aW9uID0gaGFzYXR0cihDaGFyYWN0ZXIsICJ0YWtlX2RhbWFnZSIp').decode())\n>>> assert condition, 'Character class is missing take_damage method.'\n>>> if condition:\n...     score = 0.5\n>>> earned_points = float(os.environ.get('EARNED_POINTS', 0))\n>>> earned_points += score\n>>> log_variable('1_finalexam_q', f'{score}, {max_score}', question_id)\n>>> os.environ['EARNED_POINTS'] = str(earned_points)\n",
                  "failure_message": "Character class is missing take_damage method.",
                  "hidden": false,
                  "locked": false,
                  "points": 0.5,
                  "success_message": "Success: take_damage method exists."
                },
                {
                  "code": ">>> from pykubegrader.telemetry import ensure_responses, log_variable, score_question, submit_question, telemetry, update_responses\n>>> import os\n>>> import base64\n>>> import matplotlib\n>>> from pykubegrader.tokens.validate_token import validate_token\n>>> validate_token(assignment='week11-finalexam')\n>>> import matplotlib\n>>> matplotlib.use('Agg')\n>>> question_id = 'Character-class-7'\n>>> max_score = 0.5\n>>> score = 0\n>>> exec(base64.b64decode('Y29uZGl0aW9uID0gY2FsbGFibGUoZ2V0YXR0cihDaGFyYWN0ZXIsICJ0YWtlX2RhbWFnZSIpKQ==').decode())\n>>> assert condition, 'take_damage is not a method.'\n>>> if condition:\n...     score = 0.5\n>>> earned_points = float(os.environ.get('EARNED_POINTS', 0))\n>>> earned_points += score\n>>> log_variable('1_finalexam_q', f'{score}, {max_score}', question_id)\n>>> os.environ['EARNED_POINTS'] = str(earned_points)\n",
                  "failure_message": "take_damage is not a method.",
                  "hidden": false,
                  "locked": false,
                  "points": 0.5,
                  "success_message": "Success: take_damage method is callable."
                },
                {
                  "code": ">>> from pykubegrader.telemetry import ensure_responses, log_variable, score_question, submit_question, telemetry, update_responses\n>>> import os\n>>> import base64\n>>> import matplotlib\n>>> from pykubegrader.tokens.validate_token import validate_token\n>>> validate_token(assignment='week11-finalexam')\n>>> import matplotlib\n>>> matplotlib.use('Agg')\n>>> question_id = 'Character-class-8'\n>>> max_score = 0.3\n>>> score = 0\n>>> class TestCharacter(Character):\n...     def attack(self):\n...         pass\n>>> exec(base64.b64decode('Y2hhciA9IFRlc3RDaGFyYWN0ZXIoIlRlc3QiLCAxMCkKY2hhci5ocCA9IDEwCmNoYXIudGFrZV9kYW1hZ2UoMykKY29uZGl0aW9uID0gY2hhci5ocCA9PSA3').decode())\n>>> assert condition, 'take_damage did not reduce hp correctly.'\n>>> if condition:\n...     score = 0.3\n>>> earned_points = float(os.environ.get('EARNED_POINTS', 0))\n>>> earned_points += score\n>>> log_variable('1_finalexam_q', f'{score}, {max_score}', question_id)\n>>> os.environ['EARNED_POINTS'] = str(earned_points)\n",
                  "failure_message": "take_damage does not reduce hp correctly.",
                  "hidden": false,
                  "locked": false,
                  "points": 0.3,
                  "success_message": "Success: take_damage correctly reduces hp."
                },
                {
                  "code": ">>> from pykubegrader.telemetry import ensure_responses, log_variable, score_question, submit_question, telemetry, update_responses\n>>> import os\n>>> import base64\n>>> import matplotlib\n>>> from pykubegrader.tokens.validate_token import validate_token\n>>> validate_token(assignment='week11-finalexam')\n>>> import matplotlib\n>>> matplotlib.use('Agg')\n>>> question_id = 'Character-class-9'\n>>> max_score = 0.3\n>>> score = 0\n>>> class TestCharacter(Character):\n...     def attack(self):\n...         pass\n>>> exec(base64.b64decode('Y2hhciA9IFRlc3RDaGFyYWN0ZXIoIlRlc3QiLCAxMCkKY2hhci5ocCA9IDEwCmNoYXIudGFrZV9kYW1hZ2UoMTApCmNvbmRpdGlvbiA9IGNoYXIuaHAgPT0gMA==').decode())\n>>> assert condition, 'take_damage did not prevent hp from going below zero.'\n>>> if condition:\n...     score = 0.3\n>>> earned_points = float(os.environ.get('EARNED_POINTS', 0))\n>>> earned_points += score\n>>> log_variable('1_finalexam_q', f'{score}, {max_score}', question_id)\n>>> os.environ['EARNED_POINTS'] = str(earned_points)\n",
                  "failure_message": "take_damage does not prevent hp from going below zero.",
                  "hidden": false,
                  "locked": false,
                  "points": 0.3,
                  "success_message": "Success: take_damage prevents hp from going below zero."
                },
                {
                  "code": ">>> from pykubegrader.telemetry import ensure_responses, log_variable, score_question, submit_question, telemetry, update_responses\n>>> import os\n>>> import base64\n>>> import matplotlib\n>>> from pykubegrader.tokens.validate_token import validate_token\n>>> validate_token(assignment='week11-finalexam')\n>>> import matplotlib\n>>> matplotlib.use('Agg')\n>>> question_id = 'Character-class-10'\n>>> max_score = 0.3\n>>> score = 0\n>>> exec(base64.b64decode('Y29uZGl0aW9uID0gaGFzYXR0cihDaGFyYWN0ZXIsICJhdHRhY2siKQ==').decode())\n>>> assert condition, 'Character class is missing attack method.'\n>>> if condition:\n...     score = 0.3\n>>> earned_points = float(os.environ.get('EARNED_POINTS', 0))\n>>> earned_points += score\n>>> log_variable('1_finalexam_q', f'{score}, {max_score}', question_id)\n>>> os.environ['EARNED_POINTS'] = str(earned_points)\n",
                  "failure_message": "Character class is missing attack method.",
                  "hidden": false,
                  "locked": false,
                  "points": 0.3,
                  "success_message": "Success: attack method exists."
                },
                {
                  "code": ">>> from pykubegrader.telemetry import ensure_responses, log_variable, score_question, submit_question, telemetry, update_responses\n>>> import os\n>>> import base64\n>>> import matplotlib\n>>> from pykubegrader.tokens.validate_token import validate_token\n>>> validate_token(assignment='week11-finalexam')\n>>> import matplotlib\n>>> matplotlib.use('Agg')\n>>> question_id = 'Character-class-11'\n>>> max_score = 0.3\n>>> score = 0\n>>> exec(base64.b64decode('Y29uZGl0aW9uID0gY2FsbGFibGUoZ2V0YXR0cihDaGFyYWN0ZXIsICJhdHRhY2siKSk=').decode())\n>>> assert condition, 'attack is not a method.'\n>>> if condition:\n...     score = 0.3\n>>> earned_points = float(os.environ.get('EARNED_POINTS', 0))\n>>> earned_points += score\n>>> log_variable('1_finalexam_q', f'{score}, {max_score}', question_id)\n>>> os.environ['EARNED_POINTS'] = str(earned_points)\n",
                  "failure_message": "attack is not a method.",
                  "hidden": false,
                  "locked": false,
                  "points": 0.3,
                  "success_message": "Success: attack method is callable."
                },
                {
                  "code": ">>> from pykubegrader.telemetry import ensure_responses, log_variable, score_question, submit_question, telemetry, update_responses\n>>> import os\n>>> import base64\n>>> import matplotlib\n>>> from pykubegrader.tokens.validate_token import validate_token\n>>> validate_token(assignment='week11-finalexam')\n>>> import matplotlib\n>>> matplotlib.use('Agg')\n>>> question_id = 'Character-class-12'\n>>> max_score = 0.3\n>>> score = 0\n>>> exec(base64.b64decode('Y29uZGl0aW9uID0gImF0dGFjayIgaW4gQ2hhcmFjdGVyLl9fYWJzdHJhY3RtZXRob2RzX18=').decode())\n>>> assert condition, 'attack method is not abstract.'\n>>> if condition:\n...     score = 0.3\n>>> earned_points = float(os.environ.get('EARNED_POINTS', 0))\n>>> earned_points += score\n>>> log_variable('1_finalexam_q', f'{score}, {max_score}', question_id)\n>>> os.environ['EARNED_POINTS'] = str(earned_points)\n",
                  "failure_message": "attack method is not abstract.",
                  "hidden": false,
                  "locked": false,
                  "points": 0.3,
                  "success_message": "Success: attack method is abstract."
                }
              ],
              "scored": true,
              "setup": "",
              "teardown": "",
              "type": "doctest"
            }
          ]
        },
        "Evaluating your model": {
          "name": "Evaluating your model",
          "points": null,
          "suites": [
            {
              "cases": [
                {
                  "code": ">>> from pykubegrader.telemetry import ensure_responses, log_variable, score_question, submit_question, telemetry, update_responses\n>>> import os\n>>> import base64\n>>> import matplotlib\n>>> from pykubegrader.tokens.validate_token import validate_token\n>>> validate_token(assignment='week11-finalexam')\n>>> import matplotlib\n>>> matplotlib.use('Agg')\n>>> max_question_points = str(0.0)\n>>> earned_points = 0\n>>> os.environ['EARNED_POINTS'] = str(earned_points)\n>>> os.environ['TOTAL_POINTS_FREE_RESPONSE'] = str(91.0)\n>>> from pykubegrader.tokens.validate_token import validate_token\n>>> validate_token(assignment='week11-finalexam')\n>>> log_variable('total-points', f'week11-finalexam, 1_finalexam_q', 91.0)\n>>> question_id = 'Evaluating your model-1'\n>>> max_score = 0.0\n>>> score = 0\n>>> assert True\n>>> if True:\n...     score = 0.0\n>>> earned_points = float(os.environ.get('EARNED_POINTS', 0))\n>>> earned_points += score\n>>> log_variable('1_finalexam_q', f'{score}, {max_score}', question_id)\n>>> os.environ['EARNED_POINTS'] = str(earned_points)\n",
                  "failure_message": "Failed: There are no graded tests for this question",
                  "hidden": false,
                  "locked": false,
                  "points": 0,
                  "success_message": "Success: There are no graded tests for this question"
                }
              ],
              "scored": true,
              "setup": "",
              "teardown": "",
              "type": "doctest"
            }
          ]
        },
        "Implement-the-RockPokemon-class": {
          "name": "Implement-the-RockPokemon-class",
          "points": null,
          "suites": [
            {
              "cases": [
                {
                  "code": ">>> from pykubegrader.telemetry import ensure_responses, log_variable, score_question, submit_question, telemetry, update_responses\n>>> import os\n>>> import base64\n>>> import matplotlib\n>>> from pykubegrader.tokens.validate_token import validate_token\n>>> validate_token(assignment='week11-finalexam')\n>>> import matplotlib\n>>> matplotlib.use('Agg')\n>>> max_question_points = str(4.0)\n>>> earned_points = 0\n>>> os.environ['EARNED_POINTS'] = str(earned_points)\n>>> os.environ['TOTAL_POINTS_FREE_RESPONSE'] = str(91.0)\n>>> from pykubegrader.tokens.validate_token import validate_token\n>>> validate_token(assignment='week11-finalexam')\n>>> log_variable('total-points', f'week11-finalexam, 1_finalexam_q', 91.0)\n>>> question_id = 'Implement-the-RockPokemon-class-1'\n>>> max_score = 0.5\n>>> score = 0\n>>> exec(base64.b64decode('Y29uZGl0aW9uID0gIlJvY2tQb2tlbW9uIiBpbiBnbG9iYWxzKCk=').decode())\n>>> assert condition, 'RockPokemon class is not defined.'\n>>> if condition:\n...     score = 0.5\n>>> earned_points = float(os.environ.get('EARNED_POINTS', 0))\n>>> earned_points += score\n>>> log_variable('1_finalexam_q', f'{score}, {max_score}', question_id)\n>>> os.environ['EARNED_POINTS'] = str(earned_points)\n",
                  "failure_message": "RockPokemon class is not defined or incorrect.",
                  "hidden": false,
                  "locked": false,
                  "points": 0.5,
                  "success_message": "Success: RockPokemon class is defined correctly."
                },
                {
                  "code": ">>> from pykubegrader.telemetry import ensure_responses, log_variable, score_question, submit_question, telemetry, update_responses\n>>> import os\n>>> import base64\n>>> import matplotlib\n>>> from pykubegrader.tokens.validate_token import validate_token\n>>> validate_token(assignment='week11-finalexam')\n>>> import matplotlib\n>>> matplotlib.use('Agg')\n>>> question_id = 'Implement-the-RockPokemon-class-2'\n>>> max_score = 0.5\n>>> score = 0\n>>> exec(base64.b64decode('Y29uZGl0aW9uID0gaXNzdWJjbGFzcyhSb2NrUG9rZW1vbiwgQ2hhcmFjdGVyKQ==').decode())\n>>> assert condition, 'RockPokemon does not inherit from Character.'\n>>> if condition:\n...     score = 0.5\n>>> earned_points = float(os.environ.get('EARNED_POINTS', 0))\n>>> earned_points += score\n>>> log_variable('1_finalexam_q', f'{score}, {max_score}', question_id)\n>>> os.environ['EARNED_POINTS'] = str(earned_points)\n",
                  "failure_message": "RockPokemon class does not inherit from Character.",
                  "hidden": false,
                  "locked": false,
                  "points": 0.5,
                  "success_message": "Success: RockPokemon class inherits from Character."
                },
                {
                  "code": ">>> from pykubegrader.telemetry import ensure_responses, log_variable, score_question, submit_question, telemetry, update_responses\n>>> import os\n>>> import base64\n>>> import matplotlib\n>>> from pykubegrader.tokens.validate_token import validate_token\n>>> validate_token(assignment='week11-finalexam')\n>>> import matplotlib\n>>> matplotlib.use('Agg')\n>>> question_id = 'Implement-the-RockPokemon-class-3'\n>>> max_score = 0.5\n>>> score = 0\n>>> exec(base64.b64decode('Y29uZGl0aW9uID0gaGFzYXR0cihSb2NrUG9rZW1vbiwgImF0dGFjayIp').decode())\n>>> assert condition, 'RockPokemon class is missing attack method.'\n>>> if condition:\n...     score = 0.5\n>>> earned_points = float(os.environ.get('EARNED_POINTS', 0))\n>>> earned_points += score\n>>> log_variable('1_finalexam_q', f'{score}, {max_score}', question_id)\n>>> os.environ['EARNED_POINTS'] = str(earned_points)\n",
                  "failure_message": "RockPokemon class is missing attack method.",
                  "hidden": false,
                  "locked": false,
                  "points": 0.5,
                  "success_message": "Success: RockPokemon class has an attack method."
                },
                {
                  "code": ">>> from pykubegrader.telemetry import ensure_responses, log_variable, score_question, submit_question, telemetry, update_responses\n>>> import os\n>>> import base64\n>>> import matplotlib\n>>> from pykubegrader.tokens.validate_token import validate_token\n>>> validate_token(assignment='week11-finalexam')\n>>> import matplotlib\n>>> matplotlib.use('Agg')\n>>> question_id = 'Implement-the-RockPokemon-class-4'\n>>> max_score = 0.5\n>>> score = 0\n>>> exec(base64.b64decode('Y29uZGl0aW9uID0gY2FsbGFibGUoZ2V0YXR0cihSb2NrUG9rZW1vbiwgImF0dGFjayIpKQ==').decode())\n>>> assert condition, 'attack is not a method.'\n>>> if condition:\n...     score = 0.5\n>>> earned_points = float(os.environ.get('EARNED_POINTS', 0))\n>>> earned_points += score\n>>> log_variable('1_finalexam_q', f'{score}, {max_score}', question_id)\n>>> os.environ['EARNED_POINTS'] = str(earned_points)\n",
                  "failure_message": "attack is not a method.",
                  "hidden": false,
                  "locked": false,
                  "points": 0.5,
                  "success_message": "Success: attack method is callable."
                },
                {
                  "code": ">>> from pykubegrader.telemetry import ensure_responses, log_variable, score_question, submit_question, telemetry, update_responses\n>>> import os\n>>> import base64\n>>> import matplotlib\n>>> from pykubegrader.tokens.validate_token import validate_token\n>>> validate_token(assignment='week11-finalexam')\n>>> import matplotlib\n>>> matplotlib.use('Agg')\n>>> import io\n>>> import sys\n>>> import re\n>>> question_id = 'Implement-the-RockPokemon-class-5'\n>>> max_score = 1.5\n>>> score = 0\n>>> class MockCharacter(Character):\n...     def __init__(self, name, hp):\n...         self.name = name\n...         self.hp = hp\n...     def take_damage(self, amount):\n...         self.hp -= amount\n...     def attack(self, target):\n...         pass\n>>> exec(base64.b64decode('IyBDcmVhdGUgYSBSb2NrUG9rZW1vbiBhbmQgYSBNb2NrQ2hhcmFjdGVyIHRvIHRlc3QgYXR0YWNrIGJlaGF2aW9yCnJvY2tfcG9rZW1vbiA9IFJvY2tQb2tlbW9uKG5hbWU9IkNvbmFuIiwgaHA9MTAwKQplbmVteSA9IE1vY2tDaGFyYWN0ZXIobmFtZT0iR29ibGluIiwgaHA9MzApCgpvcmlnaW5hbF9zdGRvdXQgPSBzeXMuc3Rkb3V0CnN5cy5zdGRvdXQgPSBpby5TdHJpbmdJTygpICAjIENhcHR1cmUgcHJpbnQgb3V0cHV0Cgpyb2NrX3Bva2Vtb24uYXR0YWNrKGVuZW15KQoKYXR0YWNrX291dHB1dCA9IHN5cy5zdGRvdXQuZ2V0dmFsdWUoKQpzeXMuc3Rkb3V0ID0gb3JpZ2luYWxfc3Rkb3V0ICAjIFJlc3RvcmUgc3Rkb3V0').decode())\n>>> def normalize_string(s):\n...     return re.sub('\\\\W+', '', s).lower()\n>>> assert enemy.hp == 20, 'attack method did not deal 10 damage correctly.'\n>>> exec(base64.b64decode('ZXhwZWN0ZWRfbWVzc2FnZSA9ICJDb25hbiBhdHRhY2tzIEdvYmxpbiBmb3IgMTAgZGFtYWdlISIKY29uZGl0aW9uID0gbm9ybWFsaXplX3N0cmluZyhleHBlY3RlZF9tZXNzYWdlKSBpbiBub3JtYWxpemVfc3RyaW5nKGF0dGFja19vdXRwdXQp').decode())\n>>> assert condition, 'attack method does not print the expected attack message.'\n>>> if enemy.hp == 20 and condition:\n...     score = 1.5\n>>> earned_points = float(os.environ.get('EARNED_POINTS', 0))\n>>> earned_points += score\n>>> log_variable('1_finalexam_q', f'{score}, {max_score}', question_id)\n>>> os.environ['EARNED_POINTS'] = str(earned_points)\n",
                  "failure_message": "attack method does not deal the correct damage value.",
                  "hidden": false,
                  "locked": false,
                  "points": 1.5,
                  "success_message": "Success: attack method deals a fixed damage of 10."
                },
                {
                  "code": ">>> from pykubegrader.telemetry import ensure_responses, log_variable, score_question, submit_question, telemetry, update_responses\n>>> import os\n>>> import base64\n>>> import matplotlib\n>>> from pykubegrader.tokens.validate_token import validate_token\n>>> validate_token(assignment='week11-finalexam')\n>>> import matplotlib\n>>> matplotlib.use('Agg')\n>>> import io\n>>> import sys\n>>> import re\n>>> class MockCharacter(Character):\n...     def __init__(self, name, hp):\n...         self.name = name\n...         self.hp = hp\n...     def take_damage(self, amount):\n...         self.hp -= amount\n...     def attack(self, target):\n...         pass\n>>> exec(base64.b64decode('IyBDcmVhdGUgYSBSb2NrUG9rZW1vbiBhbmQgYSBNb2NrQ2hhcmFjdGVyIHRvIHRlc3QgYXR0YWNrIGJlaGF2aW9yCnJvY2tfcG9rZW1vbiA9IFJvY2tQb2tlbW9uKG5hbWU9IkNvbmFuIiwgaHA9MTAwKQplbmVteSA9IE1vY2tDaGFyYWN0ZXIobmFtZT0iR29ibGluIiwgaHA9MzApCgpvcmlnaW5hbF9zdGRvdXQgPSBzeXMuc3Rkb3V0CnN5cy5zdGRvdXQgPSBpby5TdHJpbmdJTygpICAjIENhcHR1cmUgcHJpbnQgb3V0cHV0Cgpyb2NrX3Bva2Vtb24uYXR0YWNrKGVuZW15KQoKYXR0YWNrX291dHB1dCA9IHN5cy5zdGRvdXQuZ2V0dmFsdWUoKQpzeXMuc3Rkb3V0ID0gb3JpZ2luYWxfc3Rkb3V0ICAjIFJlc3RvcmUgc3Rkb3V0').decode())\n>>> import re\n>>> question_id = 'Implement-the-RockPokemon-class-6'\n>>> max_score = 0.5\n>>> score = 0\n>>> def normalize_string(s):\n...     return re.sub('\\\\W+', '', s).lower()\n>>> exec(base64.b64decode('ZXhwZWN0ZWRfb3V0cHV0ID0gIkNvbmFuIGF0dGFja3MgR29ibGluIGZvciAxMCBkYW1hZ2UhIEdvYmxpbiBIUDogMjAiCmNvbmRpdGlvbiA9IG5vcm1hbGl6ZV9zdHJpbmcoZXhwZWN0ZWRfb3V0cHV0KSBpbiBub3JtYWxpemVfc3RyaW5nKGF0dGFja19vdXRwdXQp').decode())\n>>> assert condition, 'attack method output is incorrect.'\n>>> if condition:\n...     score = 0.5\n>>> earned_points = float(os.environ.get('EARNED_POINTS', 0))\n>>> earned_points += score\n>>> log_variable('1_finalexam_q', f'{score}, {max_score}', question_id)\n>>> os.environ['EARNED_POINTS'] = str(earned_points)\n",
                  "failure_message": "attack method does not print the expected message.",
                  "hidden": false,
                  "locked": false,
                  "points": 0.5,
                  "success_message": "Success: attack method prints correct message."
                }
              ],
              "scored": true,
              "setup": "",
              "teardown": "",
              "type": "doctest"
            }
          ]
        },
        "battle-function": {
          "name": "battle-function",
          "points": null,
          "suites": [
            {
              "cases": [
                {
                  "code": ">>> from pykubegrader.telemetry import ensure_responses, log_variable, score_question, submit_question, telemetry, update_responses\n>>> import os\n>>> import base64\n>>> import matplotlib\n>>> from pykubegrader.tokens.validate_token import validate_token\n>>> validate_token(assignment='week11-finalexam')\n>>> import matplotlib\n>>> matplotlib.use('Agg')\n>>> max_question_points = str(4.9)\n>>> earned_points = 0\n>>> os.environ['EARNED_POINTS'] = str(earned_points)\n>>> os.environ['TOTAL_POINTS_FREE_RESPONSE'] = str(91.0)\n>>> from pykubegrader.tokens.validate_token import validate_token\n>>> validate_token(assignment='week11-finalexam')\n>>> log_variable('total-points', f'week11-finalexam, 1_finalexam_q', 91.0)\n>>> question_id = 'battle-function-1'\n>>> max_score = 0.5\n>>> score = 0\n>>> exec(base64.b64decode('Y29uZGl0aW9uID0gImJhdHRsZSIgaW4gZ2xvYmFscygp').decode())\n>>> assert condition, 'battle function is not defined.'\n>>> if condition:\n...     score = 0.5\n>>> earned_points = float(os.environ.get('EARNED_POINTS', 0))\n>>> earned_points += score\n>>> log_variable('1_finalexam_q', f'{score}, {max_score}', question_id)\n>>> os.environ['EARNED_POINTS'] = str(earned_points)\n",
                  "failure_message": "battle function is not defined or incorrect.",
                  "hidden": false,
                  "locked": false,
                  "points": 0.5,
                  "success_message": "Success: battle function is defined correctly."
                },
                {
                  "code": ">>> from pykubegrader.telemetry import ensure_responses, log_variable, score_question, submit_question, telemetry, update_responses\n>>> import os\n>>> import base64\n>>> import matplotlib\n>>> from pykubegrader.tokens.validate_token import validate_token\n>>> validate_token(assignment='week11-finalexam')\n>>> import matplotlib\n>>> matplotlib.use('Agg')\n>>> question_id = 'battle-function-2'\n>>> max_score = 0.5\n>>> score = 0\n>>> exec(base64.b64decode('Y29uZGl0aW9uID0gY2FsbGFibGUoYmF0dGxlKQ==').decode())\n>>> assert condition, 'battle is not a function.'\n>>> if condition:\n...     score = 0.5\n>>> earned_points = float(os.environ.get('EARNED_POINTS', 0))\n>>> earned_points += score\n>>> log_variable('1_finalexam_q', f'{score}, {max_score}', question_id)\n>>> os.environ['EARNED_POINTS'] = str(earned_points)\n",
                  "failure_message": "battle is not a function.",
                  "hidden": false,
                  "locked": false,
                  "points": 0.5,
                  "success_message": "Success: battle function is callable."
                },
                {
                  "code": ">>> from pykubegrader.telemetry import ensure_responses, log_variable, score_question, submit_question, telemetry, update_responses\n>>> import os\n>>> import base64\n>>> import matplotlib\n>>> from pykubegrader.tokens.validate_token import validate_token\n>>> validate_token(assignment='week11-finalexam')\n>>> import matplotlib\n>>> matplotlib.use('Agg')\n>>> question_id = 'battle-function-3'\n>>> max_score = 1.5\n>>> score = 0\n>>> exec(base64.b64decode('aW1wb3J0IHJlCmltcG9ydCBpbwppbXBvcnQgc3lzCgojIFNldCB1cCBjaGFyYWN0ZXJzCmNoYXIxID0gUm9ja1Bva2Vtb24obmFtZT0iV2FycmlvciIsIGhwPTMwKQpjaGFyMiA9IFJvY2tQb2tlbW9uKG5hbWU9Ik1hZ2UiLCBocD0zMCkKCiMgQ2FwdHVyZSBvdXRwdXQKb3JpZ2luYWxfc3Rkb3V0ID0gc3lzLnN0ZG91dApzeXMuc3Rkb3V0ID0gaW8uU3RyaW5nSU8oKQoKYmF0dGxlKGNoYXIxLCBjaGFyMikKYmF0dGxlX291dHB1dCA9IHN5cy5zdGRvdXQuZ2V0dmFsdWUoKQpzeXMuc3Rkb3V0ID0gb3JpZ2luYWxfc3Rkb3V0ICAjIFJlc3RvcmUgc3Rkb3V0CgojIE5vcm1hbGl6ZSB0aGUgb3V0cHV0IGJ5IHJlbW92aW5nIHB1bmN0dWF0aW9uLCB3aGl0ZXNwYWNlLCBhbmQgY29udmVydGluZyB0byBsb3dlcmNhc2UKbm9ybWFsaXplZF9vdXRwdXQgPSByZS5zdWIocidcVysnLCAnJywgYmF0dGxlX291dHB1dCkubG93ZXIoKQpjb25kaXRpb24gPSAid2FycmlvcmF0dGFja3NtYWdlZm9yIiBpbiBub3JtYWxpemVkX291dHB1dCBvciAibWFnZWF0dGFja3N3YXJyaW9yZm9yIiBpbiBub3JtYWxpemVkX291dHB1dA==').decode())\n>>> assert condition, 'battle function does not handle turns correctly.'\n>>> if condition:\n...     score = 1.5\n>>> earned_points = float(os.environ.get('EARNED_POINTS', 0))\n>>> earned_points += score\n>>> log_variable('1_finalexam_q', f'{score}, {max_score}', question_id)\n>>> os.environ['EARNED_POINTS'] = str(earned_points)\n",
                  "failure_message": "battle function does not execute character turns correctly.",
                  "hidden": false,
                  "locked": false,
                  "points": 1.5,
                  "success_message": "Success: battle function executes turns correctly."
                },
                {
                  "code": ">>> from pykubegrader.telemetry import ensure_responses, log_variable, score_question, submit_question, telemetry, update_responses\n>>> import os\n>>> import base64\n>>> import matplotlib\n>>> from pykubegrader.tokens.validate_token import validate_token\n>>> validate_token(assignment='week11-finalexam')\n>>> import matplotlib\n>>> matplotlib.use('Agg')\n>>> question_id = 'battle-function-4'\n>>> max_score = 0.5\n>>> score = 0\n>>> exec(base64.b64decode('aW1wb3J0IHJlCmltcG9ydCBpbwppbXBvcnQgc3lz').decode())\n>>> exec(base64.b64decode('Y2hhcjEgPSBSb2NrUG9rZW1vbihuYW1lPSJXYXJyaW9yIiwgaHA9MzApCmNoYXIyID0gUm9ja1Bva2Vtb24obmFtZT0iTWFnZSIsIGhwPTMwKQ==').decode())\n>>> original_stdout = sys.stdout\n>>> sys.stdout = io.StringIO()\n>>> exec(base64.b64decode('YmF0dGxlKGNoYXIxLCBjaGFyMik=').decode())\n>>> battle_output = sys.stdout.getvalue()\n>>> sys.stdout = original_stdout\n>>> exec(base64.b64decode('Y29uZGl0aW9uID0gImhhcyBiZWVuIGRlZmVhdGVkISIgaW4gYmF0dGxlX291dHB1dA==').decode())\n>>> assert condition, 'battle function does not declare a winner when a character reaches 0 HP.'\n>>> if condition:\n...     score = 0.5\n>>> earned_points = float(os.environ.get('EARNED_POINTS', 0))\n>>> earned_points += score\n>>> log_variable('1_finalexam_q', f'{score}, {max_score}', question_id)\n>>> os.environ['EARNED_POINTS'] = str(earned_points)\n",
                  "failure_message": "battle function does not stop when a character reaches 0 HP.",
                  "hidden": false,
                  "locked": false,
                  "points": 0.5,
                  "success_message": "Success: battle function correctly ends when a character is defeated."
                },
                {
                  "code": ">>> from pykubegrader.telemetry import ensure_responses, log_variable, score_question, submit_question, telemetry, update_responses\n>>> import os\n>>> import base64\n>>> import matplotlib\n>>> from pykubegrader.tokens.validate_token import validate_token\n>>> validate_token(assignment='week11-finalexam')\n>>> import matplotlib\n>>> matplotlib.use('Agg')\n>>> question_id = 'battle-function-5'\n>>> max_score = 0.4\n>>> score = 0\n>>> exec(base64.b64decode('aW1wb3J0IHJlCmltcG9ydCBpbwppbXBvcnQgc3lz').decode())\n>>> exec(base64.b64decode('Y2hhcjEgPSBSb2NrUG9rZW1vbihuYW1lPSJXYXJyaW9yIiwgaHA9MzApCmNoYXIyID0gUm9ja1Bva2Vtb24obmFtZT0iTWFnZSIsIGhwPTMwKQ==').decode())\n>>> original_stdout = sys.stdout\n>>> sys.stdout = io.StringIO()\n>>> exec(base64.b64decode('YmF0dGxlKGNoYXIxLCBjaGFyMik=').decode())\n>>> battle_output = sys.stdout.getvalue()\n>>> sys.stdout = original_stdout\n>>> exec(base64.b64decode('d2lubmVyX25hbWUgPSBjaGFyMS5uYW1lIGlmIGNoYXIxLmhwID4gMCBlbHNlIGNoYXIyLm5hbWUKY29uZGl0aW9uID0gZiJ7d2lubmVyX25hbWV9IHdpbnMhIiBpbiBiYXR0bGVfb3V0cHV0').decode())\n>>> assert condition, 'battle function does not print the correct winner announcement.'\n>>> if condition:\n...     score = 0.4\n>>> earned_points = float(os.environ.get('EARNED_POINTS', 0))\n>>> earned_points += score\n>>> log_variable('1_finalexam_q', f'{score}, {max_score}', question_id)\n>>> os.environ['EARNED_POINTS'] = str(earned_points)\n",
                  "failure_message": "battle function does not correctly announce the winning character.",
                  "hidden": false,
                  "locked": false,
                  "points": 0.4,
                  "success_message": "Success: battle function correctly announces the winner."
                },
                {
                  "code": ">>> from pykubegrader.telemetry import ensure_responses, log_variable, score_question, submit_question, telemetry, update_responses\n>>> import os\n>>> import base64\n>>> import matplotlib\n>>> from pykubegrader.tokens.validate_token import validate_token\n>>> validate_token(assignment='week11-finalexam')\n>>> import matplotlib\n>>> matplotlib.use('Agg')\n>>> import io\n>>> import sys\n>>> question_id = 'battle-function-6'\n>>> max_score = 0.5\n>>> score = 0\n>>> class MockCharacter(Character):\n...     def __init__(self, name, hp, damage):\n...         self.name = name\n...         self.hp = hp\n...         self.damage = damage\n...     def attack(self, target):\n...         target.take_damage(self.damage)\n...     def take_damage(self, amount):\n...         self.hp -= amount\n...         if self.hp < 0:\n...             self.hp = 0\n>>> exec(base64.b64decode('ZGVmZW5zZV9jaGVja19jaGFyMSA9IE1vY2tDaGFyYWN0ZXIobmFtZT0iRGVmZW5kZXIxIiwgaHA9MTAsIGRhbWFnZT01KQpkZWZlbnNlX2NoZWNrX2NoYXIyID0gTW9ja0NoYXJhY3RlcihuYW1lPSJEZWZlbmRlcjIiLCBocD01LCBkYW1hZ2U9MykKCm9yaWdpbmFsX3N0ZG91dCA9IHN5cy5zdGRvdXQKc3lzLnN0ZG91dCA9IGlvLlN0cmluZ0lPKCkKYmF0dGxlKGRlZmVuc2VfY2hlY2tfY2hhcjEsIGRlZmVuc2VfY2hlY2tfY2hhcjIpCnN5cy5zdGRvdXQuc2VlaygwKQpkZWZlbnNlX2NoZWNrX291dHB1dCA9IHN5cy5zdGRvdXQucmVhZCgpCnN5cy5zdGRvdXQgPSBvcmlnaW5hbF9zdGRvdXQgICMgUmVzdG9yZSBzdGRvdXQKCmRlZmVhdGVkX2NoYXIgPSAiRGVmZW5kZXIyIiBpZiAiRGVmZW5kZXIyIGhhcyBiZWVuIGRlZmVhdGVkISIgaW4gZGVmZW5zZV9jaGVja19vdXRwdXQgZWxzZSAiRGVmZW5kZXIxIgpjb25kaXRpb24gPSBmIntkZWZlYXRlZF9jaGFyfSBhdHRhY2tzIiBub3QgaW4gZGVmZW5zZV9jaGVja19vdXRwdXQuc3BsaXQoZiJ7ZGVmZWF0ZWRfY2hhcn0gaGFzIGJlZW4gZGVmZWF0ZWQhIilbMV0=').decode())\n>>> assert condition, 'battle function allows attacks after a character is defeated.'\n>>> if condition:\n...     score = 0.5\n>>> earned_points = float(os.environ.get('EARNED_POINTS', 0))\n>>> earned_points += score\n>>> log_variable('1_finalexam_q', f'{score}, {max_score}', question_id)\n>>> os.environ['EARNED_POINTS'] = str(earned_points)\n",
                  "failure_message": "battle function does not stop attacks after a character is defeated.",
                  "hidden": false,
                  "locked": false,
                  "points": 0.5,
                  "success_message": "Success: battle function prevents further attacks after a character is defeated."
                },
                {
                  "code": ">>> from pykubegrader.telemetry import ensure_responses, log_variable, score_question, submit_question, telemetry, update_responses\n>>> import os\n>>> import base64\n>>> import matplotlib\n>>> from pykubegrader.tokens.validate_token import validate_token\n>>> validate_token(assignment='week11-finalexam')\n>>> import matplotlib\n>>> matplotlib.use('Agg')\n>>> import io\n>>> import sys\n>>> question_id = 'battle-function-7'\n>>> max_score = 1.0\n>>> score = 0\n>>> class MockCharacter(Character):\n...     def __init__(self, name, hp, damage):\n...         self.name = name\n...         self.hp = hp\n...         self.damage = damage\n...     def attack(self, target):\n...         target.take_damage(self.damage)\n...     def take_damage(self, amount):\n...         self.hp -= amount\n...         if self.hp < 0:\n...             self.hp = 0\n>>> exec(base64.b64decode('ZGVmZW5zZV9jaGVja19jaGFyMSA9IE1vY2tDaGFyYWN0ZXIobmFtZT0iRGVmZW5kZXIxIiwgaHA9MTAsIGRhbWFnZT01KQpkZWZlbnNlX2NoZWNrX2NoYXIyID0gTW9ja0NoYXJhY3RlcihuYW1lPSJEZWZlbmRlcjIiLCBocD01LCBkYW1hZ2U9MykKCm9yaWdpbmFsX3N0ZG91dCA9IHN5cy5zdGRvdXQKc3lzLnN0ZG91dCA9IGlvLlN0cmluZ0lPKCkKYmF0dGxlKGRlZmVuc2VfY2hlY2tfY2hhcjEsIGRlZmVuc2VfY2hlY2tfY2hhcjIpCnN5cy5zdGRvdXQuc2VlaygwKQpkZWZlbnNlX2NoZWNrX291dHB1dCA9IHN5cy5zdGRvdXQucmVhZCgpCnN5cy5zdGRvdXQgPSBvcmlnaW5hbF9zdGRvdXQgICMgUmVzdG9yZSBzdGRvdXQKCmRlZmVhdGVkX2NoYXIgPSAiRGVmZW5kZXIyIiBpZiAiRGVmZW5kZXIyIGhhcyBiZWVuIGRlZmVhdGVkISIgaW4gZGVmZW5zZV9jaGVja19vdXRwdXQgZWxzZSAiRGVmZW5kZXIxIgpjb25kaXRpb24gPSBmIntkZWZlYXRlZF9jaGFyfSBhdHRhY2tzIiBub3QgaW4gZGVmZW5zZV9jaGVja19vdXRwdXQuc3BsaXQoZiJ7ZGVmZWF0ZWRfY2hhcn0gaGFzIGJlZW4gZGVmZWF0ZWQhIilbMV0=').decode())\n>>> assert condition, 'battle function allows attacks after a character is defeated.'\n>>> if condition:\n...     score = 1.0\n>>> earned_points = float(os.environ.get('EARNED_POINTS', 0))\n>>> earned_points += score\n>>> log_variable('1_finalexam_q', f'{score}, {max_score}', question_id)\n>>> os.environ['EARNED_POINTS'] = str(earned_points)\n",
                  "failure_message": "battle function does not stop attacks after a character is defeated.",
                  "hidden": false,
                  "locked": false,
                  "points": 1,
                  "success_message": "Success: battle function prevents further attacks after a character is defeated."
                }
              ],
              "scored": true,
              "setup": "",
              "teardown": "",
              "type": "doctest"
            }
          ]
        },
        "battle-simulation-test": {
          "name": "battle-simulation-test",
          "points": null,
          "suites": [
            {
              "cases": [
                {
                  "code": ">>> from pykubegrader.telemetry import ensure_responses, log_variable, score_question, submit_question, telemetry, update_responses\n>>> import os\n>>> import base64\n>>> import matplotlib\n>>> from pykubegrader.tokens.validate_token import validate_token\n>>> validate_token(assignment='week11-finalexam')\n>>> import matplotlib\n>>> matplotlib.use('Agg')\n>>> max_question_points = str(1.6)\n>>> earned_points = 0\n>>> os.environ['EARNED_POINTS'] = str(earned_points)\n>>> os.environ['TOTAL_POINTS_FREE_RESPONSE'] = str(91.0)\n>>> from pykubegrader.tokens.validate_token import validate_token\n>>> validate_token(assignment='week11-finalexam')\n>>> log_variable('total-points', f'week11-finalexam, 1_finalexam_q', 91.0)\n>>> question_id = 'battle-simulation-test-1'\n>>> max_score = 0.4\n>>> score = 0\n>>> exec(base64.b64decode('aW1wb3J0IGlvCmltcG9ydCBzeXM=').decode())\n>>> exec(base64.b64decode('Z2VvZHVkZSA9IFJvY2tQb2tlbW9uKCJHZW9kdWRlIiwgMTAwKQpvbnl4ID0gUm9ja1Bva2Vtb24oIk9ueXgiLCA5MCk=').decode())\n>>> original_stdout = sys.stdout\n>>> sys.stdout = io.StringIO()\n>>> exec(base64.b64decode('YmF0dGxlKGdlb2R1ZGUsIG9ueXgp').decode())\n>>> sys.stdout.seek(0)\n>>> battle_output = sys.stdout.read()\n>>> sys.stdout = original_stdout\n>>> exec(base64.b64decode('Y29uZGl0aW9uID0gIkdlb2R1ZGUgYXR0YWNrcyBPbnl4IiBpbiBiYXR0bGVfb3V0cHV0').decode())\n>>> assert condition, 'GeoDude does not attack first in battle.'\n>>> if condition:\n...     score = 0.4\n>>> earned_points = float(os.environ.get('EARNED_POINTS', 0))\n>>> earned_points += score\n>>> log_variable('1_finalexam_q', f'{score}, {max_score}', question_id)\n>>> os.environ['EARNED_POINTS'] = str(earned_points)\n",
                  "failure_message": "GeoDude does not attack first.",
                  "hidden": false,
                  "locked": false,
                  "points": 0.4,
                  "success_message": "Success: GeoDude attacks first."
                },
                {
                  "code": ">>> from pykubegrader.telemetry import ensure_responses, log_variable, score_question, submit_question, telemetry, update_responses\n>>> import os\n>>> import base64\n>>> import matplotlib\n>>> from pykubegrader.tokens.validate_token import validate_token\n>>> validate_token(assignment='week11-finalexam')\n>>> import matplotlib\n>>> matplotlib.use('Agg')\n>>> import io\n>>> import sys\n>>> question_id = 'battle-simulation-test-2'\n>>> max_score = 0.4\n>>> score = 0\n>>> geodude = RockPokemon('Geodude', 100)\n>>> onyx = RockPokemon('Onyx', 90)\n>>> original_stdout = sys.stdout\n>>> sys.stdout = io.StringIO()\n>>> exec(base64.b64decode('YmF0dGxlKGdlb2R1ZGUsIG9ueXgp').decode())\n>>> sys.stdout.seek(0)\n>>> battle_output = sys.stdout.read()\n>>> sys.stdout = original_stdout\n>>> exec(base64.b64decode('Y29uZGl0aW9uID0gIk9ueXggYXR0YWNrcyBHZW9kdWRlIiBpbiBiYXR0bGVfb3V0cHV0').decode())\n>>> assert condition, 'Onyx does not attack after the GeoDude.'\n>>> if condition:\n...     score = 0.4\n>>> earned_points = float(os.environ.get('EARNED_POINTS', 0))\n>>> earned_points += score\n>>> log_variable('1_finalexam_q', f'{score}, {max_score}', question_id)\n>>> os.environ['EARNED_POINTS'] = str(earned_points)\n",
                  "failure_message": "Onyx does not get a turn after GeoDude.",
                  "hidden": false,
                  "locked": false,
                  "points": 0.4,
                  "success_message": "Success: Onyx gets a turn after GeoDude."
                },
                {
                  "code": ">>> from pykubegrader.telemetry import ensure_responses, log_variable, score_question, submit_question, telemetry, update_responses\n>>> import os\n>>> import base64\n>>> import matplotlib\n>>> from pykubegrader.tokens.validate_token import validate_token\n>>> validate_token(assignment='week11-finalexam')\n>>> import matplotlib\n>>> matplotlib.use('Agg')\n>>> import io\n>>> import sys\n>>> question_id = 'battle-simulation-test-3'\n>>> max_score = 0.4\n>>> score = 0\n>>> geodude = RockPokemon('Geodude', 100)\n>>> onyx = RockPokemon('Onyx', 90)\n>>> original_stdout = sys.stdout\n>>> sys.stdout = io.StringIO()\n>>> exec(base64.b64decode('YmF0dGxlKGdlb2R1ZGUsIG9ueXgp').decode())\n>>> sys.stdout.seek(0)\n>>> battle_output = sys.stdout.read()\n>>> sys.stdout = original_stdout\n>>> exec(base64.b64decode('Y29uZGl0aW9uID0gImhhcyBiZWVuIGRlZmVhdGVkISIgaW4gYmF0dGxlX291dHB1dA==').decode())\n>>> assert condition, 'battle function does not declare a winner.'\n>>> if condition:\n...     score = 0.4\n>>> earned_points = float(os.environ.get('EARNED_POINTS', 0))\n>>> earned_points += score\n>>> log_variable('1_finalexam_q', f'{score}, {max_score}', question_id)\n>>> os.environ['EARNED_POINTS'] = str(earned_points)\n",
                  "failure_message": "battle function does not correctly declare a winner.",
                  "hidden": false,
                  "locked": false,
                  "points": 0.4,
                  "success_message": "Success: battle function correctly declares a winner."
                },
                {
                  "code": ">>> from pykubegrader.telemetry import ensure_responses, log_variable, score_question, submit_question, telemetry, update_responses\n>>> import os\n>>> import base64\n>>> import matplotlib\n>>> from pykubegrader.tokens.validate_token import validate_token\n>>> validate_token(assignment='week11-finalexam')\n>>> import matplotlib\n>>> matplotlib.use('Agg')\n>>> import io\n>>> import sys\n>>> question_id = 'battle-simulation-test-4'\n>>> max_score = 0.4\n>>> score = 0\n>>> geodude = RockPokemon('Geodude', 100)\n>>> onyx = RockPokemon('Onyx', 90)\n>>> original_stdout = sys.stdout\n>>> sys.stdout = io.StringIO()\n>>> exec(base64.b64decode('YmF0dGxlKGdlb2R1ZGUsIG9ueXgp').decode())\n>>> sys.stdout.seek(0)\n>>> battle_output = sys.stdout.read()\n>>> sys.stdout = original_stdout\n>>> exec(base64.b64decode('ZGVmZWF0ZWRfY2hhciA9ICJHZW9kdWRlIiBpZiAiR2VvZHVkZSBoYXMgYmVlbiBkZWZlYXRlZCEiIGluIGJhdHRsZV9vdXRwdXQgZWxzZSAiT255eCI=').decode())\n>>> exec(base64.b64decode('Y29uZGl0aW9uID0gZiJ7ZGVmZWF0ZWRfY2hhcn0gYXR0YWNrcyIgbm90IGluIGJhdHRsZV9vdXRwdXQuc3BsaXQoZiJ7ZGVmZWF0ZWRfY2hhcn0gaGFzIGJlZW4gZGVmZWF0ZWQhIilbMV0=').decode())\n>>> assert condition, 'battle function allows attacks after a character is defeated.'\n>>> if condition:\n...     score = 0.4\n>>> earned_points = float(os.environ.get('EARNED_POINTS', 0))\n>>> earned_points += score\n>>> log_variable('1_finalexam_q', f'{score}, {max_score}', question_id)\n>>> os.environ['EARNED_POINTS'] = str(earned_points)\n",
                  "failure_message": "battle function allows attacks after a character is defeated.",
                  "hidden": false,
                  "locked": false,
                  "points": 0.4,
                  "success_message": "Success: battle function correctly stops after a character is defeated."
                }
              ],
              "scored": true,
              "setup": "",
              "teardown": "",
              "type": "doctest"
            }
          ]
        },
        "calling-the-function": {
          "name": "calling-the-function",
          "points": null,
          "suites": [
            {
              "cases": [
                {
                  "code": ">>> from pykubegrader.telemetry import ensure_responses, log_variable, score_question, submit_question, telemetry, update_responses\n>>> import os\n>>> import base64\n>>> import matplotlib\n>>> from pykubegrader.tokens.validate_token import validate_token\n>>> validate_token(assignment='week11-finalexam')\n>>> import matplotlib\n>>> matplotlib.use('Agg')\n>>> max_question_points = str(1.0)\n>>> earned_points = 0\n>>> os.environ['EARNED_POINTS'] = str(earned_points)\n>>> os.environ['TOTAL_POINTS_FREE_RESPONSE'] = str(91.0)\n>>> from pykubegrader.tokens.validate_token import validate_token\n>>> validate_token(assignment='week11-finalexam')\n>>> log_variable('total-points', f'week11-finalexam, 1_finalexam_q', 91.0)\n>>> question_id = 'calling-the-function-1'\n>>> max_score = 0.5\n>>> score = 0\n>>> exec(base64.b64decode('Y29uZGl0aW9uMSA9ICJnZW9kdWRlIiBpbiBnbG9iYWxzKCk=').decode())\n>>> assert condition1, 'GeoDude instance is not defined.'\n>>> exec(base64.b64decode('Y29uZGl0aW9uMiA9IGlzaW5zdGFuY2UoZ2VvZHVkZSwgUm9ja1Bva2Vtb24p').decode())\n>>> assert condition2, 'geodude is not an instance of the RockPokemon class.'\n>>> exec(base64.b64decode('Y29uZGl0aW9uMyA9IGdlb2R1ZGUubmFtZSA9PSAiR2VvZHVkZSI=').decode())\n>>> assert condition3, 'geodude name is incorrect.'\n>>> exec(base64.b64decode('Y29uZGl0aW9uNCA9IGdlb2R1ZGUuaHAgPT0gMTAw').decode())\n>>> assert condition4, 'geodude hp is incorrect.'\n>>> if condition1 and condition2 and condition3 and condition4:\n...     score = 0.5\n>>> earned_points = float(os.environ.get('EARNED_POINTS', 0))\n>>> earned_points += score\n>>> log_variable('1_finalexam_q', f'{score}, {max_score}', question_id)\n>>> os.environ['EARNED_POINTS'] = str(earned_points)\n",
                  "failure_message": "GeoDude instance is not created correctly.",
                  "hidden": false,
                  "locked": false,
                  "points": 0.5,
                  "success_message": "Success: GeoDude instance is created correctly."
                },
                {
                  "code": ">>> from pykubegrader.telemetry import ensure_responses, log_variable, score_question, submit_question, telemetry, update_responses\n>>> import os\n>>> import base64\n>>> import matplotlib\n>>> from pykubegrader.tokens.validate_token import validate_token\n>>> validate_token(assignment='week11-finalexam')\n>>> import matplotlib\n>>> matplotlib.use('Agg')\n>>> question_id = 'calling-the-function-2'\n>>> max_score = 0.5\n>>> score = 0\n>>> exec(base64.b64decode('Y29uZGl0aW9uMSA9ICJvbnl4IiBpbiBnbG9iYWxzKCk=').decode())\n>>> assert condition1, 'Onyx instance is not defined.'\n>>> exec(base64.b64decode('Y29uZGl0aW9uMiA9IGlzaW5zdGFuY2Uob255eCwgUm9ja1Bva2Vtb24p').decode())\n>>> assert condition2, 'onyx is not an instance of the RockPokemon class.'\n>>> exec(base64.b64decode('Y29uZGl0aW9uMyA9IG9ueXgubmFtZSA9PSAiT255eCI=').decode())\n>>> assert condition3, 'onyx name is incorrect.'\n>>> exec(base64.b64decode('Y29uZGl0aW9uNCA9IG9ueXguaHAgPT0gOTA=').decode())\n>>> assert condition4, 'mage hp is incorrect.'\n>>> if condition1 and condition2 and condition3 and condition4:\n...     score = 0.5\n>>> earned_points = float(os.environ.get('EARNED_POINTS', 0))\n>>> earned_points += score\n>>> log_variable('1_finalexam_q', f'{score}, {max_score}', question_id)\n>>> os.environ['EARNED_POINTS'] = str(earned_points)\n",
                  "failure_message": "Mage instance is not created correctly.",
                  "hidden": false,
                  "locked": false,
                  "points": 0.5,
                  "success_message": "Success: Mage instance is created correctly."
                }
              ],
              "scored": true,
              "setup": "",
              "teardown": "",
              "type": "doctest"
            }
          ]
        },
        "compute-mean": {
          "name": "compute-mean",
          "points": null,
          "suites": [
            {
              "cases": [
                {
                  "code": ">>> from pykubegrader.telemetry import ensure_responses, log_variable, score_question, submit_question, telemetry, update_responses\n>>> import os\n>>> import base64\n>>> import matplotlib\n>>> from pykubegrader.tokens.validate_token import validate_token\n>>> validate_token(assignment='week11-finalexam')\n>>> import matplotlib\n>>> matplotlib.use('Agg')\n>>> max_question_points = str(2.0)\n>>> earned_points = 0\n>>> os.environ['EARNED_POINTS'] = str(earned_points)\n>>> os.environ['TOTAL_POINTS_FREE_RESPONSE'] = str(91.0)\n>>> from pykubegrader.tokens.validate_token import validate_token\n>>> validate_token(assignment='week11-finalexam')\n>>> log_variable('total-points', f'week11-finalexam, 1_finalexam_q', 91.0)\n>>> question_id = 'compute-mean-1'\n>>> max_score = 2.0\n>>> score = 0\n>>> exec(base64.b64decode('aW5wdXRfYXJyYXkgPSBucC5hcnJheShbMiwgNCwgNiwgOF0pCmV4cGVjdGVkX291dHB1dCA9IDUuMAphY3R1YWxfb3V0cHV0ID0gY29tcHV0ZV9tZWFuKGlucHV0X2FycmF5KQpjb25kaXRpb24gPSBucC5pc2Nsb3NlKGFjdHVhbF9vdXRwdXQsIGV4cGVjdGVkX291dHB1dCk=').decode())\n>>> assert condition, f'Expected {expected_output}, got {actual_output}'\n>>> if condition:\n...     score = 2.0\n>>> earned_points = float(os.environ.get('EARNED_POINTS', 0))\n>>> earned_points += score\n>>> log_variable('1_finalexam_q', f'{score}, {max_score}', question_id)\n>>> os.environ['EARNED_POINTS'] = str(earned_points)\n",
                  "failure_message": "Failed: The function does not compute the mean of positive numbers correctly.",
                  "hidden": false,
                  "locked": false,
                  "points": 2,
                  "success_message": "Success: The function computes the mean of positive numbers correctly!"
                }
              ],
              "scored": true,
              "setup": "",
              "teardown": "",
              "type": "doctest"
            }
          ]
        },
        "compute-statistics": {
          "name": "compute-statistics",
          "points": null,
          "suites": [
            {
              "cases": [
                {
                  "code": ">>> from pykubegrader.telemetry import ensure_responses, log_variable, score_question, submit_question, telemetry, update_responses\n>>> import os\n>>> import base64\n>>> import matplotlib\n>>> from pykubegrader.tokens.validate_token import validate_token\n>>> validate_token(assignment='week11-finalexam')\n>>> import matplotlib\n>>> matplotlib.use('Agg')\n>>> max_question_points = str(7.5)\n>>> earned_points = 0\n>>> os.environ['EARNED_POINTS'] = str(earned_points)\n>>> os.environ['TOTAL_POINTS_FREE_RESPONSE'] = str(91.0)\n>>> from pykubegrader.tokens.validate_token import validate_token\n>>> validate_token(assignment='week11-finalexam')\n>>> log_variable('total-points', f'week11-finalexam, 1_finalexam_q', 91.0)\n>>> question_id = 'compute-statistics-1'\n>>> max_score = 1.0\n>>> score = 0\n>>> exec(base64.b64decode('aW5wdXRfbGlzdCA9IFsxLCAyLCAzXQpvdXRwdXQgPSBjb21wdXRlX3N0YXRpc3RpY3MoaW5wdXRfbGlzdCkKCmNvbmRpdGlvbiA9IGlzaW5zdGFuY2Uob3V0cHV0LCBkaWN0KSBhbmQgJ21lYW4nIGluIG91dHB1dCBhbmQgbnAuaXNjbG9zZShvdXRwdXRbJ21lYW4nXSwgMi4wKQ==').decode())\n>>> assert condition, 'The function must accept standard Python lists as input and compute statistics correctly.'\n>>> if condition:\n...     score = 1.0\n>>> earned_points = float(os.environ.get('EARNED_POINTS', 0))\n>>> earned_points += score\n>>> log_variable('1_finalexam_q', f'{score}, {max_score}', question_id)\n>>> os.environ['EARNED_POINTS'] = str(earned_points)\n",
                  "failure_message": "Failed: The function does not handle list input correctly.",
                  "hidden": false,
                  "locked": false,
                  "points": 1,
                  "success_message": "Success: The function accepts Python lists and converts them to NumPy arrays!"
                },
                {
                  "code": ">>> from pykubegrader.telemetry import ensure_responses, log_variable, score_question, submit_question, telemetry, update_responses\n>>> import os\n>>> import base64\n>>> import matplotlib\n>>> from pykubegrader.tokens.validate_token import validate_token\n>>> validate_token(assignment='week11-finalexam')\n>>> import matplotlib\n>>> matplotlib.use('Agg')\n>>> question_id = 'compute-statistics-2'\n>>> max_score = 1.0\n>>> score = 0\n>>> exec(base64.b64decode('aW5wdXRfYXJyYXkgPSBucC5hcnJheShbXSkKcmVzdWx0ID0gY29tcHV0ZV9zdGF0aXN0aWNzKGlucHV0X2FycmF5KQoKY29uZGl0aW9uID0gaXNpbnN0YW5jZShyZXN1bHQsIGRpY3QpIGFuZCBsZW4ocmVzdWx0KSA9PSAw').decode())\n>>> assert condition, f'Expected an empty dictionary for empty input, but got {result}'\n>>> if condition:\n...     score = 1.0\n>>> earned_points = float(os.environ.get('EARNED_POINTS', 0))\n>>> earned_points += score\n>>> log_variable('1_finalexam_q', f'{score}, {max_score}', question_id)\n>>> os.environ['EARNED_POINTS'] = str(earned_points)\n",
                  "failure_message": "Failed: The function does not handle empty input correctly.",
                  "hidden": false,
                  "locked": false,
                  "points": 1,
                  "success_message": "Success: The function returns an empty dictionary for empty input!"
                },
                {
                  "code": ">>> from pykubegrader.telemetry import ensure_responses, log_variable, score_question, submit_question, telemetry, update_responses\n>>> import os\n>>> import base64\n>>> import matplotlib\n>>> from pykubegrader.tokens.validate_token import validate_token\n>>> validate_token(assignment='week11-finalexam')\n>>> import matplotlib\n>>> matplotlib.use('Agg')\n>>> question_id = 'compute-statistics-3'\n>>> max_score = 1.5\n>>> score = 0\n>>> exec(base64.b64decode('aW5wdXRfYXJyYXkgPSBucC5hcnJheShbMiwgNCwgNCwgNCwgNSwgNSwgNywgOV0pCmV4cGVjdGVkX291dHB1dCA9IHsKJ21lYW4nOiA1LjAsCidtZWRpYW4nOiA0LjUsCidzdGRfZGV2JzogbnAuc3RkKGlucHV0X2FycmF5KSwKJ3N1bSc6IDQwCn0KYWN0dWFsX291dHB1dCA9IGNvbXB1dGVfc3RhdGlzdGljcyhpbnB1dF9hcnJheSkKCmNvbmRpdGlvbjEgPSBzZXQoYWN0dWFsX291dHB1dC5rZXlzKCkpID09IHNldChleHBlY3RlZF9vdXRwdXQua2V5cygpKQpjb25kaXRpb24yID0gbnAuaXNjbG9zZShhY3R1YWxfb3V0cHV0WydtZWFuJ10sIGV4cGVjdGVkX291dHB1dFsnbWVhbiddKQpjb25kaXRpb24zID0gbnAuaXNjbG9zZShhY3R1YWxfb3V0cHV0WydtZWRpYW4nXSwgZXhwZWN0ZWRfb3V0cHV0WydtZWRpYW4nXSkKY29uZGl0aW9uNCA9IG5wLmlzY2xvc2UoYWN0dWFsX291dHB1dFsnc3RkX2RldiddLCBleHBlY3RlZF9vdXRwdXRbJ3N0ZF9kZXYnXSkKY29uZGl0aW9uNSA9IGFjdHVhbF9vdXRwdXRbJ3N1bSddID09IGV4cGVjdGVkX291dHB1dFsnc3VtJ10=').decode())\n>>> assert condition1, f'Expected {expected_output.keys()}, but got {actual_output.keys()}'\n>>> assert condition2, f\"Expected {expected_output['mean']}, but got {actual_output['mean']}\"\n>>> assert condition3, f\"Expected {expected_output['median']}, but got {actual_output['median']}\"\n>>> assert condition4, f\"Expected {expected_output['std_dev']}, but got {actual_output['std_dev']}\"\n>>> assert condition5, f\"Expected {expected_output['sum']}, but got {actual_output['sum']}\"\n>>> if condition1 and condition2 and condition3 and condition4 and condition5:\n...     score = 1.5\n>>> earned_points = float(os.environ.get('EARNED_POINTS', 0))\n>>> earned_points += score\n>>> log_variable('1_finalexam_q', f'{score}, {max_score}', question_id)\n>>> os.environ['EARNED_POINTS'] = str(earned_points)\n",
                  "failure_message": "Failed: The function does not return correct statistics for a valid array.",
                  "hidden": false,
                  "locked": false,
                  "points": 1.5,
                  "success_message": "Success: The function returns correct statistics for a valid array!"
                },
                {
                  "code": ">>> from pykubegrader.telemetry import ensure_responses, log_variable, score_question, submit_question, telemetry, update_responses\n>>> import os\n>>> import base64\n>>> import matplotlib\n>>> from pykubegrader.tokens.validate_token import validate_token\n>>> validate_token(assignment='week11-finalexam')\n>>> import matplotlib\n>>> matplotlib.use('Agg')\n>>> question_id = 'compute-statistics-4'\n>>> max_score = 1.0\n>>> score = 0\n>>> exec(base64.b64decode('aW5wdXRfYXJyYXkgPSBucC5hcnJheShbNDJdKQphY3R1YWxfb3V0cHV0ID0gY29tcHV0ZV9zdGF0aXN0aWNzKGlucHV0X2FycmF5KQoKY29uZGl0aW9uMSA9IGFjdHVhbF9vdXRwdXRbIm1lYW4iXSA9PSA0Mgpjb25kaXRpb24yID0gYWN0dWFsX291dHB1dFsibWVkaWFuIl0gPT0gNDIKY29uZGl0aW9uMyA9IGFjdHVhbF9vdXRwdXRbInN1bSJdID09IDQyCmNvbmRpdGlvbjQgPSBhY3R1YWxfb3V0cHV0WyJzdGRfZGV2Il0gPT0gMC4w').decode())\n>>> assert condition1, f\"Expected {42}, but got {actual_output['mean']}\"\n>>> assert condition2, f\"Expected {42}, but got {actual_output['median']}\"\n>>> assert condition3, f\"Expected {42}, but got {actual_output['sum']}\"\n>>> assert condition4, f\"Expected {0.0}, but got {actual_output['std_dev']}\"\n>>> if condition1 and condition2 and condition3 and condition4:\n...     score = 1.0\n>>> earned_points = float(os.environ.get('EARNED_POINTS', 0))\n>>> earned_points += score\n>>> log_variable('1_finalexam_q', f'{score}, {max_score}', question_id)\n>>> os.environ['EARNED_POINTS'] = str(earned_points)\n",
                  "failure_message": "Failed: The function does not compute correct statistics for a single-element array.",
                  "hidden": false,
                  "locked": false,
                  "points": 1,
                  "success_message": "Success: The function works correctly with a single-element array!"
                },
                {
                  "code": ">>> from pykubegrader.telemetry import ensure_responses, log_variable, score_question, submit_question, telemetry, update_responses\n>>> import os\n>>> import base64\n>>> import matplotlib\n>>> from pykubegrader.tokens.validate_token import validate_token\n>>> validate_token(assignment='week11-finalexam')\n>>> import matplotlib\n>>> matplotlib.use('Agg')\n>>> question_id = 'compute-statistics-5'\n>>> max_score = 1.5\n>>> score = 0\n>>> exec(base64.b64decode('aW5wdXRfYXJyYXkgPSBucC5hcnJheShbNSwgNSwgNSwgNSwgNV0pCmFjdHVhbF9vdXRwdXQgPSBjb21wdXRlX3N0YXRpc3RpY3MoaW5wdXRfYXJyYXkpCgoKY29uZGl0aW9uMSA9IGFjdHVhbF9vdXRwdXRbIm1lYW4iXSA9PSA1CmNvbmRpdGlvbjIgPSBhY3R1YWxfb3V0cHV0WyJtZWRpYW4iXSA9PSA1CmNvbmRpdGlvbjMgPSBhY3R1YWxfb3V0cHV0WyJzdW0iXSA9PSAyNQpjb25kaXRpb240ID0gYWN0dWFsX291dHB1dFsic3RkX2RldiJdID09IDAuMA==').decode())\n>>> assert condition1, f\"Expected {5}, but got {actual_output['mean']}\"\n>>> assert condition2, f\"Expected {5}, but got {actual_output['median']}\"\n>>> assert condition3, f\"Expected {25}, but got {actual_output['sum']}\"\n>>> assert condition4, f\"Expected {0.0}, but got {actual_output['std_dev']}\"\n>>> if condition1 and condition2 and condition3 and condition4:\n...     score = 1.5\n>>> earned_points = float(os.environ.get('EARNED_POINTS', 0))\n>>> earned_points += score\n>>> log_variable('1_finalexam_q', f'{score}, {max_score}', question_id)\n>>> os.environ['EARNED_POINTS'] = str(earned_points)\n",
                  "failure_message": "Failed: The function does not handle identical values correctly.",
                  "hidden": false,
                  "locked": false,
                  "points": 1.5,
                  "success_message": "Success: The function correctly computes statistics when all values are identical!"
                },
                {
                  "code": ">>> from pykubegrader.telemetry import ensure_responses, log_variable, score_question, submit_question, telemetry, update_responses\n>>> import os\n>>> import base64\n>>> import matplotlib\n>>> from pykubegrader.tokens.validate_token import validate_token\n>>> validate_token(assignment='week11-finalexam')\n>>> import matplotlib\n>>> matplotlib.use('Agg')\n>>> question_id = 'compute-statistics-6'\n>>> max_score = 1.5\n>>> score = 0\n>>> exec(base64.b64decode('aW5wdXRfYXJyYXkgPSBucC5hcnJheShbMS41LCAyLjUsIDMuNV0pCmV4cGVjdGVkX291dHB1dCA9IHsKJ21lYW4nOiAyLjUsCidtZWRpYW4nOiAyLjUsCidzdGRfZGV2JzogbnAuc3RkKGlucHV0X2FycmF5KSwKJ3N1bSc6IDcuNQp9CmFjdHVhbF9vdXRwdXQgPSBjb21wdXRlX3N0YXRpc3RpY3MoaW5wdXRfYXJyYXkpCgpjb25kaXRpb24xID0gbnAuaXNjbG9zZShhY3R1YWxfb3V0cHV0WydtZWFuJ10sIGV4cGVjdGVkX291dHB1dFsnbWVhbiddKQpjb25kaXRpb24yID0gbnAuaXNjbG9zZShhY3R1YWxfb3V0cHV0WydtZWRpYW4nXSwgZXhwZWN0ZWRfb3V0cHV0WydtZWRpYW4nXSkKY29uZGl0aW9uMyA9IG5wLmlzY2xvc2UoYWN0dWFsX291dHB1dFsnc3RkX2RldiddLCBleHBlY3RlZF9vdXRwdXRbJ3N0ZF9kZXYnXSkKY29uZGl0aW9uNCA9IGFjdHVhbF9vdXRwdXRbJ3N1bSddID09IGV4cGVjdGVkX291dHB1dFsnc3VtJ10=').decode())\n>>> assert condition1, f\"Expected {expected_output['mean']}, but got {actual_output['mean']}\"\n>>> assert condition2, f\"Expected {expected_output['median']}, but got {actual_output['median']}\"\n>>> assert condition3, f\"Expected {expected_output['std_dev']}, but got {actual_output['std_dev']}\"\n>>> assert condition4, f\"Expected {expected_output['sum']}, but got {actual_output['sum']}\"\n>>> if condition1 and condition2 and condition3 and condition4:\n...     score = 1.5\n>>> earned_points = float(os.environ.get('EARNED_POINTS', 0))\n>>> earned_points += score\n>>> log_variable('1_finalexam_q', f'{score}, {max_score}', question_id)\n>>> os.environ['EARNED_POINTS'] = str(earned_points)\n",
                  "failure_message": "Failed: The function does not compute statistics correctly for float values.",
                  "hidden": false,
                  "locked": false,
                  "points": 1.5,
                  "success_message": "Success: The function handles floating point values correctly!"
                }
              ],
              "scored": true,
              "setup": "",
              "teardown": "",
              "type": "doctest"
            }
          ]
        },
        "compute-std-dev": {
          "name": "compute-std-dev",
          "points": null,
          "suites": [
            {
              "cases": [
                {
                  "code": ">>> from pykubegrader.telemetry import ensure_responses, log_variable, score_question, submit_question, telemetry, update_responses\n>>> import os\n>>> import base64\n>>> import matplotlib\n>>> from pykubegrader.tokens.validate_token import validate_token\n>>> validate_token(assignment='week11-finalexam')\n>>> import matplotlib\n>>> matplotlib.use('Agg')\n>>> max_question_points = str(2.0)\n>>> earned_points = 0\n>>> os.environ['EARNED_POINTS'] = str(earned_points)\n>>> os.environ['TOTAL_POINTS_FREE_RESPONSE'] = str(91.0)\n>>> from pykubegrader.tokens.validate_token import validate_token\n>>> validate_token(assignment='week11-finalexam')\n>>> log_variable('total-points', f'week11-finalexam, 1_finalexam_q', 91.0)\n>>> question_id = 'compute-std-dev-1'\n>>> max_score = 2.0\n>>> score = 0\n>>> exec(base64.b64decode('aW5wdXRfYXJyYXkgPSBucC5hcnJheShbMiwgNCwgNCwgNCwgNSwgNSwgNywgOV0pCgojIFBvcHVsYXRpb24gc3RhbmRhcmQgZGV2aWF0aW9uIChkZG9mPTApCmV4cGVjdGVkX291dHB1dF9kZG9mMCA9IDIuMAphY3R1YWxfb3V0cHV0X2Rkb2YwID0gY29tcHV0ZV9zdGRfZGV2KGlucHV0X2FycmF5KQoKIyBTYW1wbGUgc3RhbmRhcmQgZGV2aWF0aW9uIChkZG9mPTEpCmV4cGVjdGVkX291dHB1dF9kZG9mMSA9IG5wLnN0ZChpbnB1dF9hcnJheSwgZGRvZj0xKQphY3R1YWxfb3V0cHV0X2Rkb2YxID0gY29tcHV0ZV9zdGRfZGV2KGlucHV0X2FycmF5LCBkZG9mPTEpCgpjb25kaXRpb24xID0gbnAuaXNjbG9zZShhY3R1YWxfb3V0cHV0X2Rkb2YwLCBleHBlY3RlZF9vdXRwdXRfZGRvZjApCmNvbmRpdGlvbjIgPSBucC5pc2Nsb3NlKGFjdHVhbF9vdXRwdXRfZGRvZjEsIGV4cGVjdGVkX291dHB1dF9kZG9mMSk=').decode())\n>>> assert condition1, f'Expected {expected_output_ddof0}, got {actual_output_ddof0}'\n>>> assert condition2, f'Expected {expected_output_ddof1}, got {actual_output_ddof1}'\n>>> if condition1 and condition2:\n...     score = 2.0\n>>> earned_points = float(os.environ.get('EARNED_POINTS', 0))\n>>> earned_points += score\n>>> log_variable('1_finalexam_q', f'{score}, {max_score}', question_id)\n>>> os.environ['EARNED_POINTS'] = str(earned_points)\n>>> responses = update_responses(question_id, str(input_array))\n>>> responses = update_responses(question_id, str(expected_output_ddof0))\n>>> responses = update_responses(question_id, str(expected_output_ddof1))\n>>> responses = update_responses(question_id, str(actual_output_ddof0))\n>>> responses = update_responses(question_id, str(actual_output_ddof1))\n",
                  "failure_message": "Failed: The function does not compute the standard deviation correctly or does not respect the ddof parameter.",
                  "hidden": false,
                  "locked": false,
                  "points": 2,
                  "success_message": "Success: The function correctly computes the standard deviation and respects the ddof argument!"
                }
              ],
              "scored": true,
              "setup": "",
              "teardown": "",
              "type": "doctest"
            }
          ]
        },
        "computing-the-sum": {
          "name": "computing-the-sum",
          "points": null,
          "suites": [
            {
              "cases": [
                {
                  "code": ">>> from pykubegrader.telemetry import ensure_responses, log_variable, score_question, submit_question, telemetry, update_responses\n>>> import os\n>>> import base64\n>>> import matplotlib\n>>> from pykubegrader.tokens.validate_token import validate_token\n>>> validate_token(assignment='week11-finalexam')\n>>> import matplotlib\n>>> matplotlib.use('Agg')\n>>> max_question_points = str(2.0)\n>>> earned_points = 0\n>>> os.environ['EARNED_POINTS'] = str(earned_points)\n>>> os.environ['TOTAL_POINTS_FREE_RESPONSE'] = str(91.0)\n>>> from pykubegrader.tokens.validate_token import validate_token\n>>> validate_token(assignment='week11-finalexam')\n>>> log_variable('total-points', f'week11-finalexam, 1_finalexam_q', 91.0)\n>>> question_id = 'computing-the-sum-1'\n>>> max_score = 2.0\n>>> score = 0\n>>> exec(base64.b64decode('aW5wdXRfYXJyYXkgPSBucC5hcnJheShbMSwgMiwgMywgNCwgNV0pCmV4cGVjdGVkX291dHB1dCA9IDE1CmFjdHVhbF9vdXRwdXQgPSBjb21wdXRlX3N1bShpbnB1dF9hcnJheSkKY29uZGl0aW9uID0gYWN0dWFsX291dHB1dCA9PSBleHBlY3RlZF9vdXRwdXQ=').decode())\n>>> assert condition, f'Expected {expected_output}, but got {actual_output}'\n>>> if condition:\n...     score = 2.0\n>>> earned_points = float(os.environ.get('EARNED_POINTS', 0))\n>>> earned_points += score\n>>> log_variable('1_finalexam_q', f'{score}, {max_score}', question_id)\n>>> os.environ['EARNED_POINTS'] = str(earned_points)\n>>> responses = update_responses(question_id, str(input_array))\n>>> responses = update_responses(question_id, str(expected_output))\n>>> responses = update_responses(question_id, str(actual_output))\n",
                  "failure_message": "Failed: The function does not compute the correct sum.",
                  "hidden": false,
                  "locked": false,
                  "points": 2,
                  "success_message": "Success: The function correctly computes the sum of the array!"
                }
              ],
              "scored": true,
              "setup": "",
              "teardown": "",
              "type": "doctest"
            }
          ]
        },
        "create-class-islands": {
          "name": "create-class-islands",
          "points": null,
          "suites": [
            {
              "cases": [
                {
                  "code": ">>> from pykubegrader.telemetry import ensure_responses, log_variable, score_question, submit_question, telemetry, update_responses\n>>> import os\n>>> import base64\n>>> import matplotlib\n>>> from pykubegrader.tokens.validate_token import validate_token\n>>> validate_token(assignment='week11-finalexam')\n>>> import matplotlib\n>>> matplotlib.use('Agg')\n>>> max_question_points = str(30.0)\n>>> earned_points = 0\n>>> os.environ['EARNED_POINTS'] = str(earned_points)\n>>> os.environ['TOTAL_POINTS_FREE_RESPONSE'] = str(91.0)\n>>> from pykubegrader.tokens.validate_token import validate_token\n>>> validate_token(assignment='week11-finalexam')\n>>> log_variable('total-points', f'week11-finalexam, 1_finalexam_q', 91.0)\n>>> question_id = 'create-class-islands-1'\n>>> max_score = 1.0\n>>> score = 0\n>>> exec(base64.b64decode('Y29uZGl0aW9uID0gSXNsYW5kcygpLm51bUlzbGFuZHMoWwpbIjEiLCIxIiwiMCIsIjAiLCIwIl0sClsiMSIsIjEiLCIwIiwiMCIsIjAiXSwKWyIwIiwiMCIsIjEiLCIwIiwiMCJdLApbIjAiLCIwIiwiMCIsIjEiLCIxIl0KXSk=').decode())\n>>> assert condition == 3, 'Test case 1 failed'\n>>> if condition == 3:\n...     score = 1.0\n>>> earned_points = float(os.environ.get('EARNED_POINTS', 0))\n>>> earned_points += score\n>>> log_variable('1_finalexam_q', f'{score}, {max_score}', question_id)\n>>> os.environ['EARNED_POINTS'] = str(earned_points)\n",
                  "failure_message": "Error: The function did not count islands correctly.",
                  "hidden": false,
                  "locked": false,
                  "points": 1,
                  "success_message": "Success: The function correctly counts islands."
                },
                {
                  "code": ">>> from pykubegrader.telemetry import ensure_responses, log_variable, score_question, submit_question, telemetry, update_responses\n>>> import os\n>>> import base64\n>>> import matplotlib\n>>> from pykubegrader.tokens.validate_token import validate_token\n>>> validate_token(assignment='week11-finalexam')\n>>> import matplotlib\n>>> matplotlib.use('Agg')\n>>> question_id = 'create-class-islands-2'\n>>> max_score = 1.0\n>>> score = 0\n>>> exec(base64.b64decode('Y29uZGl0aW9uID0gSXNsYW5kcygpLm51bUlzbGFuZHMoWwpbIjEiLCIxIiwiMSIsIjEiLCIwIl0sClsiMSIsIjEiLCIwIiwiMSIsIjAiXSwKWyIxIiwiMSIsIjAiLCIwIiwiMCJdLApbIjAiLCIwIiwiMCIsIjAiLCIwIl0KXSk=').decode())\n>>> assert condition == 1, 'Test case 2 failed'\n>>> if condition == 1:\n...     score = 1.0\n>>> earned_points = float(os.environ.get('EARNED_POINTS', 0))\n>>> earned_points += score\n>>> log_variable('1_finalexam_q', f'{score}, {max_score}', question_id)\n>>> os.environ['EARNED_POINTS'] = str(earned_points)\n",
                  "failure_message": "Error: The function did not count islands correctly again.",
                  "hidden": false,
                  "locked": false,
                  "points": 1,
                  "success_message": "Success: The function correctly counts islands again."
                },
                {
                  "code": ">>> from pykubegrader.telemetry import ensure_responses, log_variable, score_question, submit_question, telemetry, update_responses\n>>> import os\n>>> import base64\n>>> import matplotlib\n>>> from pykubegrader.tokens.validate_token import validate_token\n>>> validate_token(assignment='week11-finalexam')\n>>> import matplotlib\n>>> matplotlib.use('Agg')\n>>> question_id = 'create-class-islands-3'\n>>> max_score = 1.0\n>>> score = 0\n>>> exec(base64.b64decode('Y29uZGl0aW9uID0gSXNsYW5kcygpLm51bUlzbGFuZHMoWwpbIjAiLCIwIiwiMCJdLApbIjAiLCIwIiwiMCJdLApbIjAiLCIwIiwiMCJdCl0p').decode())\n>>> assert condition == 0, 'Test case 3 failed'\n>>> if condition == 0:\n...     score = 1.0\n>>> earned_points = float(os.environ.get('EARNED_POINTS', 0))\n>>> earned_points += score\n>>> log_variable('1_finalexam_q', f'{score}, {max_score}', question_id)\n>>> os.environ['EARNED_POINTS'] = str(earned_points)\n",
                  "failure_message": "Error: The function did not count islands correctly with a different grid.",
                  "hidden": false,
                  "locked": false,
                  "points": 1,
                  "success_message": "Success: The function correctly counts islands with a different grid."
                },
                {
                  "code": ">>> from pykubegrader.telemetry import ensure_responses, log_variable, score_question, submit_question, telemetry, update_responses\n>>> import os\n>>> import base64\n>>> import matplotlib\n>>> from pykubegrader.tokens.validate_token import validate_token\n>>> validate_token(assignment='week11-finalexam')\n>>> import matplotlib\n>>> matplotlib.use('Agg')\n>>> question_id = 'create-class-islands-4'\n>>> max_score = 1.0\n>>> score = 0\n>>> exec(base64.b64decode('Y29uZGl0aW9uID0gSXNsYW5kcygpLm51bUlzbGFuZHMoWwpbIjEiLCIxIiwiMSJdLApbIjEiLCIxIiwiMSJdLApbIjEiLCIxIiwiMSJdCl0p').decode())\n>>> assert condition == 1, 'Test case 4 failed'\n>>> if condition == 1:\n...     score = 1.0\n>>> earned_points = float(os.environ.get('EARNED_POINTS', 0))\n>>> earned_points += score\n>>> log_variable('1_finalexam_q', f'{score}, {max_score}', question_id)\n>>> os.environ['EARNED_POINTS'] = str(earned_points)\n",
                  "failure_message": "Error: The function did not count islands correctly all 1s.",
                  "hidden": false,
                  "locked": false,
                  "points": 1,
                  "success_message": "Success: The function correctly counts islands all 1s."
                },
                {
                  "code": ">>> from pykubegrader.telemetry import ensure_responses, log_variable, score_question, submit_question, telemetry, update_responses\n>>> import os\n>>> import base64\n>>> import matplotlib\n>>> from pykubegrader.tokens.validate_token import validate_token\n>>> validate_token(assignment='week11-finalexam')\n>>> import matplotlib\n>>> matplotlib.use('Agg')\n>>> question_id = 'create-class-islands-5'\n>>> max_score = 1.0\n>>> score = 0\n>>> exec(base64.b64decode('Y29uZGl0aW9uID0gSXNsYW5kcygpLm51bUlzbGFuZHMoWwpbIjEiLCIwIiwiMSJdLApbIjAiLCIxIiwiMCJdLApbIjEiLCIwIiwiMSJdCl0p').decode())\n>>> assert condition == 5, 'Test case 5 failed'\n>>> if condition == 5:\n...     score = 1.0\n>>> earned_points = float(os.environ.get('EARNED_POINTS', 0))\n>>> earned_points += score\n>>> log_variable('1_finalexam_q', f'{score}, {max_score}', question_id)\n>>> os.environ['EARNED_POINTS'] = str(earned_points)\n",
                  "failure_message": "Error: The function did not count islands correctly x pattern.",
                  "hidden": false,
                  "locked": false,
                  "points": 1,
                  "success_message": "Success: The function correctly counts islands x pattern."
                },
                {
                  "code": ">>> from pykubegrader.telemetry import ensure_responses, log_variable, score_question, submit_question, telemetry, update_responses\n>>> import os\n>>> import base64\n>>> import matplotlib\n>>> from pykubegrader.tokens.validate_token import validate_token\n>>> validate_token(assignment='week11-finalexam')\n>>> import matplotlib\n>>> matplotlib.use('Agg')\n>>> question_id = 'create-class-islands-6'\n>>> max_score = 1.0\n>>> score = 0\n>>> exec(base64.b64decode('Y29uZGl0aW9uID0gSXNsYW5kcygpLm51bUlzbGFuZHMoWwpbIjEiLCIxIiwiMCIsIjAiLCIxIiwiMCIsIjEiXSwKWyIxIiwiMCIsIjAiLCIxIiwiMSIsIjAiLCIwIl0sClsiMCIsIjAiLCIxIiwiMCIsIjAiLCIxIiwiMSJdLApbIjEiLCIwIiwiMCIsIjEiLCIxIiwiMCIsIjAiXSwKWyIwIiwiMSIsIjEiLCIwIiwiMCIsIjEiLCIxIl0KXSk=').decode())\n>>> assert condition == 9, 'Test case 6 failed'\n>>> if condition == 9:\n...     score = 1.0\n>>> earned_points = float(os.environ.get('EARNED_POINTS', 0))\n>>> earned_points += score\n>>> log_variable('1_finalexam_q', f'{score}, {max_score}', question_id)\n>>> os.environ['EARNED_POINTS'] = str(earned_points)\n",
                  "failure_message": "Error: The function did not count islands correctly with a different grid.",
                  "hidden": false,
                  "locked": false,
                  "points": 1,
                  "success_message": "Success: The function correctly counts islands with a different grid."
                },
                {
                  "code": ">>> from pykubegrader.telemetry import ensure_responses, log_variable, score_question, submit_question, telemetry, update_responses\n>>> import os\n>>> import base64\n>>> import matplotlib\n>>> from pykubegrader.tokens.validate_token import validate_token\n>>> validate_token(assignment='week11-finalexam')\n>>> import matplotlib\n>>> matplotlib.use('Agg')\n>>> question_id = 'create-class-islands-7'\n>>> max_score = 1.5\n>>> score = 0\n>>> exec(base64.b64decode('Y29uZGl0aW9uID0gSXNsYW5kcygpLm51bUlzbGFuZHMoWwpbIjEiLCIxIiwiMSIsIjEiLCIxIl0sClsiMSIsIjEiLCIxIiwiMSIsIjEiXSwKWyIxIiwiMSIsIjEiLCIxIiwiMSJdLApbIjEiLCIxIiwiMSIsIjEiLCIxIl0KXSk=').decode())\n>>> assert condition == 1, 'Test case 7 failed'\n>>> if condition == 1:\n...     score = 1.5\n>>> earned_points = float(os.environ.get('EARNED_POINTS', 0))\n>>> earned_points += score\n>>> log_variable('1_finalexam_q', f'{score}, {max_score}', question_id)\n>>> os.environ['EARNED_POINTS'] = str(earned_points)\n",
                  "failure_message": "Error: The function did not count islands correctly all 1s again.",
                  "hidden": false,
                  "locked": false,
                  "points": 1.5,
                  "success_message": "Success: The function correctly counts islands all 1s again."
                },
                {
                  "code": ">>> from pykubegrader.telemetry import ensure_responses, log_variable, score_question, submit_question, telemetry, update_responses\n>>> import os\n>>> import base64\n>>> import matplotlib\n>>> from pykubegrader.tokens.validate_token import validate_token\n>>> validate_token(assignment='week11-finalexam')\n>>> import matplotlib\n>>> matplotlib.use('Agg')\n>>> question_id = 'create-class-islands-8'\n>>> max_score = 1.5\n>>> score = 0\n>>> exec(base64.b64decode('Y29uZGl0aW9uID0gSXNsYW5kcygpLm51bUlzbGFuZHMoWwpbIjEiLCIwIiwiMCIsIjAiLCIxIiwiMCIsIjAiLCIxIl0sClsiMCIsIjAiLCIwIiwiMCIsIjAiLCIwIiwiMCIsIjAiXSwKWyIxIiwiMCIsIjAiLCIwIiwiMSIsIjAiLCIwIiwiMSJdLApbIjAiLCIwIiwiMCIsIjAiLCIwIiwiMCIsIjAiLCIwIl0sClsiMSIsIjAiLCIwIiwiMCIsIjEiLCIwIiwiMCIsIjEiXQpdKQ==').decode())\n>>> assert condition == 9, 'Test case 8 failed'\n>>> if condition == 9:\n...     score = 1.5\n>>> earned_points = float(os.environ.get('EARNED_POINTS', 0))\n>>> earned_points += score\n>>> log_variable('1_finalexam_q', f'{score}, {max_score}', question_id)\n>>> os.environ['EARNED_POINTS'] = str(earned_points)\n",
                  "failure_message": "Error: The function did not count islands correctly with less 1s.",
                  "hidden": false,
                  "locked": false,
                  "points": 1.5,
                  "success_message": "Success: The function correctly counts islands with less 1s."
                },
                {
                  "code": ">>> from pykubegrader.telemetry import ensure_responses, log_variable, score_question, submit_question, telemetry, update_responses\n>>> import os\n>>> import base64\n>>> import matplotlib\n>>> from pykubegrader.tokens.validate_token import validate_token\n>>> validate_token(assignment='week11-finalexam')\n>>> import matplotlib\n>>> matplotlib.use('Agg')\n>>> question_id = 'create-class-islands-9'\n>>> max_score = 1.5\n>>> score = 0\n>>> exec(base64.b64decode('Y29uZGl0aW9uID0gSXNsYW5kcygpLm51bUlzbGFuZHMoWwpbIjEiLCIxIiwiMSIsIjAiLCIwIl0sClsiMSIsIjEiLCIxIiwiMCIsIjAiXSwKWyIxIiwiMSIsIjEiLCIwIiwiMCJdLApbIjAiLCIwIiwiMCIsIjEiLCIxIl0sClsiMCIsIjAiLCIwIiwiMSIsIjEiXQpdKQ==').decode())\n>>> assert condition == 2, 'Test case 9 failed'\n>>> if condition == 2:\n...     score = 1.5\n>>> earned_points = float(os.environ.get('EARNED_POINTS', 0))\n>>> earned_points += score\n>>> log_variable('1_finalexam_q', f'{score}, {max_score}', question_id)\n>>> os.environ['EARNED_POINTS'] = str(earned_points)\n",
                  "failure_message": "Error: The function did not count islands correctly with a pattern.",
                  "hidden": false,
                  "locked": false,
                  "points": 1.5,
                  "success_message": "Success: The function correctly counts islands with a pattern."
                },
                {
                  "code": ">>> from pykubegrader.telemetry import ensure_responses, log_variable, score_question, submit_question, telemetry, update_responses\n>>> import os\n>>> import base64\n>>> import matplotlib\n>>> from pykubegrader.tokens.validate_token import validate_token\n>>> validate_token(assignment='week11-finalexam')\n>>> import matplotlib\n>>> matplotlib.use('Agg')\n>>> question_id = 'create-class-islands-10'\n>>> max_score = 2.5\n>>> score = 0\n>>> exec(base64.b64decode('Z3JpZF90ZXN0XzIzID0gWwpbIjEiLCAiMCIsICIxIl0sClsiMCIsICIxIiwgIjAiXSwKWyIxIiwgIjAiLCAiMSJdCl0KSXNsYW5kcygpLmRmcyhncmlkX3Rlc3RfMjMsIDEsIDEsIDMsIDMpCmNvbmRpdGlvbiA9IGdyaWRfdGVzdF8yMyA9PSBbClsiMSIsICIwIiwgIjEiXSwKWyIwIiwgIjAiLCAiMCJdLApbIjEiLCAiMCIsICIxIl0KXQ==').decode())\n>>> assert condition, 'Test case 10 failed'\n>>> if condition:\n...     score = 2.5\n>>> earned_points = float(os.environ.get('EARNED_POINTS', 0))\n>>> earned_points += score\n>>> log_variable('1_finalexam_q', f'{score}, {max_score}', question_id)\n>>> os.environ['EARNED_POINTS'] = str(earned_points)\n",
                  "failure_message": "Error: DFS incorrectly traverses diagonally.",
                  "hidden": false,
                  "locked": false,
                  "points": 2.5,
                  "success_message": "Success: DFS correctly avoids diagonal traversal."
                },
                {
                  "code": ">>> from pykubegrader.telemetry import ensure_responses, log_variable, score_question, submit_question, telemetry, update_responses\n>>> import os\n>>> import base64\n>>> import matplotlib\n>>> from pykubegrader.tokens.validate_token import validate_token\n>>> validate_token(assignment='week11-finalexam')\n>>> import matplotlib\n>>> matplotlib.use('Agg')\n>>> question_id = 'create-class-islands-11'\n>>> max_score = 2.5\n>>> score = 0\n>>> exec(base64.b64decode('Z3JpZF90ZXN0XzI0ID0gW1siMSJdICogMjAgZm9yIF8gaW4gcmFuZ2UoMjApXQpJc2xhbmRzKCkuZGZzKGdyaWRfdGVzdF8yNCwgMCwgMCwgMjAsIDIwKQpjb25kaXRpb24gPSBhbGwoY2VsbCA9PSAiMCIgZm9yIHJvdyBpbiBncmlkX3Rlc3RfMjQgZm9yIGNlbGwgaW4gcm93KQ==').decode())\n>>> assert condition, 'Test case 11 failed'\n>>> if condition:\n...     score = 2.5\n>>> earned_points = float(os.environ.get('EARNED_POINTS', 0))\n>>> earned_points += score\n>>> log_variable('1_finalexam_q', f'{score}, {max_score}', question_id)\n>>> os.environ['EARNED_POINTS'] = str(earned_points)\n",
                  "failure_message": "Error: DFS fails to mark all cells in a filled grid.",
                  "hidden": false,
                  "locked": false,
                  "points": 2.5,
                  "success_message": "Success: DFS fully traverses a large filled grid ."
                },
                {
                  "code": ">>> from pykubegrader.telemetry import ensure_responses, log_variable, score_question, submit_question, telemetry, update_responses\n>>> import os\n>>> import base64\n>>> import matplotlib\n>>> from pykubegrader.tokens.validate_token import validate_token\n>>> validate_token(assignment='week11-finalexam')\n>>> import matplotlib\n>>> matplotlib.use('Agg')\n>>> question_id = 'create-class-islands-12'\n>>> max_score = 2.5\n>>> score = 0\n>>> exec(base64.b64decode('Z3JpZF90ZXN0XzI1ID0gWwpbIjEiLCAiMSIsICIwIl0sClsiMSIsICIwIl0sClsiMCIsICIxIiwgIjEiLCAiMCJdCl0KSXNsYW5kcygpLmRmcyhncmlkX3Rlc3RfMjUsIDAsIDAsIDMsIDQpCmNvbmRpdGlvbiA9IGdyaWRfdGVzdF8yNSA9PSBbClsiMCIsICIwIiwgIjAiXSwKWyIwIiwgIjAiXSwKWyIwIiwgIjEiLCAiMSIsICIwIl0KXQ==').decode())\n>>> assert condition, 'Test case 12 failed'\n>>> if condition:\n...     score = 2.5\n>>> earned_points = float(os.environ.get('EARNED_POINTS', 0))\n>>> earned_points += score\n>>> log_variable('1_finalexam_q', f'{score}, {max_score}', question_id)\n>>> os.environ['EARNED_POINTS'] = str(earned_points)\n",
                  "failure_message": "Error: DFS fails on irregular grid structures.",
                  "hidden": false,
                  "locked": false,
                  "points": 2.5,
                  "success_message": "Success: DFS correctly handles irregular grids."
                },
                {
                  "code": ">>> from pykubegrader.telemetry import ensure_responses, log_variable, score_question, submit_question, telemetry, update_responses\n>>> import os\n>>> import base64\n>>> import matplotlib\n>>> from pykubegrader.tokens.validate_token import validate_token\n>>> validate_token(assignment='week11-finalexam')\n>>> import matplotlib\n>>> matplotlib.use('Agg')\n>>> question_id = 'create-class-islands-13'\n>>> max_score = 3.0\n>>> score = 0\n>>> exec(base64.b64decode('Z3JpZF90ZXN0XzI2ID0gW1siMCJdICogNTAgZm9yIF8gaW4gcmFuZ2UoNTApXQpncmlkX3Rlc3RfMjZbMF1bMF0gPSAiMSIKZ3JpZF90ZXN0XzI2WzI1XVsyNV0gPSAiMSIKZ3JpZF90ZXN0XzI2WzQ5XVs0OV0gPSAiMSIKY29uZGl0aW9uID0gSXNsYW5kcygpLm51bUlzbGFuZHMoZ3JpZF90ZXN0XzI2KSA9PSAz').decode())\n>>> assert condition, 'Test case 13 failed'\n>>> if condition:\n...     score = 3.0\n>>> earned_points = float(os.environ.get('EARNED_POINTS', 0))\n>>> earned_points += score\n>>> log_variable('1_finalexam_q', f'{score}, {max_score}', question_id)\n>>> os.environ['EARNED_POINTS'] = str(earned_points)\n",
                  "failure_message": "Error: DFS fails to identify scattered islands with a loop.",
                  "hidden": false,
                  "locked": false,
                  "points": 3,
                  "success_message": "Success: DFS correctly handles large sparse grids with a loop."
                },
                {
                  "code": ">>> from pykubegrader.telemetry import ensure_responses, log_variable, score_question, submit_question, telemetry, update_responses\n>>> import os\n>>> import base64\n>>> import matplotlib\n>>> from pykubegrader.tokens.validate_token import validate_token\n>>> validate_token(assignment='week11-finalexam')\n>>> import matplotlib\n>>> matplotlib.use('Agg')\n>>> question_id = 'create-class-islands-14'\n>>> max_score = 3.0\n>>> score = 0\n>>> grid_test_27 = [['1'] + ['0'] * 49 for _ in range(50)]\n>>> for i in range(50):\n...     grid_test_27[i][i] = '1'\n>>> exec(base64.b64decode('Y29uZGl0aW9uID0gSXNsYW5kcygpLm51bUlzbGFuZHMoZ3JpZF90ZXN0XzI3KSA9PSA0OQ==').decode())\n>>> assert condition, 'Test case 14 failed'\n>>> if condition:\n...     score = 3.0\n>>> earned_points = float(os.environ.get('EARNED_POINTS', 0))\n>>> earned_points += score\n>>> log_variable('1_finalexam_q', f'{score}, {max_score}', question_id)\n>>> os.environ['EARNED_POINTS'] = str(earned_points)\n",
                  "failure_message": "Error: DFS fails under high recursion depth with a snaking island 1's and 0's in a loop.",
                  "hidden": false,
                  "locked": false,
                  "points": 3,
                  "success_message": "Success: DFS correctly navigates a snaking island 1's and 0's in a loop."
                },
                {
                  "code": ">>> from pykubegrader.telemetry import ensure_responses, log_variable, score_question, submit_question, telemetry, update_responses\n>>> import os\n>>> import base64\n>>> import matplotlib\n>>> from pykubegrader.tokens.validate_token import validate_token\n>>> validate_token(assignment='week11-finalexam')\n>>> import matplotlib\n>>> matplotlib.use('Agg')\n>>> question_id = 'create-class-islands-15'\n>>> max_score = 3.0\n>>> score = 0\n>>> grid_test_29 = [['0'] * 10 for _ in range(10)]\n>>> for i in range(10):\n...     grid_test_29[i][0] = '1'\n...     grid_test_29[i][-1] = '1'\n>>> for j in range(10):\n...     grid_test_29[0][j] = '1'\n...     grid_test_29[-1][j] = '1'\n>>> grid_test_29[5][5] = '1'\n>>> exec(base64.b64decode('Y29uZGl0aW9uID0gSXNsYW5kcygpLm51bUlzbGFuZHMoZ3JpZF90ZXN0XzI5KSA9PSAy').decode())\n>>> assert condition, 'Test case 15 failed'\n>>> if condition:\n...     score = 3.0\n>>> earned_points = float(os.environ.get('EARNED_POINTS', 0))\n>>> earned_points += score\n>>> log_variable('1_finalexam_q', f'{score}, {max_score}', question_id)\n>>> os.environ['EARNED_POINTS'] = str(earned_points)\n",
                  "failure_message": "Error: DFS does not properly traverse spiral structure with 0's in a loop.",
                  "hidden": false,
                  "locked": false,
                  "points": 3,
                  "success_message": "Success: DFS correctly identifies a spiral island with 0's in a loop."
                },
                {
                  "code": ">>> from pykubegrader.telemetry import ensure_responses, log_variable, score_question, submit_question, telemetry, update_responses\n>>> import os\n>>> import base64\n>>> import matplotlib\n>>> from pykubegrader.tokens.validate_token import validate_token\n>>> validate_token(assignment='week11-finalexam')\n>>> import matplotlib\n>>> matplotlib.use('Agg')\n>>> question_id = 'create-class-islands-16'\n>>> max_score = 3.0\n>>> score = 0\n>>> exec(base64.b64decode('Z3JpZF90ZXN0XzMwID0gW1siMSIgaWYgKGkgKyBqKSAlIDIgPT0gMCBlbHNlICIwIiBmb3IgaiBpbiByYW5nZSgxMCldIGZvciBpIGluIHJhbmdlKDEwKV0KY29uZGl0aW9uID0gSXNsYW5kcygpLm51bUlzbGFuZHMoZ3JpZF90ZXN0XzMwKSA9PSA1MA==').decode())\n>>> assert condition, 'Test case 16 failed'\n>>> if condition:\n...     score = 3.0\n>>> earned_points = float(os.environ.get('EARNED_POINTS', 0))\n>>> earned_points += score\n>>> log_variable('1_finalexam_q', f'{score}, {max_score}', question_id)\n>>> os.environ['EARNED_POINTS'] = str(earned_points)\n",
                  "failure_message": "Error: DFS incorrectly merges separate checkerboard islands.",
                  "hidden": false,
                  "locked": false,
                  "points": 3,
                  "success_message": "Success: DFS correctly counts separate islands in checkerboard grid."
                }
              ],
              "scored": true,
              "setup": "",
              "teardown": "",
              "type": "doctest"
            }
          ]
        },
        "import-functions-5": {
          "name": "import-functions-5",
          "points": null,
          "suites": [
            {
              "cases": [
                {
                  "code": ">>> from pykubegrader.telemetry import ensure_responses, log_variable, score_question, submit_question, telemetry, update_responses\n>>> import os\n>>> import base64\n>>> import matplotlib\n>>> from pykubegrader.tokens.validate_token import validate_token\n>>> validate_token(assignment='week11-finalexam')\n>>> import matplotlib\n>>> matplotlib.use('Agg')\n>>> max_question_points = str(0.5)\n>>> earned_points = 0\n>>> os.environ['EARNED_POINTS'] = str(earned_points)\n>>> os.environ['TOTAL_POINTS_FREE_RESPONSE'] = str(91.0)\n>>> from pykubegrader.tokens.validate_token import validate_token\n>>> validate_token(assignment='week11-finalexam')\n>>> log_variable('total-points', f'week11-finalexam, 1_finalexam_q', 91.0)\n>>> question_id = 'import-functions-5-1'\n>>> max_score = 0.5\n>>> score = 0\n>>> exec(base64.b64decode('IyBUZXN0IGlmIHJlcXVpcmVkIGxpYnJhcmllcyBhcmUgaW1wb3J0ZWQKaW1wb3J0IHN5cwpjb25kaXRpb24gPSAnc2tsZWFybicgaW4gc3lzLm1vZHVsZXMKY29uZGl0aW9uMiA9ICdudW1weScgaW4gc3lzLm1vZHVsZXMKY29uZGl0aW9uMyA9ICdtYXRwbG90bGliLnB5cGxvdCcgaW4gc3lzLm1vZHVsZXM=').decode())\n>>> assert condition, 'scikit-learn is not imported.'\n>>> assert condition2, 'numpy is not imported.'\n>>> assert condition3, 'matplotlib.pyplot is not imported.'\n>>> if condition and condition2 and condition3:\n...     score = 0.5\n>>> earned_points = float(os.environ.get('EARNED_POINTS', 0))\n>>> earned_points += score\n>>> log_variable('1_finalexam_q', f'{score}, {max_score}', question_id)\n>>> os.environ['EARNED_POINTS'] = str(earned_points)\n",
                  "failure_message": "Failed: Required libraries are not imported correctly.",
                  "hidden": false,
                  "locked": false,
                  "points": 0.5,
                  "success_message": "Success: Required libraries are imported correctly!"
                }
              ],
              "scored": true,
              "setup": "",
              "teardown": "",
              "type": "doctest"
            }
          ]
        },
        "import-functions-6": {
          "name": "import-functions-6",
          "points": null,
          "suites": [
            {
              "cases": [
                {
                  "code": ">>> from pykubegrader.telemetry import ensure_responses, log_variable, score_question, submit_question, telemetry, update_responses\n>>> import os\n>>> import base64\n>>> import matplotlib\n>>> from pykubegrader.tokens.validate_token import validate_token\n>>> validate_token(assignment='week11-finalexam')\n>>> import matplotlib\n>>> matplotlib.use('Agg')\n>>> import sys\n>>> max_question_points = str(0.5)\n>>> earned_points = 0\n>>> os.environ['EARNED_POINTS'] = str(earned_points)\n>>> os.environ['TOTAL_POINTS_FREE_RESPONSE'] = str(91.0)\n>>> from pykubegrader.tokens.validate_token import validate_token\n>>> validate_token(assignment='week11-finalexam')\n>>> log_variable('total-points', f'week11-finalexam, 1_finalexam_q', 91.0)\n>>> question_id = 'import-functions-6-1'\n>>> max_score = 0.5\n>>> score = 0\n>>> exec(base64.b64decode('Y29uZGl0aW9uMSA9ICJhYmMiIGluIHN5cy5tb2R1bGVz').decode())\n>>> assert condition1, \"Module 'abc' was not imported.\"\n>>> exec(base64.b64decode('Y29uZGl0aW9uMiA9IGhhc2F0dHIoc3lzLm1vZHVsZXNbImFiYyJdLCAiQUJDIik=').decode())\n>>> assert condition2, 'ABC class was not imported correctly.'\n>>> exec(base64.b64decode('Y29uZGl0aW9uMyA9IGhhc2F0dHIoc3lzLm1vZHVsZXNbImFiYyJdLCAiYWJzdHJhY3RtZXRob2QiKQ==').decode())\n>>> assert condition3, 'abstractmethod was not imported correctly.'\n>>> exec(base64.b64decode('Y29uZGl0aW9uNCA9ICJyYW5kb20iIGluIHN5cy5tb2R1bGVz').decode())\n>>> assert condition4, \"Module 'random' was not imported.\"\n>>> if condition1 and condition2 and condition3 and condition4:\n...     score = 0.5\n>>> earned_points = float(os.environ.get('EARNED_POINTS', 0))\n>>> earned_points += score\n>>> log_variable('1_finalexam_q', f'{score}, {max_score}', question_id)\n>>> os.environ['EARNED_POINTS'] = str(earned_points)\n",
                  "failure_message": "Import statement missing or incorrect.",
                  "hidden": false,
                  "locked": false,
                  "points": 0.5,
                  "success_message": "Success: Imports are correctly defined."
                }
              ],
              "scored": true,
              "setup": "",
              "teardown": "",
              "type": "doctest"
            }
          ]
        },
        "import-numpy": {
          "name": "import-numpy",
          "points": null,
          "suites": [
            {
              "cases": [
                {
                  "code": ">>> from pykubegrader.telemetry import ensure_responses, log_variable, score_question, submit_question, telemetry, update_responses\n>>> import os\n>>> import base64\n>>> import matplotlib\n>>> from pykubegrader.tokens.validate_token import validate_token\n>>> validate_token(assignment='week11-finalexam')\n>>> import matplotlib\n>>> matplotlib.use('Agg')\n>>> max_question_points = str(0.5)\n>>> earned_points = 0\n>>> os.environ['EARNED_POINTS'] = str(earned_points)\n>>> os.environ['TOTAL_POINTS_FREE_RESPONSE'] = str(91.0)\n>>> from pykubegrader.tokens.validate_token import validate_token\n>>> validate_token(assignment='week11-finalexam')\n>>> log_variable('total-points', f'week11-finalexam, 1_finalexam_q', 91.0)\n>>> question_id = 'import-numpy-1'\n>>> max_score = 0.5\n>>> score = 0\n>>> exec(base64.b64decode('Y29uZGl0aW9uMiA9ICJucCIgaW4gZ2xvYmFscygp').decode())\n>>> exec(base64.b64decode('YXNzZXJ0IGNvbmRpdGlvbjIsICJOdW1QeSBpcyBub3QgaW1wb3J0ZWQgYXMgJ25wJy4i').decode())\n>>> if condition2:\n...     score = 0.5\n>>> earned_points = float(os.environ.get('EARNED_POINTS', 0))\n>>> earned_points += score\n>>> log_variable('1_finalexam_q', f'{score}, {max_score}', question_id)\n>>> os.environ['EARNED_POINTS'] = str(earned_points)\n",
                  "failure_message": "NumPy is not imported correctly.",
                  "hidden": false,
                  "locked": false,
                  "points": 0.5,
                  "success_message": "Success: NumPy is imported correctly."
                }
              ],
              "scored": true,
              "setup": "",
              "teardown": "",
              "type": "doctest"
            }
          ]
        },
        "importing-modules": {
          "name": "importing-modules",
          "points": null,
          "suites": [
            {
              "cases": [
                {
                  "code": ">>> from pykubegrader.telemetry import ensure_responses, log_variable, score_question, submit_question, telemetry, update_responses\n>>> import os\n>>> import base64\n>>> import matplotlib\n>>> from pykubegrader.tokens.validate_token import validate_token\n>>> validate_token(assignment='week11-finalexam')\n>>> import matplotlib\n>>> matplotlib.use('Agg')\n>>> max_question_points = str(1.0)\n>>> earned_points = 0\n>>> os.environ['EARNED_POINTS'] = str(earned_points)\n>>> os.environ['TOTAL_POINTS_FREE_RESPONSE'] = str(91.0)\n>>> from pykubegrader.tokens.validate_token import validate_token\n>>> validate_token(assignment='week11-finalexam')\n>>> log_variable('total-points', f'week11-finalexam, 1_finalexam_q', 91.0)\n>>> question_id = 'importing-modules-1'\n>>> max_score = 0.5\n>>> score = 0\n>>> exec(base64.b64decode('Y29uZGl0aW9uMiA9ICJucCIgaW4gZ2xvYmFscygp').decode())\n>>> assert condition2, \"NumPy is not imported as 'np'.\"\n>>> if condition2:\n...     score = 0.5\n>>> earned_points = float(os.environ.get('EARNED_POINTS', 0))\n>>> earned_points += score\n>>> log_variable('1_finalexam_q', f'{score}, {max_score}', question_id)\n>>> os.environ['EARNED_POINTS'] = str(earned_points)\n",
                  "failure_message": "NumPy is not imported correctly.",
                  "hidden": false,
                  "locked": false,
                  "points": 0.5,
                  "success_message": "Success: NumPy is imported correctly."
                },
                {
                  "code": ">>> from pykubegrader.telemetry import ensure_responses, log_variable, score_question, submit_question, telemetry, update_responses\n>>> import os\n>>> import base64\n>>> import matplotlib\n>>> from pykubegrader.tokens.validate_token import validate_token\n>>> validate_token(assignment='week11-finalexam')\n>>> import matplotlib\n>>> matplotlib.use('Agg')\n>>> question_id = 'importing-modules-2'\n>>> max_score = 0.5\n>>> score = 0\n>>> exec(base64.b64decode('Y29uZGl0aW9uMiA9ICJwbHQiIGluIGdsb2JhbHMoKQ==').decode())\n>>> assert condition2, \"matplotlib pyplot is not imported as 'plt'.\"\n>>> if condition2:\n...     score = 0.5\n>>> earned_points = float(os.environ.get('EARNED_POINTS', 0))\n>>> earned_points += score\n>>> log_variable('1_finalexam_q', f'{score}, {max_score}', question_id)\n>>> os.environ['EARNED_POINTS'] = str(earned_points)\n",
                  "failure_message": "matplolib pyplot is not imported correctly.",
                  "hidden": false,
                  "locked": false,
                  "points": 0.5,
                  "success_message": "Success: matplolib pyplot is imported correctly."
                }
              ],
              "scored": true,
              "setup": "",
              "teardown": "",
              "type": "doctest"
            }
          ]
        },
        "load the mnist dataset": {
          "name": "load the mnist dataset",
          "points": null,
          "suites": [
            {
              "cases": [
                {
                  "code": ">>> from pykubegrader.telemetry import ensure_responses, log_variable, score_question, submit_question, telemetry, update_responses\n>>> import os\n>>> import base64\n>>> import matplotlib\n>>> from pykubegrader.tokens.validate_token import validate_token\n>>> validate_token(assignment='week11-finalexam')\n>>> import matplotlib\n>>> matplotlib.use('Agg')\n>>> max_question_points = str(1.5)\n>>> earned_points = 0\n>>> os.environ['EARNED_POINTS'] = str(earned_points)\n>>> os.environ['TOTAL_POINTS_FREE_RESPONSE'] = str(91.0)\n>>> from pykubegrader.tokens.validate_token import validate_token\n>>> validate_token(assignment='week11-finalexam')\n>>> log_variable('total-points', f'week11-finalexam, 1_finalexam_q', 91.0)\n>>> question_id = 'load the mnist dataset-1'\n>>> max_score = 0.5\n>>> score = 0\n>>> exec(base64.b64decode('Y29uZGl0aW9uMSA9ICdtbmlzdCcgaW4gZ2xvYmFscygp').decode())\n>>> assert condition1, 'mnist dataset is not defined.'\n>>> exec(base64.b64decode('Y29uZGl0aW9uMiA9IGhhc2F0dHIobW5pc3QsICdkYXRhJykgYW5kIGhhc2F0dHIobW5pc3QsICd0YXJnZXQnKQ==').decode())\n>>> assert condition2, 'MNIST dataset is missing expected attributes.'\n>>> if condition1 and condition2:\n...     score = 0.5\n>>> earned_points = float(os.environ.get('EARNED_POINTS', 0))\n>>> earned_points += score\n>>> log_variable('1_finalexam_q', f'{score}, {max_score}', question_id)\n>>> os.environ['EARNED_POINTS'] = str(earned_points)\n",
                  "failure_message": "Failed: MNIST dataset is not loaded correctly.",
                  "hidden": false,
                  "locked": false,
                  "points": 0.5,
                  "success_message": "Success: MNIST dataset is loaded correctly!"
                },
                {
                  "code": ">>> from pykubegrader.telemetry import ensure_responses, log_variable, score_question, submit_question, telemetry, update_responses\n>>> import os\n>>> import base64\n>>> import matplotlib\n>>> from pykubegrader.tokens.validate_token import validate_token\n>>> validate_token(assignment='week11-finalexam')\n>>> import matplotlib\n>>> matplotlib.use('Agg')\n>>> question_id = 'load the mnist dataset-2'\n>>> max_score = 1.0\n>>> score = 0\n>>> exec(base64.b64decode('Y29uZGl0aW9uMSA9ICdYJyBpbiBnbG9iYWxzKCkgYW5kICd5JyBpbiBnbG9iYWxzKCk=').decode())\n>>> assert condition1, 'X or y is not defined.'\n>>> exec(base64.b64decode('Y29uZGl0aW9uMiA9IGlzaW5zdGFuY2UoWCwgbnAubmRhcnJheSk=').decode())\n>>> assert condition2, 'X is not a numpy array.'\n>>> exec(base64.b64decode('Y29uZGl0aW9uMyA9IGlzaW5zdGFuY2UoeSwgbnAubmRhcnJheSk=').decode())\n>>> assert condition3, 'y is not a numpy array.'\n>>> exec(base64.b64decode('Y29uZGl0aW9uNCA9IHkuZHR5cGUgPT0gbnAudWludDg=').decode())\n>>> assert condition4, 'y is not of type np.uint8.'\n>>> if condition1 and condition2 and condition3 and condition4:\n...     score = 1.0\n>>> earned_points = float(os.environ.get('EARNED_POINTS', 0))\n>>> earned_points += score\n>>> log_variable('1_finalexam_q', f'{score}, {max_score}', question_id)\n>>> os.environ['EARNED_POINTS'] = str(earned_points)\n",
                  "failure_message": "Failed: Data is not correctly unpacked or incorrect types.",
                  "hidden": false,
                  "locked": false,
                  "points": 1,
                  "success_message": "Success: Data is unpacked and types are correct!"
                }
              ],
              "scored": true,
              "setup": "",
              "teardown": "",
              "type": "doctest"
            }
          ]
        },
        "median-function": {
          "name": "median-function",
          "points": null,
          "suites": [
            {
              "cases": [
                {
                  "code": ">>> from pykubegrader.telemetry import ensure_responses, log_variable, score_question, submit_question, telemetry, update_responses\n>>> import os\n>>> import base64\n>>> import matplotlib\n>>> from pykubegrader.tokens.validate_token import validate_token\n>>> validate_token(assignment='week11-finalexam')\n>>> import matplotlib\n>>> matplotlib.use('Agg')\n>>> max_question_points = str(2.0)\n>>> earned_points = 0\n>>> os.environ['EARNED_POINTS'] = str(earned_points)\n>>> os.environ['TOTAL_POINTS_FREE_RESPONSE'] = str(91.0)\n>>> from pykubegrader.tokens.validate_token import validate_token\n>>> validate_token(assignment='week11-finalexam')\n>>> log_variable('total-points', f'week11-finalexam, 1_finalexam_q', 91.0)\n>>> question_id = 'median-function-1'\n>>> max_score = 2.0\n>>> score = 0\n>>> exec(base64.b64decode('aW5wdXRfYXJyYXkgPSBucC5hcnJheShbNSwgMSwgOSwgMywgN10pCmV4cGVjdGVkX291dHB1dCA9IDUuMCAgIyBBZnRlciBzb3J0aW5nOiBbMSwgMywgNSwgNywgOV0KYWN0dWFsX291dHB1dCA9IGNvbXB1dGVfbWVkaWFuKGlucHV0X2FycmF5KQpjb25kaXRpb24gPSBucC5pc2Nsb3NlKGFjdHVhbF9vdXRwdXQsIGV4cGVjdGVkX291dHB1dCk=').decode())\n>>> assert condition, f'Expected {expected_output}, but got {actual_output}'\n>>> if condition:\n...     score = 2.0\n>>> earned_points = float(os.environ.get('EARNED_POINTS', 0))\n>>> earned_points += score\n>>> log_variable('1_finalexam_q', f'{score}, {max_score}', question_id)\n>>> os.environ['EARNED_POINTS'] = str(earned_points)\n",
                  "failure_message": "Failed: The function does not compute the median correctly.",
                  "hidden": false,
                  "locked": false,
                  "points": 2,
                  "success_message": "Success: The function correctly computes the median!"
                }
              ],
              "scored": true,
              "setup": "",
              "teardown": "",
              "type": "doctest"
            }
          ]
        },
        "model-training": {
          "name": "model-training",
          "points": null,
          "suites": [
            {
              "cases": [
                {
                  "code": ">>> from pykubegrader.telemetry import ensure_responses, log_variable, score_question, submit_question, telemetry, update_responses\n>>> import os\n>>> import base64\n>>> import matplotlib\n>>> from pykubegrader.tokens.validate_token import validate_token\n>>> validate_token(assignment='week11-finalexam')\n>>> import matplotlib\n>>> matplotlib.use('Agg')\n>>> max_question_points = str(2.25)\n>>> earned_points = 0\n>>> os.environ['EARNED_POINTS'] = str(earned_points)\n>>> os.environ['TOTAL_POINTS_FREE_RESPONSE'] = str(91.0)\n>>> from pykubegrader.tokens.validate_token import validate_token\n>>> validate_token(assignment='week11-finalexam')\n>>> log_variable('total-points', f'week11-finalexam, 1_finalexam_q', 91.0)\n>>> question_id = 'model-training-1'\n>>> max_score = 2.25\n>>> score = 0\n>>> exec(base64.b64decode('Y29uZGl0aW9uMSA9ICdtb2RlbCcgaW4gZ2xvYmFscygp').decode())\n>>> assert condition1, 'model is not defined.'\n>>> exec(base64.b64decode('Y29uZGl0aW9uMiA9IGlzaW5zdGFuY2UobW9kZWwsIFNHRENsYXNzaWZpZXIp').decode())\n>>> assert condition2, 'model is not an instance of SGDClassifier.'\n>>> if condition1 and condition2:\n...     score = 2.25\n>>> earned_points = float(os.environ.get('EARNED_POINTS', 0))\n>>> earned_points += score\n>>> log_variable('1_finalexam_q', f'{score}, {max_score}', question_id)\n>>> os.environ['EARNED_POINTS'] = str(earned_points)\n",
                  "failure_message": "Failed: Model is not instantiated correctly.",
                  "hidden": false,
                  "locked": false,
                  "points": 2.25,
                  "success_message": "Success: Model is instantiated correctly!"
                }
              ],
              "scored": true,
              "setup": "",
              "teardown": "",
              "type": "doctest"
            }
          ]
        },
        "model-training-and-evaluation": {
          "name": "model-training-and-evaluation",
          "points": null,
          "suites": [
            {
              "cases": [
                {
                  "code": ">>> from pykubegrader.telemetry import ensure_responses, log_variable, score_question, submit_question, telemetry, update_responses\n>>> import os\n>>> import base64\n>>> import matplotlib\n>>> from pykubegrader.tokens.validate_token import validate_token\n>>> validate_token(assignment='week11-finalexam')\n>>> import matplotlib\n>>> matplotlib.use('Agg')\n>>> max_question_points = str(8.5)\n>>> earned_points = 0\n>>> os.environ['EARNED_POINTS'] = str(earned_points)\n>>> os.environ['TOTAL_POINTS_FREE_RESPONSE'] = str(91.0)\n>>> from pykubegrader.tokens.validate_token import validate_token\n>>> validate_token(assignment='week11-finalexam')\n>>> log_variable('total-points', f'week11-finalexam, 1_finalexam_q', 91.0)\n>>> question_id = 'model-training-and-evaluation-1'\n>>> max_score = 1.25\n>>> score = 0\n>>> exec(base64.b64decode('Y29uZGl0aW9uID0gJ3lfcHJlZCcgaW4gZ2xvYmFscygp').decode())\n>>> assert condition, 'y_pred is not defined.'\n>>> exec(base64.b64decode('Y29uZGl0aW9uMSA9IGlzaW5zdGFuY2UoeV9wcmVkLCBucC5uZGFycmF5KQ==').decode())\n>>> assert condition1, 'y_pred is not a numpy array.'\n>>> exec(base64.b64decode('Y29uZGl0aW9uMiA9IGxlbih5X3ByZWQpID09IGxlbih5X3Rlc3Qp').decode())\n>>> assert condition2, 'Predictions do not match test set size.'\n>>> if condition and condition1 and condition2:\n...     score = 1.25\n>>> earned_points = float(os.environ.get('EARNED_POINTS', 0))\n>>> earned_points += score\n>>> log_variable('1_finalexam_q', f'{score}, {max_score}', question_id)\n>>> os.environ['EARNED_POINTS'] = str(earned_points)\n",
                  "failure_message": "Failed: Predictions are not made correctly.",
                  "hidden": false,
                  "locked": false,
                  "points": 1.25,
                  "success_message": "Success: Predictions are made correctly!"
                },
                {
                  "code": ">>> from pykubegrader.telemetry import ensure_responses, log_variable, score_question, submit_question, telemetry, update_responses\n>>> import os\n>>> import base64\n>>> import matplotlib\n>>> from pykubegrader.tokens.validate_token import validate_token\n>>> validate_token(assignment='week11-finalexam')\n>>> import matplotlib\n>>> matplotlib.use('Agg')\n>>> question_id = 'model-training-and-evaluation-2'\n>>> max_score = 2.25\n>>> score = 0\n>>> exec(base64.b64decode('Y29uZGl0aW9uID0gJ2FjY3VyYWN5JyBpbiBnbG9iYWxzKCk=').decode())\n>>> assert condition, 'accuracy is not defined.'\n>>> exec(base64.b64decode('Y29uZGl0aW9uMSA9IGlzaW5zdGFuY2UoYWNjdXJhY3ksIGZsb2F0KQ==').decode())\n>>> assert condition1, 'accuracy is not a float.'\n>>> exec(base64.b64decode('Y29uZGl0aW9uMiA9IDAuOSA8PSBhY2N1cmFjeSA8PSAxLjA=').decode())\n>>> assert condition2, 'accuracy is out of bounds.'\n>>> if condition and condition1 and condition2:\n...     score = 2.25\n>>> earned_points = float(os.environ.get('EARNED_POINTS', 0))\n>>> earned_points += score\n>>> log_variable('1_finalexam_q', f'{score}, {max_score}', question_id)\n>>> os.environ['EARNED_POINTS'] = str(earned_points)\n",
                  "failure_message": "Failed: Model accuracy is not computed correctly.",
                  "hidden": false,
                  "locked": false,
                  "points": 2.25,
                  "success_message": "Success: Model accuracy is computed correctly!"
                },
                {
                  "code": ">>> from pykubegrader.telemetry import ensure_responses, log_variable, score_question, submit_question, telemetry, update_responses\n>>> import os\n>>> import base64\n>>> import matplotlib\n>>> from pykubegrader.tokens.validate_token import validate_token\n>>> validate_token(assignment='week11-finalexam')\n>>> import matplotlib\n>>> matplotlib.use('Agg')\n>>> question_id = 'model-training-and-evaluation-3'\n>>> max_score = 5.0\n>>> score = 0\n>>> exec(base64.b64decode('b3V0MiA9IG5wLmFycmF5KFtbMTMwOSwgICAgMiwgICAgNCwgICAgMCwgICAgMSwgICAgMywgICAxNCwgICAgMiwgICAgOCwgICAgMF0sClsgICAwLCAxNTU1LCAgICA0LCAgICA4LCAgICAxLCAgICA5LCAgICAyLCAgICA0LCAgIDE2LCAgICAxXSwKWyAgIDgsICAgMjQsIDEyMjQsICAgMjEsICAgMjAsICAgMTAsICAgMjIsICAgMTQsICAgMzMsICAgIDRdLApbICAgOSwgICAxMCwgICAzMSwgMTI4NiwgICAgMSwgICAzNywgICAgOSwgICAxMSwgICAyMiwgICAxN10sClsgICA1LCAgICAzLCAgICA5LCAgICA3LCAxMjAxLCAgICAyLCAgIDEyLCAgICA2LCAgIDEzLCAgIDM3XSwKWyAgIDgsICAgMTQsICAgIDUsICAgNjgsICAgMTUsIDEwODksICAgMjQsICAgIDMsICAgMzgsICAgIDldLApbICAgNSwgICAgNSwgICAxMiwgICAgMSwgICAxMSwgICAyMSwgMTMzNiwgICAgMCwgICAgNSwgICAgMF0sClsgIDEwLCAgICA5LCAgIDI2LCAgICA1LCAgIDEyLCAgICA3LCAgICAwLCAxMzk2LCAgICA1LCAgIDMzXSwKWyAgMTMsICAgMzQsICAgMTYsICAgNDcsICAgIDgsICAgMzIsICAgMTMsICAgIDUsIDExNzEsICAgMThdLApbICAgOSwgICAxMSwgICAgNiwgICAyNiwgICA1NywgICAxMSwgICAgMCwgICA0NywgICAxOCwgMTIzNV1dKQ==').decode())\n>>> exec(base64.b64decode('Y29uZGl0aW9uczEgPSBhbGwob3V0Mi5mbGF0dGVuKCkgPT0gY29uZnVzaW9uX21hdHJpeCh5X3Rlc3QsIHlfcHJlZCkuZmxhdHRlbigpKQ==').decode())\n>>> assert conditions1, 'Confusion matrix is not computed correctly.'\n>>> if conditions1:\n...     score = 5.0\n>>> earned_points = float(os.environ.get('EARNED_POINTS', 0))\n>>> earned_points += score\n>>> log_variable('1_finalexam_q', f'{score}, {max_score}', question_id)\n>>> os.environ['EARNED_POINTS'] = str(earned_points)\n",
                  "failure_message": "Failed: Confusion matrix is not computed correctly. Check that you fixed your seeds",
                  "hidden": false,
                  "locked": false,
                  "points": 5,
                  "success_message": "Success: Confusion matrix is computed correctly!"
                }
              ],
              "scored": true,
              "setup": "",
              "teardown": "",
              "type": "doctest"
            }
          ]
        },
        "normalize-the-data": {
          "name": "normalize-the-data",
          "points": null,
          "suites": [
            {
              "cases": [
                {
                  "code": ">>> from pykubegrader.telemetry import ensure_responses, log_variable, score_question, submit_question, telemetry, update_responses\n>>> import os\n>>> import base64\n>>> import matplotlib\n>>> from pykubegrader.tokens.validate_token import validate_token\n>>> validate_token(assignment='week11-finalexam')\n>>> import matplotlib\n>>> matplotlib.use('Agg')\n>>> max_question_points = str(2.75)\n>>> earned_points = 0\n>>> os.environ['EARNED_POINTS'] = str(earned_points)\n>>> os.environ['TOTAL_POINTS_FREE_RESPONSE'] = str(91.0)\n>>> from pykubegrader.tokens.validate_token import validate_token\n>>> validate_token(assignment='week11-finalexam')\n>>> log_variable('total-points', f'week11-finalexam, 1_finalexam_q', 91.0)\n>>> question_id = 'normalize-the-data-1'\n>>> max_score = 1.5\n>>> score = 0\n>>> exec(base64.b64decode('Y29uZGl0aW9uID0gbnAubWF4KFgpIDw9IDEuMCBhbmQgbnAubWluKFgpID49IDAuMA==').decode())\n>>> assert condition, 'X is not properly normalized.'\n>>> if condition:\n...     score = 1.5\n>>> earned_points = float(os.environ.get('EARNED_POINTS', 0))\n>>> earned_points += score\n>>> log_variable('1_finalexam_q', f'{score}, {max_score}', question_id)\n>>> os.environ['EARNED_POINTS'] = str(earned_points)\n>>> responses = update_responses(question_id, str(X))\n",
                  "failure_message": "Failed: Data is not normalized correctly.",
                  "hidden": false,
                  "locked": false,
                  "points": 1.5,
                  "success_message": "Success: Data is normalized correctly!"
                },
                {
                  "code": ">>> from pykubegrader.telemetry import ensure_responses, log_variable, score_question, submit_question, telemetry, update_responses\n>>> import os\n>>> import base64\n>>> import matplotlib\n>>> from pykubegrader.tokens.validate_token import validate_token\n>>> validate_token(assignment='week11-finalexam')\n>>> import matplotlib\n>>> matplotlib.use('Agg')\n>>> question_id = 'normalize-the-data-2'\n>>> max_score = 1.25\n>>> score = 0\n>>> exec(base64.b64decode('Y29uZGl0aW9uMSA9ICdYX3RyYWluJyBpbiBnbG9iYWxzKCkgYW5kICdYX3Rlc3QnIGluIGdsb2JhbHMoKQ==').decode())\n>>> assert condition1, 'X_train or X_test is not defined.'\n>>> exec(base64.b64decode('Y29uZGl0aW9uMiA9ICd5X3RyYWluJyBpbiBnbG9iYWxzKCkgYW5kICd5X3Rlc3QnIGluIGdsb2JhbHMoKQ==').decode())\n>>> assert condition2, 'y_train or y_test is not defined.'\n>>> exec(base64.b64decode('Y29uZGl0aW9uMyA9IGxlbihYX3RyYWluKSA+IGxlbihYX3Rlc3Qp').decode())\n>>> assert condition3, 'Training set is smaller than test set.'\n>>> exec(base64.b64decode('Y29uZGl0aW9uNCA9IGxlbih5X3RyYWluKSA+IGxlbih5X3Rlc3Qp').decode())\n>>> assert condition4, 'Training labels are smaller than test labels.'\n>>> if condition1 and condition2 and condition3 and condition4:\n...     score = 1.25\n>>> earned_points = float(os.environ.get('EARNED_POINTS', 0))\n>>> earned_points += score\n>>> log_variable('1_finalexam_q', f'{score}, {max_score}', question_id)\n>>> os.environ['EARNED_POINTS'] = str(earned_points)\n",
                  "failure_message": "Failed: Data is not split correctly.",
                  "hidden": false,
                  "locked": false,
                  "points": 1.25,
                  "success_message": "Success: Data is split into training and test sets correctly!"
                }
              ],
              "scored": true,
              "setup": "",
              "teardown": "",
              "type": "doctest"
            }
          ]
        },
        "plot-spiral": {
          "name": "plot-spiral",
          "points": null,
          "suites": [
            {
              "cases": [
                {
                  "code": ">>> from pykubegrader.telemetry import ensure_responses, log_variable, score_question, submit_question, telemetry, update_responses\n>>> import os\n>>> import base64\n>>> import matplotlib\n>>> from pykubegrader.tokens.validate_token import validate_token\n>>> validate_token(assignment='week11-finalexam')\n>>> import matplotlib\n>>> matplotlib.use('Agg')\n>>> import inspect\n>>> max_question_points = str(11.5)\n>>> earned_points = 0\n>>> os.environ['EARNED_POINTS'] = str(earned_points)\n>>> os.environ['TOTAL_POINTS_FREE_RESPONSE'] = str(91.0)\n>>> from pykubegrader.tokens.validate_token import validate_token\n>>> validate_token(assignment='week11-finalexam')\n>>> log_variable('total-points', f'week11-finalexam, 1_finalexam_q', 91.0)\n>>> question_id = 'plot-spiral-1'\n>>> max_score = 2.5\n>>> score = 0\n>>> exec(base64.b64decode('c2lnbmF0dXJlID0gaW5zcGVjdC5zaWduYXR1cmUocGxvdF9zcGlyYWwpCmRlZmF1bHRzID0gewprOiB2LmRlZmF1bHQgZm9yIGssIHYgaW4gc2lnbmF0dXJlLnBhcmFtZXRlcnMuaXRlbXMoKQp9CmV4cGVjdGVkX2RlZmF1bHRzID0gewoibnVtX3R1cm5zIjogNSwKIm51bV9wb2ludHMiOiA1MDAsCiJjb2xvcm1hcCI6ICJwbGFzbWEiCn0KY29uZGl0aW9uID0gZGVmYXVsdHMgPT0gZXhwZWN0ZWRfZGVmYXVsdHM=').decode())\n>>> assert condition, f'Expected defaults {expected_defaults}, but got {defaults}'\n>>> if condition:\n...     score = 2.5\n>>> earned_points = float(os.environ.get('EARNED_POINTS', 0))\n>>> earned_points += score\n>>> log_variable('1_finalexam_q', f'{score}, {max_score}', question_id)\n>>> os.environ['EARNED_POINTS'] = str(earned_points)\n",
                  "failure_message": "Failed: The default values for parameters are incorrect.",
                  "hidden": false,
                  "locked": false,
                  "points": 2.5,
                  "success_message": "Success: The function uses the correct default values!"
                },
                {
                  "code": ">>> from pykubegrader.telemetry import ensure_responses, log_variable, score_question, submit_question, telemetry, update_responses\n>>> import os\n>>> import base64\n>>> import matplotlib\n>>> from pykubegrader.tokens.validate_token import validate_token\n>>> validate_token(assignment='week11-finalexam')\n>>> import matplotlib\n>>> matplotlib.use('Agg')\n>>> question_id = 'plot-spiral-2'\n>>> max_score = 2.5\n>>> score = 0\n>>> exec(base64.b64decode('b3V0ID0gcGx0LmlvZmYoKQpmaWcsIGF4ID0gcGxvdF9zcGlyYWwoKQpmaWdfdHlwZSA9IHR5cGUoZmlnKS5fX25hbWVfXwpheF90eXBlID0gdHlwZShheCkuX19uYW1lX18KY29uZGl0aW9uID0gZmlnX3R5cGUgPT0gIkZpZ3VyZSIgYW5kICJBeGVzIiBpbiBheF90eXBl').decode())\n>>> assert condition, f'Expected Matplotlib Figure and Axes, got {fig_type}, {ax_type}'\n>>> out = plt.ion()\n>>> if condition:\n...     score = 2.5\n>>> earned_points = float(os.environ.get('EARNED_POINTS', 0))\n>>> earned_points += score\n>>> log_variable('1_finalexam_q', f'{score}, {max_score}', question_id)\n>>> os.environ['EARNED_POINTS'] = str(earned_points)\n",
                  "failure_message": "Failed: The function does not return the expected Matplotlib objects.",
                  "hidden": false,
                  "locked": false,
                  "points": 2.5,
                  "success_message": "Success: The function returns a Matplotlib figure and axis!"
                },
                {
                  "code": ">>> from pykubegrader.telemetry import ensure_responses, log_variable, score_question, submit_question, telemetry, update_responses\n>>> import os\n>>> import base64\n>>> import matplotlib\n>>> from pykubegrader.tokens.validate_token import validate_token\n>>> validate_token(assignment='week11-finalexam')\n>>> import matplotlib\n>>> matplotlib.use('Agg')\n>>> question_id = 'plot-spiral-3'\n>>> max_score = 2.5\n>>> score = 0\n>>> out = plt.ioff()\n>>> exec(base64.b64decode('IyBSdW4gZnVuY3Rpb24gd2l0aCBrbm93biBpbnB1dHMKbnVtX3R1cm5zID0gNwpudW1fcG9pbnRzID0gMTAwMApjb2xvcm1hcF91c2VkID0gInZpcmlkaXMiCmZpZywgYXggPSBwbG90X3NwaXJhbChudW1fdHVybnM9bnVtX3R1cm5zLCBudW1fcG9pbnRzPW51bV9wb2ludHMsIGNvbG9ybWFwPWNvbG9ybWFwX3VzZWQpCgojIEV4dHJhY3Qgc2NhdHRlciBkYXRhCnNjYXR0ZXIgPSBheC5jb2xsZWN0aW9uc1swXQpzY2F0dGVyX3BvaW50cyA9IHNjYXR0ZXIuZ2V0X29mZnNldHMoKS5zaGFwZVswXQoKY29uZGl0aW9uID0gc2NhdHRlcl9wb2ludHMgPT0gbnVtX3BvaW50cw==').decode())\n>>> assert condition, f'Expected {num_points} points, but got {scatter_points}'\n>>> out = plt.ion()\n>>> if condition:\n...     score = 2.5\n>>> earned_points = float(os.environ.get('EARNED_POINTS', 0))\n>>> earned_points += score\n>>> log_variable('1_finalexam_q', f'{score}, {max_score}', question_id)\n>>> os.environ['EARNED_POINTS'] = str(earned_points)\n",
                  "failure_message": "Failed: The function did not use the correct custom parameters.",
                  "hidden": false,
                  "locked": false,
                  "points": 2.5,
                  "success_message": "Success: Custom values are passed correctly to plot_spiral!"
                },
                {
                  "code": ">>> from pykubegrader.telemetry import ensure_responses, log_variable, score_question, submit_question, telemetry, update_responses\n>>> import os\n>>> import base64\n>>> import matplotlib\n>>> from pykubegrader.tokens.validate_token import validate_token\n>>> validate_token(assignment='week11-finalexam')\n>>> import matplotlib\n>>> matplotlib.use('Agg')\n>>> question_id = 'plot-spiral-4'\n>>> max_score = 2.0\n>>> score = 0\n>>> exec(base64.b64decode('b3V0ID0gcGx0LmlvZmYoKQoKZmlnLCBheCA9IHBsb3Rfc3BpcmFsKCkKdGl0bGUgPSBheC5nZXRfdGl0bGUoKQp4bGFiZWwgPSBheC5nZXRfeGxhYmVsKCkKeWxhYmVsID0gYXguZ2V0X3lsYWJlbCgpCmFzcGVjdCA9IGF4LmdldF9hc3BlY3QoKQoKY29uZGl0aW9uMSA9IHRpdGxlID09ICJTcGlyYWwgd2l0aCBDaGFuZ2luZyBDb2xvcnMiCmNvbmRpdGlvbjIgPSB4bGFiZWwgPT0gIlgtYXhpcyIKY29uZGl0aW9uMyA9IHlsYWJlbCA9PSAiWS1heGlzIgpjb25kaXRpb240ID0gbnAuaXNjbG9zZShhc3BlY3QsIDEuMCk=').decode())\n>>> assert condition1, f\"Expected title 'Spiral with Changing Colors', but got '{title}'\"\n>>> assert condition2, f\"Expected xlabel 'X-axis', but got '{xlabel}'\"\n>>> assert condition3, f\"Expected ylabel 'Y-axis', but got '{ylabel}'\"\n>>> assert condition4, f\"Expected aspect 'equal', but got '{aspect}'\"\n>>> out = plt.ion()\n>>> if condition1 and condition2 and condition3 and condition4:\n...     score = 2.0\n>>> earned_points = float(os.environ.get('EARNED_POINTS', 0))\n>>> earned_points += score\n>>> log_variable('1_finalexam_q', f'{score}, {max_score}', question_id)\n>>> os.environ['EARNED_POINTS'] = str(earned_points)\n",
                  "failure_message": "Failed: Missing or incorrect title, axis labels, or aspect ratio.",
                  "hidden": false,
                  "locked": false,
                  "points": 2,
                  "success_message": "Success: The plot includes correct labels, title, and aspect ratio!"
                },
                {
                  "code": ">>> from pykubegrader.telemetry import ensure_responses, log_variable, score_question, submit_question, telemetry, update_responses\n>>> import os\n>>> import base64\n>>> import matplotlib\n>>> from pykubegrader.tokens.validate_token import validate_token\n>>> validate_token(assignment='week11-finalexam')\n>>> import matplotlib\n>>> matplotlib.use('Agg')\n>>> question_id = 'plot-spiral-5'\n>>> max_score = 2.0\n>>> score = 0\n>>> exec(base64.b64decode('b3V0ID0gcGx0LmlvZmYoKQoKZmlnLCBheCA9IHBsb3Rfc3BpcmFsKG51bV9wb2ludHM9MTAwKQpzY2F0dGVyID0gYXguY29sbGVjdGlvbnNbMF0KCmNvbG9yX2FycmF5ID0gc2NhdHRlci5nZXRfYXJyYXkoKQptYXJrZXJfc2l6ZSA9IHNjYXR0ZXIuZ2V0X3NpemVzKClbMF0KZmFjZV9jb2xvcnMgPSBzY2F0dGVyLmdldF9mYWNlY29sb3IoKS50b2xpc3QoKQoKY29uZGl0aW9uMSA9IGlzaW5zdGFuY2UoY29sb3JfYXJyYXksIG5wLm5kYXJyYXkpCmNvbmRpdGlvbjIgPSBsZW4oY29sb3JfYXJyYXkpID09IDEwMApjb25kaXRpb24zID0gbnAuaXNjbG9zZShtYXJrZXJfc2l6ZSwgMi4wKQpjb25kaXRpb240ID0gbnAuYWxsKG5wLmlzY2xvc2UoW1swLjEyMTU2ODYyNzQ1MDk4MDM5LCAwLjQ2NjY2NjY2NjY2NjY2NjcsIDAuNzA1ODgyMzUyOTQxMTc2NSwgMS4wXV0sIGZhY2VfY29sb3JzKSk=').decode())\n>>> assert condition1, 'color array is not a numpy array'\n>>> assert condition2, 'color array has the wrong number of elements'\n>>> assert condition3, 'marker size is not 2.0'\n>>> assert condition4, 'face color is not computed correctly'\n>>> out = plt.ion()\n>>> if condition1 and condition2 and condition3 and condition4:\n...     score = 2.0\n>>> earned_points = float(os.environ.get('EARNED_POINTS', 0))\n>>> earned_points += score\n>>> log_variable('1_finalexam_q', f'{score}, {max_score}', question_id)\n>>> os.environ['EARNED_POINTS'] = str(earned_points)\n",
                  "failure_message": "Failed: The scatter plot does not use the expected color gradient or settings.",
                  "hidden": false,
                  "locked": false,
                  "points": 2,
                  "success_message": "Success: The scatter plot uses a colormap and size/edge settings properly!"
                }
              ],
              "scored": true,
              "setup": "",
              "teardown": "",
              "type": "doctest"
            }
          ]
        }
      }
    }
  },
  "nbformat": 4,
  "nbformat_minor": 2
}