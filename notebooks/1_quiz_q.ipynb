{
 "cells": [
  {
   "cell_type": "code",
   "execution_count": null,
   "id": "3e057194",
   "metadata": {
    "tags": [
     "skip-execution"
    ]
   },
   "outputs": [],
   "source": [
    "from pykubegrader.tokens.validate_token import validate_token\n",
    "\n",
    "validate_token(\"type the key provided by your instructor here\", assignment=\"week8-quiz\")"
   ]
  },
  {
   "cell_type": "code",
   "execution_count": null,
   "metadata": {
    "deletable": false,
    "editable": false,
    "tags": [
     "skip-execution"
    ]
   },
   "outputs": [],
   "source": [
    "validate_token(assignment=\"week8-quiz\")\n",
    "\n",
    "# You must make sure to run all cells in sequence using shift + enter or you might encounter errors\n",
    "from pykubegrader.initialize import initialize_assignment\n",
    "\n",
    "responses = initialize_assignment(\n",
    "    \"1_quiz_q\", \"week_8\", \"quiz\", assignment_points=19.0, assignment_tag=\"week8-quiz\"\n",
    ")\n",
    "\n",
    "# Initialize Otter\n",
    "import otter\n",
    "\n",
    "grader = otter.Notebook(\"1_quiz_q.ipynb\")"
   ]
  },
  {
   "cell_type": "markdown",
   "metadata": {
    "deletable": false,
    "editable": false
   },
   "source": [
    "# ❓Quiz: Implicit Equation Plotting"
   ]
  },
  {
   "cell_type": "markdown",
   "metadata": {
    "deletable": false,
    "editable": false
   },
   "source": [
    "$$\n",
    "eq1 => y=\\frac{2}{1}x+16\\ \\left\\{-11\\le x\\le-9\\right\\}\n",
    "$$\n",
    "\n",
    "$$\n",
    "eq2 => y=\\frac{1}{2\\ }\\left|x+7\\right|-8\\ \\left\\{-11\\le x\\le-5\\right\\}\n",
    "$$\n",
    "\n",
    "$$\n",
    "eq3 => y=-1x+\\left(-12\\right)\\ \\left\\{-7\\le x\\le-5\\right\\}\n",
    "$$\n",
    "\n",
    "$$\n",
    "eq4 => y=\\frac{1}{2}x+1.5\\ \\left\\{-7\\le x\\le-5\\right\\}\n",
    "$$\n",
    "\n",
    "$$\n",
    "eq5 => y-\\left(-4\\right)=\\frac{1}{2}\\left(x-\\left(-5\\right)\\right)\\ \\left\\{-7\\le x\\le-5\\right\\}\n",
    "$$\n",
    "\n",
    "$$\n",
    "eq6 => y-\\left(-4\\right)=-3\\left(x-\\left(-5\\right)\\right)\\left\\{-5\\le x\\le-4\\right\\}\n",
    "$$\n",
    "\n",
    "$$\n",
    "eq7 => y-\\left(-7\\right)=\\frac{2}{1}\\left(x-\\left(-4\\right)\\right)\\left\\{-4\\le x\\le-3\\right\\}\n",
    "$$\n",
    "\n",
    "$$\n",
    "eq8 => x=-3\\left\\{-5\\le y\\le-3\\right\\}\n",
    "$$\n",
    "\n",
    "$$\n",
    "eq9 => y-\\left(-3\\right)=\\frac{1}{2}\\left(x-\\left(-3\\right)\\right)\\ \\left\\{-3\\le x\\le-1\\right\\}\n",
    "$$\n",
    "\n",
    "$$\n",
    "eq10 => y-\\left(-2\\right)=-1\\left(x-\\left(-1\\right)\\right)\\ \\left\\{-1\\le x\\le0\\right\\}\n",
    "$$\n",
    "\n",
    "$$\n",
    "eq11 => y-\\left(-3\\right)=1\\left(x-0\\right)\\ \\left\\{-1\\le x\\le0\\right\\}\n",
    "$$\n",
    "\n",
    "$$\n",
    "eq12 => y-\\left(-4\\right)=\\frac{1}{2}\\left(x-\\left(-1\\right)\\right)\\ \\left\\{-1\\le x\\le3\\right\\}\n",
    "$$\n",
    "\n",
    "$$\n",
    "eq13 => x=3\\left\\{-2\\le y\\le-1\\right\\}\n",
    "$$\n",
    "\n",
    "$$\n",
    "eq14 => y=1\\left|x-4\\right|-2\\ \\left\\{3\\le x\\le7\\right\\}\n",
    "$$\n",
    "\n",
    "$$\n",
    "eq15 => y-1=0\\left(x-7\\right)\\ \\left\\{6\\le x\\le7\\right\\}\n",
    "$$\n",
    "\n",
    "$$\n",
    "eq16 => y-1=1\\left(x-6\\right)\\ \\left\\{6\\le x\\le10\\right\\}\n",
    "$$\n",
    "\n",
    "$$\n",
    "eq17 => y-5=0\\left(x-10\\right)\\ \\left\\{3\\le x\\le10\\right\\}\n",
    "$$\n",
    "\n",
    "$$\n",
    "eq18 => y-5=3\\left(x-3\\right)\\ \\left\\{3\\le x\\le4\\right\\}\n",
    "$$\n",
    "\n",
    "$$\n",
    "eq19 => y-8=\\frac{1}{3}\\left(x-4\\right)\\ \\left\\{-2\\le x\\le4\\right\\}\n",
    "$$\n",
    "\n",
    "$$\n",
    "eq20 => y-6=3\\left(x-\\left(-2\\right)\\right)\\ \\left\\{-2\\le x\\le-1\\right\\}\n",
    "$$\n",
    "\n",
    "$$\n",
    "eq21 => y-9=1\\left(x-\\left(-1\\right)\\right)\\ \\left\\{-7\\le x\\le-1\\right\\}\n",
    "$$\n",
    "\n",
    "$$\n",
    "eq22 => x=-7\\ \\left\\{3\\le y\\le5\\right\\}\n",
    "$$\n",
    "\n",
    "$$\n",
    "eq23 => y-5=2\\left(x-\\left(-7\\right)\\right)\\ \\left\\{-11\\le x\\le-7\\right\\}\n",
    "$$\n",
    "\n",
    "$$\n",
    "eq24 => y-\\left(-3\\right)=\\frac{1}{2}\\left(x-\\left(-11\\right)\\right)\\ \\left\\{-11\\le x\\le-9\\right\\}\n",
    "$$"
   ]
  },
  {
   "cell_type": "code",
   "execution_count": null,
   "metadata": {
    "tags": [
     "skip-execution"
    ]
   },
   "outputs": [],
   "source": [
    "# Import the necessary libraries\n",
    "# numpy, matplotlib.pyplot using common alias plt and np\n",
    "..."
   ]
  },
  {
   "cell_type": "code",
   "execution_count": null,
   "metadata": {
    "deletable": false,
    "editable": false,
    "tags": [
     "skip-execution"
    ]
   },
   "outputs": [],
   "source": [
    "grader.check(\"q1-import-libraries\")"
   ]
  },
  {
   "cell_type": "code",
   "execution_count": null,
   "metadata": {
    "tags": [
     "skip-execution"
    ],
    "vscode": {
     "languageId": "markdown"
    }
   },
   "outputs": [],
   "source": [
    "## 📌 Some Predefined Mathematical Equations"
   ]
  },
  {
   "cell_type": "code",
   "execution_count": null,
   "metadata": {
    "tags": [
     "skip-execution"
    ]
   },
   "outputs": [],
   "source": [
    "# Predefined functions\n",
    "def eq1(x):\n",
    "    return (2 / 1) * x + 16\n",
    "\n",
    "\n",
    "def eq4(x):\n",
    "    return (1 / 2) * x + 1.5\n",
    "\n",
    "\n",
    "def eq5(x):\n",
    "    return (-4) + (1 / 2) * (x + 5)\n",
    "\n",
    "\n",
    "def eq6(x):\n",
    "    return (-4) + (-3) * (x + 5)\n",
    "\n",
    "\n",
    "def eq7(x):\n",
    "    return (-7) + (2 / 1) * (x + 4)\n",
    "\n",
    "\n",
    "def eq8(y):\n",
    "    return np.full_like(y, -3)\n",
    "\n",
    "\n",
    "def eq9(x):\n",
    "    return (-3) + (1 / 2) * (x + 3)\n",
    "\n",
    "\n",
    "def eq10(x):\n",
    "    return (-2) - (x + 1)\n",
    "\n",
    "\n",
    "def eq11(x):\n",
    "    return (-3) + 1 * (x - 0)\n",
    "\n",
    "\n",
    "def eq12(x):\n",
    "    return (-4) + (1 / 2) * (x + 1)\n",
    "\n",
    "\n",
    "def eq13(y):\n",
    "    return np.full_like(y, 3)\n",
    "\n",
    "\n",
    "def eq14(x):\n",
    "    return 1 * np.abs(x - 4) - 2\n",
    "\n",
    "\n",
    "def eq15(x):\n",
    "    return np.full_like(x, 1)\n",
    "\n",
    "\n",
    "def eq16(x):\n",
    "    return 1 + 1 * (x - 6)\n",
    "\n",
    "\n",
    "def eq17(x):\n",
    "    return np.full_like(x, 5)\n",
    "\n",
    "\n",
    "def eq18(x):\n",
    "    return 5 + 3 * (x - 3)\n",
    "\n",
    "\n",
    "def eq19(x):\n",
    "    return 8 + (1 / 3) * (x - 4)\n",
    "\n",
    "\n",
    "def eq20(x):\n",
    "    return 6 + 3 * (x + 2)\n",
    "\n",
    "\n",
    "def eq21(x):\n",
    "    return 9 + 1 * (x + 1)\n",
    "\n",
    "\n",
    "def eq22(y):\n",
    "    return np.full_like(y, -3)\n",
    "\n",
    "\n",
    "def eq23(x):\n",
    "    return 5 + 2 * (x + 7)\n",
    "\n",
    "\n",
    "def eq24(x):\n",
    "    return (-3) + (1 / 2) * (x + 11)"
   ]
  },
  {
   "cell_type": "code",
   "execution_count": null,
   "metadata": {
    "tags": [
     "skip-execution"
    ]
   },
   "outputs": [],
   "source": [
    "# Define EQ2 and EQ3 functions takes x as input and returns the output\n",
    "# eq2(x) = (1/2) * |x + 7| - 8, module of x + 7 can be calculated using np.abs()\n",
    "...\n",
    "# eq3(x) = -1 * x - 12\n",
    "..."
   ]
  },
  {
   "cell_type": "code",
   "execution_count": null,
   "metadata": {
    "deletable": false,
    "editable": false,
    "tags": [
     "skip-execution"
    ]
   },
   "outputs": [],
   "source": [
    "grader.check(\"q2-compute-the-first-equation\")"
   ]
  },
  {
   "cell_type": "code",
   "execution_count": null,
   "metadata": {
    "tags": [
     "skip-execution"
    ]
   },
   "outputs": [],
   "source": [
    "# eq 8. y = -7 use np.full_like() to create an array of -7s, like np.full_like(y, -7)\n",
    "...\n",
    "\n",
    "# eq 12. y = 3 use np.full_like() to create an array of 3s, like np.full_like(y, 3)\n",
    "..."
   ]
  },
  {
   "cell_type": "code",
   "execution_count": null,
   "metadata": {
    "deletable": false,
    "editable": false,
    "tags": [
     "skip-execution"
    ]
   },
   "outputs": [],
   "source": [
    "grader.check(\"q3-compute-the-next-equation\")"
   ]
  },
  {
   "cell_type": "code",
   "execution_count": null,
   "metadata": {
    "tags": [
     "skip-execution"
    ]
   },
   "outputs": [],
   "source": [
    "# Predefined Ranges"
   ]
  },
  {
   "cell_type": "code",
   "execution_count": null,
   "metadata": {
    "tags": [
     "skip-execution"
    ]
   },
   "outputs": [],
   "source": [
    "ranges_x = [\n",
    "    np.linspace(-11, -9, 100),\n",
    "    np.linspace(-11, -5, 100),\n",
    "    np.linspace(-7, -5, 100),\n",
    "    np.linspace(-7, -5, 100),\n",
    "    np.linspace(-7, -5, 100),\n",
    "    np.linspace(-5, -4, 100),\n",
    "    np.linspace(-4, -3, 100),\n",
    "    np.linspace(-3, -1, 100),\n",
    "    np.linspace(-1, 0, 100),\n",
    "    np.linspace(-1, 0, 100),\n",
    "    np.linspace(-1, 3, 100),\n",
    "    np.linspace(3, 7, 100),\n",
    "    np.linspace(6, 7, 100),\n",
    "    np.linspace(6, 10, 100),\n",
    "    np.linspace(3, 10, 100),\n",
    "    np.linspace(3, 4, 100),\n",
    "    np.linspace(-2, 4, 100),\n",
    "    np.linspace(-2, -1, 100),\n",
    "    np.linspace(-7, -1, 100),\n",
    "    np.linspace(-11, -7, 100),\n",
    "    np.linspace(-11, -9, 100),\n",
    "]\n",
    "# Functions corresponding to ranges\n",
    "functions_x = [\n",
    "    eq1,\n",
    "    eq2,\n",
    "    eq3,\n",
    "    eq4,\n",
    "    eq5,\n",
    "    eq6,\n",
    "    eq7,\n",
    "    eq9,\n",
    "    eq10,\n",
    "    eq11,\n",
    "    eq12,\n",
    "    eq14,\n",
    "    eq15,\n",
    "    eq16,\n",
    "    eq17,\n",
    "    eq18,\n",
    "    eq19,\n",
    "    eq20,\n",
    "    eq21,\n",
    "    eq23,\n",
    "    eq24,\n",
    "]"
   ]
  },
  {
   "cell_type": "code",
   "execution_count": null,
   "metadata": {
    "tags": [
     "skip-execution"
    ]
   },
   "outputs": [],
   "source": [
    "# define ranges_y for the vertical lines using np.linspace() function with 100 points between the given range as np.linspace(start, end, 100)\n",
    "# eq 8. y = -3, use np.linspace(start, end, 100) to create an array of -3s, like np.linspace(3, 5, 100)\n",
    "# eq 13. y = 3, use np.linspace(start, end, 100) to create an array of 3s, like np.linspace(-2, -1, 100)\n",
    "# eq 22. y = -5, use np.linspace(start, end, 100) to create an array of -5s, like np.linspace(-3, -5, 100)\n",
    "...\n",
    "\n",
    "# make a list of eq8, eq13, eq22, save to the variable functions_y\n",
    "...\n",
    "\n",
    "# Initialize the plot with figure size 10, 6 using plt.subplots() function, save to the variable fig, and ax for the axes, figsize is the optional argument.\n",
    "...\n",
    "\n",
    "\n",
    "# Plot x-based functions\n",
    "for func, x_range in zip(functions_x, ranges_x):\n",
    "    ax.plot(x_range, func(x_range), \"g\", linewidth=2)\n",
    "\n",
    "\n",
    "# Plot the equations y-based functions (vertical lines) using plt.plot() with blue color 'b' and linewidth 2\n",
    "# using a for loop to iterate over the functions_y and ranges_y using zip() function to combine them\n",
    "# look at the previous example for the reference of the synax -- you can basicaly copy the syntax and change the variables\n",
    "...\n",
    "\n",
    "\n",
    "# Set up plot appearance\n",
    "# Set the x-axis label using ax.set_xlabel() function - \"X-Axis\"\n",
    "# Set the y-axis label using ax.set_ylabel() function - \"Y-Axis\"\n",
    "# Set the title using ax.set_title() function - \"Graph of Multiple Equations making Eagles Logo\"\n",
    "# Set the grid using ax.grid() function\n",
    "# Show the plot using plt.show() function\n",
    "# Set axhline and axvline using plt.axhline() and plt.axvline() functions to draw horizontal and vertical lines\n",
    "# Set the color of the lines as gray using color='gray'\n",
    "# Set the linestyle as dashed using linestyle='dashed'\n",
    "# Set the linewidth as 1 using linewidth=1\n",
    "..."
   ]
  },
  {
   "cell_type": "code",
   "execution_count": null,
   "metadata": {
    "deletable": false,
    "editable": false,
    "tags": [
     "skip-execution"
    ]
   },
   "outputs": [],
   "source": [
    "grader.check(\"q4-compute-the-range-and-plots\")"
   ]
  },
  {
   "cell_type": "markdown",
   "id": "869aa3b8",
   "metadata": {},
   "source": [
    "## Submitting Assignment\n",
    "\n",
    "Please run the following block of code using `shift + enter` to submit your assignment, you should see your score."
   ]
  },
  {
   "cell_type": "code",
   "execution_count": null,
   "id": "35b09f75",
   "metadata": {
    "deletable": false,
    "editable": true,
    "tags": [
     "skip-execution"
    ]
   },
   "outputs": [],
   "source": [
    "from pykubegrader.tokens.validate_token import validate_token\n",
    "\n",
    "validate_token(assignment=\"week8-quiz\")\n",
    "\n",
    "\n",
    "from pykubegrader.submit.submit_assignment import submit_assignment\n",
    "\n",
    "submit_assignment(\"week8-quiz\", \"1_quiz_q\")"
   ]
  }
 ],
 "metadata": {
  "kernelspec": {
   "display_name": "Python 3",
   "language": "python",
   "name": "python3"
  },
  "language_info": {
   "codemirror_mode": {
    "name": "ipython",
    "version": 3
   },
   "file_extension": ".py",
   "mimetype": "text/x-python",
   "name": "python",
   "nbconvert_exporter": "python",
   "pygments_lexer": "ipython3",
   "version": "3.12.7"
  },
  "otter": {
   "OK_FORMAT": true,
   "tests": {
    "q1-import-libraries": {
     "name": "q1-import-libraries",
     "points": null,
     "suites": [
      {
       "cases": [
        {
         "code": ">>> from pykubegrader.telemetry import ensure_responses, log_variable, score_question, submit_question, telemetry, update_responses\n>>> import os\n>>> import base64\n>>> from pykubegrader.tokens.validate_token import validate_token\n>>> validate_token(assignment='week8-quiz')\n>>> import sys\n>>> imported_modules = set(sys.modules.keys())\n>>> max_question_points = str(2.0)\n>>> earned_points = 0\n>>> os.environ['EARNED_POINTS'] = str(earned_points)\n>>> os.environ['TOTAL_POINTS_FREE_RESPONSE'] = str(19.0)\n>>> from pykubegrader.tokens.validate_token import validate_token\n>>> validate_token(assignment='week8-quiz')\n>>> log_variable('total-points', f'week8-quiz, 1_quiz_q', 19.0)\n>>> question_id = 'q1-import-libraries-1'\n>>> max_score = 2.0\n>>> score = 0\n>>> required_libraries = {'matplotlib.pyplot', 'numpy', 'math'}\n>>> missing_libraries = required_libraries - imported_modules\n>>> assert not missing_libraries, f'Missing imports: {missing_libraries}. Ensure all required libraries are imported.'\n>>> if not missing_libraries:\n...     score = 2.0\n>>> earned_points = float(os.environ.get('EARNED_POINTS', 0))\n>>> earned_points += score\n>>> log_variable('1_quiz_q', f'{score}, {max_score}', question_id)\n>>> os.environ['EARNED_POINTS'] = str(earned_points)\n>>> responses = update_responses(question_id, str(imported_modules))\n",
         "failure_message": "Failed: One or more required libraries or typing imports are missing.",
         "hidden": false,
         "locked": false,
         "points": 2,
         "success_message": "Success: All required libraries and typing imports are correctly imported!"
        }
       ],
       "scored": true,
       "setup": "",
       "teardown": "",
       "type": "doctest"
      }
     ]
    },
    "q2-compute-the-first-equation": {
     "name": "q2-compute-the-first-equation",
     "points": null,
     "suites": [
      {
       "cases": [
        {
         "code": ">>> from pykubegrader.telemetry import ensure_responses, log_variable, score_question, submit_question, telemetry, update_responses\n>>> import os\n>>> import base64\n>>> from pykubegrader.tokens.validate_token import validate_token\n>>> validate_token(assignment='week8-quiz')\n>>> max_question_points = str(4.0)\n>>> earned_points = 0\n>>> os.environ['EARNED_POINTS'] = str(earned_points)\n>>> os.environ['TOTAL_POINTS_FREE_RESPONSE'] = str(19.0)\n>>> from pykubegrader.tokens.validate_token import validate_token\n>>> validate_token(assignment='week8-quiz')\n>>> log_variable('total-points', f'week8-quiz, 1_quiz_q', 19.0)\n>>> question_id = 'q2-compute-the-first-equation-1'\n>>> max_score = 2.0\n>>> score = 0\n>>> eq2_edge_cases = [eq2(x) for x in [-11, -7, -5]]\n>>> condition = all((isinstance(val, float) for val in eq2_edge_cases))\n>>> assert condition\n>>> if condition:\n...     score = 2.0\n>>> earned_points = float(os.environ.get('EARNED_POINTS', 0))\n>>> earned_points += score\n>>> log_variable('1_quiz_q', f'{score}, {max_score}', question_id)\n>>> os.environ['EARNED_POINTS'] = str(earned_points)\n>>> responses = update_responses(question_id, str(eq2_edge_cases))\n",
         "failure_message": "Failed: `eq2()` does not handle absolute values correctly.",
         "hidden": false,
         "locked": false,
         "points": 2,
         "success_message": "Success: `eq2()` handles absolute values correctly!"
        },
        {
         "code": ">>> from pykubegrader.telemetry import ensure_responses, log_variable, score_question, submit_question, telemetry, update_responses\n>>> import os\n>>> import base64\n>>> from pykubegrader.tokens.validate_token import validate_token\n>>> validate_token(assignment='week8-quiz')\n>>> question_id = 'q2-compute-the-first-equation-2'\n>>> max_score = 2.0\n>>> score = 0\n>>> eq3_edge_cases = [eq3(x) for x in [-20, -15, -50]]\n>>> condition = all((isinstance(val, int) for val in eq3_edge_cases))\n>>> assert condition\n>>> if condition:\n...     score = 2.0\n>>> earned_points = float(os.environ.get('EARNED_POINTS', 0))\n>>> earned_points += score\n>>> log_variable('1_quiz_q', f'{score}, {max_score}', question_id)\n>>> os.environ['EARNED_POINTS'] = str(earned_points)\n>>> responses = update_responses(question_id, str(eq3_edge_cases))\n",
         "failure_message": "Failed: `eq3()` does not handle negative slope correctly.",
         "hidden": false,
         "locked": false,
         "points": 2,
         "success_message": "Success: `eq3()` handles negative slope correctly!"
        }
       ],
       "scored": true,
       "setup": "",
       "teardown": "",
       "type": "doctest"
      }
     ]
    },
    "q3-compute-the-next-equation": {
     "name": "q3-compute-the-next-equation",
     "points": null,
     "suites": [
      {
       "cases": [
        {
         "code": ">>> from pykubegrader.telemetry import ensure_responses, log_variable, score_question, submit_question, telemetry, update_responses\n>>> import os\n>>> import base64\n>>> from pykubegrader.tokens.validate_token import validate_token\n>>> validate_token(assignment='week8-quiz')\n>>> max_question_points = str(4.0)\n>>> earned_points = 0\n>>> os.environ['EARNED_POINTS'] = str(earned_points)\n>>> os.environ['TOTAL_POINTS_FREE_RESPONSE'] = str(19.0)\n>>> from pykubegrader.tokens.validate_token import validate_token\n>>> validate_token(assignment='week8-quiz')\n>>> log_variable('total-points', f'week8-quiz, 1_quiz_q', 19.0)\n>>> question_id = 'q3-compute-the-next-equation-1'\n>>> max_score = 2.0\n>>> score = 0\n>>> eq8_edge_cases = [eq8(y) for y in [-5, -4, -3]]\n>>> condition = all((val == -7 for val in eq8_edge_cases))\n>>> assert condition\n>>> if condition:\n...     score = 2.0\n>>> earned_points = float(os.environ.get('EARNED_POINTS', 0))\n>>> earned_points += score\n>>> log_variable('1_quiz_q', f'{score}, {max_score}', question_id)\n>>> os.environ['EARNED_POINTS'] = str(earned_points)\n>>> responses = update_responses(question_id, str(eq8_edge_cases))\n",
         "failure_message": "Failed: `eq8()` does not return constant x values correctly.",
         "hidden": false,
         "locked": false,
         "points": 2,
         "success_message": "Success: `eq8()` correctly returns constant x values!"
        },
        {
         "code": ">>> from pykubegrader.telemetry import ensure_responses, log_variable, score_question, submit_question, telemetry, update_responses\n>>> import os\n>>> import base64\n>>> from pykubegrader.tokens.validate_token import validate_token\n>>> validate_token(assignment='week8-quiz')\n>>> question_id = 'q3-compute-the-next-equation-2'\n>>> max_score = 2.0\n>>> score = 0\n>>> eq13_edge_cases = [eq13(y) for y in [-2, -1]]\n>>> condition = all((val == 3 for val in eq13_edge_cases))\n>>> assert condition\n>>> if condition:\n...     score = 2.0\n>>> earned_points = float(os.environ.get('EARNED_POINTS', 0))\n>>> earned_points += score\n>>> log_variable('1_quiz_q', f'{score}, {max_score}', question_id)\n>>> os.environ['EARNED_POINTS'] = str(earned_points)\n>>> responses = update_responses(question_id, str(eq13_edge_cases))\n",
         "failure_message": "Failed: `eq13()` does not return constant x values correctly.",
         "hidden": false,
         "locked": false,
         "points": 2,
         "success_message": "Success: `eq13()` correctly returns constant x values!"
        }
       ],
       "scored": true,
       "setup": "",
       "teardown": "",
       "type": "doctest"
      }
     ]
    },
    "q4-compute-the-range-and-plots": {
     "name": "q4-compute-the-range-and-plots",
     "points": null,
     "suites": [
      {
       "cases": [
        {
         "code": ">>> from pykubegrader.telemetry import ensure_responses, log_variable, score_question, submit_question, telemetry, update_responses\n>>> import os\n>>> import base64\n>>> from pykubegrader.tokens.validate_token import validate_token\n>>> validate_token(assignment='week8-quiz')\n>>> max_question_points = str(9.0)\n>>> earned_points = 0\n>>> os.environ['EARNED_POINTS'] = str(earned_points)\n>>> os.environ['TOTAL_POINTS_FREE_RESPONSE'] = str(19.0)\n>>> from pykubegrader.tokens.validate_token import validate_token\n>>> validate_token(assignment='week8-quiz')\n>>> log_variable('total-points', f'week8-quiz, 1_quiz_q', 19.0)\n>>> question_id = 'q4-compute-the-range-and-plots-1'\n>>> max_score = 1.0\n>>> score = 0\n>>> ranges_y_correct = len(ranges_y) == 3 and all((len(r) == 100 for r in ranges_y)) and np.allclose(ranges_y[0], np.linspace(3, 5, 100)) and np.allclose(ranges_y[1], np.linspace(-2, -1, 100)) and np.allclose(ranges_y[2], np.linspace(-3, -5, 100))\n>>> assert ranges_y_correct, 'Expected `ranges_y` to be initialized with correct ranges and 100 points.'\n>>> if ranges_y_correct:\n...     score = 1.0\n>>> earned_points = float(os.environ.get('EARNED_POINTS', 0))\n>>> earned_points += score\n>>> log_variable('1_quiz_q', f'{score}, {max_score}', question_id)\n>>> os.environ['EARNED_POINTS'] = str(earned_points)\n>>> responses = update_responses(question_id, str(ranges_y_correct))\n",
         "failure_message": "Failed: `ranges_y` is not correctly initialized with 100 points.",
         "hidden": false,
         "locked": false,
         "points": 1,
         "success_message": "Success: `ranges_y` is correctly initialized with 100 points!"
        },
        {
         "code": ">>> from pykubegrader.telemetry import ensure_responses, log_variable, score_question, submit_question, telemetry, update_responses\n>>> import os\n>>> import base64\n>>> from pykubegrader.tokens.validate_token import validate_token\n>>> validate_token(assignment='week8-quiz')\n>>> question_id = 'q4-compute-the-range-and-plots-2'\n>>> max_score = 1.0\n>>> score = 0\n>>> functions_y_correct = functions_y == [eq8, eq13, eq22]\n>>> assert functions_y_correct, 'Expected `functions_y` to contain [eq8, eq13, eq22].'\n>>> if functions_y_correct:\n...     score = 1.0\n>>> earned_points = float(os.environ.get('EARNED_POINTS', 0))\n>>> earned_points += score\n>>> log_variable('1_quiz_q', f'{score}, {max_score}', question_id)\n>>> os.environ['EARNED_POINTS'] = str(earned_points)\n>>> responses = update_responses(question_id, str(functions_y_correct))\n",
         "failure_message": "Failed: `functions_y` is not correctly initialized with the expected functions.",
         "hidden": false,
         "locked": false,
         "points": 1,
         "success_message": "Success: `functions_y` is correctly initialized with corresponding functions!"
        },
        {
         "code": ">>> from pykubegrader.telemetry import ensure_responses, log_variable, score_question, submit_question, telemetry, update_responses\n>>> import os\n>>> import base64\n>>> from pykubegrader.tokens.validate_token import validate_token\n>>> validate_token(assignment='week8-quiz')\n>>> import matplotlib.pyplot as plt\n>>> question_id = 'q4-compute-the-range-and-plots-3'\n>>> max_score = 2.0\n>>> score = 0\n>>> figure_initialized = all(np.isclose(fig.get_size_inches(), (10, 6)))\n>>> assert figure_initialized, 'Expected figure size to be (10, 6).'\n>>> if figure_initialized:\n...     score = 2.0\n>>> earned_points = float(os.environ.get('EARNED_POINTS', 0))\n>>> earned_points += score\n>>> log_variable('1_quiz_q', f'{score}, {max_score}', question_id)\n>>> os.environ['EARNED_POINTS'] = str(earned_points)\n>>> responses = update_responses(question_id, str(figure_initialized))\n",
         "failure_message": "Failed: Figure not initialized with the correct size.",
         "hidden": false,
         "locked": false,
         "points": 2,
         "success_message": "Success: Figure initialized with correct size!"
        },
        {
         "code": ">>> from pykubegrader.telemetry import ensure_responses, log_variable, score_question, submit_question, telemetry, update_responses\n>>> import os\n>>> import base64\n>>> from pykubegrader.tokens.validate_token import validate_token\n>>> validate_token(assignment='week8-quiz')\n>>> question_id = 'q4-compute-the-range-and-plots-4'\n>>> max_score = 2.0\n>>> score = 0\n>>> vertical_lines_correct = len(ax.lines) == 26\n>>> assert vertical_lines_correct, 'Expected vertical lines to be plotted for each function in `functions_y`.'\n>>> if vertical_lines_correct:\n...     score = 2.0\n>>> earned_points = float(os.environ.get('EARNED_POINTS', 0))\n>>> earned_points += score\n>>> log_variable('1_quiz_q', f'{score}, {max_score}', question_id)\n>>> os.environ['EARNED_POINTS'] = str(earned_points)\n>>> responses = update_responses(question_id, str(vertical_lines_correct))\n",
         "failure_message": "Failed: Vertical lines are not plotted correctly.",
         "hidden": false,
         "locked": false,
         "points": 2,
         "success_message": "Success: Vertical lines are plotted with the correct functions and ranges!"
        },
        {
         "code": ">>> from pykubegrader.telemetry import ensure_responses, log_variable, score_question, submit_question, telemetry, update_responses\n>>> import os\n>>> import base64\n>>> from pykubegrader.tokens.validate_token import validate_token\n>>> validate_token(assignment='week8-quiz')\n>>> question_id = 'q4-compute-the-range-and-plots-5'\n>>> max_score = 3.0\n>>> score = 0\n>>> labels_title_correct = ax.get_xlabel() == 'X-Axis' and ax.get_ylabel() == 'Y-Axis' and (ax.get_title() == 'Graph of Multiple Equations making Eagles Logo')\n>>> assert labels_title_correct, 'Expected correct labels, title, and grid setup.'\n>>> if labels_title_correct:\n...     score = 3.0\n>>> earned_points = float(os.environ.get('EARNED_POINTS', 0))\n>>> earned_points += score\n>>> log_variable('1_quiz_q', f'{score}, {max_score}', question_id)\n>>> os.environ['EARNED_POINTS'] = str(earned_points)\n>>> responses = update_responses(question_id, str(labels_title_correct))\n",
         "failure_message": "Failed: Labels, title, or grid are not set up correctly.",
         "hidden": false,
         "locked": false,
         "points": 3,
         "success_message": "Success: Labels, title, and grid are set up correctly!"
        }
       ],
       "scored": true,
       "setup": "",
       "teardown": "",
       "type": "doctest"
      }
     ]
    }
   }
  }
 },
 "nbformat": 4,
 "nbformat_minor": 2
}