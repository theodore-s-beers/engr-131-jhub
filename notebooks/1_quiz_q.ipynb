{
 "cells": [
  {
   "cell_type": "code",
   "execution_count": null,
   "id": "0",
   "metadata": {
    "tags": [
     "skip-execution"
    ]
   },
   "outputs": [],
   "source": [
    "from pykubegrader.tokens.validate_token import validate_token\n",
    "validate_token('type the key provided by your instructor here')\n"
   ]
  },
  {
   "cell_type": "code",
   "execution_count": null,
   "metadata": {
    "deletable": false,
    "editable": false,
    "tags": [
     "skip-execution"
    ]
   },
   "outputs": [],
   "source": [
    "# You must make sure to run all cells in sequence using shift + enter or you might encounter errors\n",
    "from pykubegrader.initialize import initialize_assignment\n",
    "\n",
    "responses = initialize_assignment(\"1_quiz_q\", \"week_3\", \"quiz\", assignment_points = 17.0, assignment_tag = 'week3-quiz')\n",
    "\n",
    "# Initialize Otter\n",
    "import otter\n",
    "grader = otter.Notebook(\"1_quiz_q.ipynb\")"
   ]
  },
  {
   "cell_type": "code",
   "execution_count": null,
   "metadata": {
    "tags": [
     "skip-execution"
    ]
   },
   "outputs": [],
   "source": [
    "# Run this block of code by pressing Shift + Enter to display the question\n",
    "from questions._1_quiz_q import Question1\n",
    "Question1().show()\n"
   ]
  },
  {
   "cell_type": "code",
   "execution_count": null,
   "metadata": {
    "tags": [
     "skip-execution"
    ]
   },
   "outputs": [],
   "source": [
    "# Run this block of code by pressing Shift + Enter to display the question\n",
    "from questions._1_quiz_q import Question2\n",
    "Question2().show()\n"
   ]
  },
  {
   "cell_type": "markdown",
   "metadata": {
    "deletable": false,
    "editable": false
   },
   "source": [
    "## NumPy: Array Creation in the World of Smart Toasters\n",
    "\n",
    "![](./assets/figures/small-world-toaster.webp)\n",
    "\n",
    "### Instructions:\n",
    "You are designing the internal array processing system for a smart toaster that tracks bread slices! Create a NumPy array of integers from 1 to 10 using NumPy's built-in `np.arange()` method. Write a function `create_array()` that:\n",
    "1. import numpy using the common alias `np`.\n",
    "2. Uses `np.arange()` to generate the array, from 1 to 10, think about the `start` and `stop` arguments, which ones are inclusive and exclusive?"
   ]
  },
  {
   "cell_type": "code",
   "execution_count": null,
   "metadata": {
    "tags": [
     "skip-execution"
    ]
   },
   "outputs": [],
   "source": [
    "...\n",
    "\n",
    "def create_array():\n",
    "    # Create an array from 1 to 10\n",
    "    ...\n",
    "    return array\n",
    "\n",
    "# Example usage\n",
    "result = create_array()\n",
    "print(\"Generated array:\", result)"
   ]
  },
  {
   "cell_type": "code",
   "execution_count": null,
   "metadata": {
    "deletable": false,
    "editable": false,
    "tags": [
     "skip-execution"
    ]
   },
   "outputs": [],
   "source": [
    "grader.check(\"smart-toaster-oven\")"
   ]
  },
  {
   "cell_type": "markdown",
   "id": "7",
   "metadata": {},
   "source": [
    "## Submitting Assignment\n",
    "\n",
    "Please run the following block of code using `shift + enter` to submit your assignment, you should see your score."
   ]
  },
  {
   "cell_type": "code",
   "execution_count": null,
   "id": "8",
   "metadata": {
    "deletable": false,
    "editable": false,
    "tags": [
     "skip-execution"
    ]
   },
   "outputs": [],
   "source": [
    "from pykubegrader.tokens.validate_token import validate_token\n",
    "validate_token()\n",
    "\n",
    "\n",
    "from pykubegrader.submit.submit_assignment import submit_assignment\n",
    "\n",
    "submit_assignment(\"week3-quiz\", \"1_quiz_q\")"
   ]
  }
 ],
 "metadata": {
  "kernelspec": {
   "display_name": "engr131_dev",
   "language": "python",
   "name": "python3"
  },
  "language_info": {
   "codemirror_mode": {
    "name": "ipython",
    "version": 3
   },
   "file_extension": ".py",
   "mimetype": "text/x-python",
   "name": "python",
   "nbconvert_exporter": "python",
   "pygments_lexer": "ipython3",
   "version": "3.12.7"
  },
  "otter": {
   "OK_FORMAT": true,
   "tests": {
    "smart-toaster-oven": {
     "name": "smart-toaster-oven",
     "points": null,
     "suites": [
      {
       "cases": [
        {
         "code": ">>> from pykubegrader.telemetry import ensure_responses, log_variable, score_question, submit_question, telemetry, update_responses\n>>> import os\n>>> max_question_points = str(10.0)\n>>> earned_points = 0\n>>> os.environ['EARNED_POINTS'] = str(earned_points)\n>>> os.environ['TOTAL_POINTS_FREE_RESPONSE'] = str(10.0)\n>>> from pykubegrader.tokens.validate_token import validate_token\n>>> validate_token()\n>>> log_variable('total-points', f'Reading-Week-X, 1_quiz_q', 10.0)\n>>> question_id = 'smart-toaster-oven-1'\n>>> max_score = 2.0\n>>> score = 0\n>>> condition = 'np' in globals()\n>>> assert condition, 'Failed: `np` is not defined globally.'\n>>> if condition:\n...     score = 2.0\n>>> earned_points = float(os.environ.get('EARNED_POINTS', 0))\n>>> earned_points += score\n>>> log_variable('1_quiz_q', f'{score}, {max_score}', question_id)\n>>> os.environ['EARNED_POINTS'] = str(earned_points)\n",
         "failure_message": "Failed: numpy was not imported as np.",
         "hidden": false,
         "locked": false,
         "points": 2,
         "success_message": "Success: numpy was imported as np."
        },
        {
         "code": ">>> from pykubegrader.telemetry import ensure_responses, log_variable, score_question, submit_question, telemetry, update_responses\n>>> import os\n>>> import numpy as np\n>>> question_id = 'smart-toaster-oven-2'\n>>> max_score = 5.0\n>>> score = 0\n>>> expected_array = np.arange(1, 11)\n>>> output_array = create_array()\n>>> is_array_correct = np.array_equal(output_array, expected_array)\n>>> output_type = isinstance(output_array, np.ndarray)\n>>> assert is_array_correct, 'Test failed: The generated array is incorrect.'\n>>> assert output_type, 'Test failed: Output should be a NumPy array.'\n>>> if is_array_correct and output_type:\n...     score = 5.0\n>>> earned_points = float(os.environ.get('EARNED_POINTS', 0))\n>>> earned_points += score\n>>> log_variable('1_quiz_q', f'{score}, {max_score}', question_id)\n>>> os.environ['EARNED_POINTS'] = str(earned_points)\n>>> responses = update_responses(question_id, str(is_array_correct))\n>>> responses = update_responses(question_id, str(output_type))\n",
         "failure_message": "Failed: The function did not generate the correct array.",
         "hidden": false,
         "locked": false,
         "points": 5,
         "success_message": "Success: The function did generate the correct array."
        },
        {
         "code": ">>> from pykubegrader.telemetry import ensure_responses, log_variable, score_question, submit_question, telemetry, update_responses\n>>> import os\n>>> import inspect\n>>> import re\n>>> question_id = 'smart-toaster-oven-3'\n>>> max_score = 3.0\n>>> score = 0\n>>> code = inspect.getsource(create_array)\n>>> arange_used = bool(re.search('np\\\\.arange\\\\(', code))\n>>> assert arange_used, 'Test failed: np.arange() must be used in the function.'\n>>> if arange_used:\n...     score = 3.0\n>>> earned_points = float(os.environ.get('EARNED_POINTS', 0))\n>>> earned_points += score\n>>> log_variable('1_quiz_q', f'{score}, {max_score}', question_id)\n>>> os.environ['EARNED_POINTS'] = str(earned_points)\n",
         "failure_message": "Failed: The function must generate an array using np.arange().",
         "hidden": false,
         "locked": false,
         "points": 3,
         "success_message": "Success: The function generates a correct NumPy array using np.arange()."
        }
       ],
       "scored": true,
       "setup": "",
       "teardown": "",
       "type": "doctest"
      }
     ]
    }
   }
  }
 },
 "nbformat": 4,
 "nbformat_minor": 2
}
