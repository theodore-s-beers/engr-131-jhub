{
 "cells": [
  {
   "cell_type": "code",
   "execution_count": null,
   "id": "0",
   "metadata": {
    "deletable": false,
    "editable": false,
    "tags": [
     "skip-execution"
    ]
   },
   "outputs": [],
   "source": [
    "from pykubegrader.tokens.validate_token import validate_token\n",
    "validate_token('type the key provided by your instructor here')\n",
    "\n",
    "# You must make sure to run all cells in sequence using shift + enter or you might encounter errors\n",
    "from pykubegrader.initialize import initialize_assignment\n",
    "\n",
    "responses = initialize_assignment(\"1_quiz_q\", \"week_5\", \"quiz\", assignment_points = 16.0, assignment_tag = 'week5-quiz')\n",
    "\n",
    "# Initialize Otter\n",
    "import otter\n",
    "grader = otter.Notebook(\"1_quiz_q.ipynb\")"
   ]
  },
  {
   "cell_type": "markdown",
   "id": "1",
   "metadata": {
    "deletable": false,
    "editable": false
   },
   "source": [
    "# ❓ Practice Quiz: Function Concepts in Smart Grid Systems\n",
    "\n",
    "![](./assets/figures/smart-grid-pquiz.jpg)"
   ]
  },
  {
   "cell_type": "code",
   "execution_count": null,
   "id": "2",
   "metadata": {
    "tags": [
     "skip-execution"
    ]
   },
   "outputs": [],
   "source": [
    "# Run this block of code by pressing Shift + Enter to display the question\n",
    "from questions._1_quiz_q import Question1\n",
    "Question1().show()\n"
   ]
  },
  {
   "cell_type": "code",
   "execution_count": null,
   "id": "3",
   "metadata": {
    "tags": [
     "skip-execution"
    ]
   },
   "outputs": [],
   "source": [
    "# Run this block of code by pressing Shift + Enter to display the question\n",
    "from questions._1_quiz_q import Question2\n",
    "Question2().show()\n"
   ]
  },
  {
   "cell_type": "code",
   "execution_count": null,
   "id": "4",
   "metadata": {
    "tags": [
     "skip-execution"
    ]
   },
   "outputs": [],
   "source": [
    "# Run this block of code by pressing Shift + Enter to display the question\n",
    "from questions._1_quiz_q import Question3\n",
    "Question3().show()\n"
   ]
  },
  {
   "cell_type": "markdown",
   "id": "5",
   "metadata": {
    "deletable": false,
    "editable": false
   },
   "source": [
    "## Question 1 (Points: 7.0): Smart Grid Power Monitoring System\n",
    "\n",
    "\n",
    " The smart grid constantly monitors and processes power readings from different sources, adjusting load distribution dynamically. In this task, you will implement a function that calculates total power consumption and identifies irregularities.\n",
    "\n",
    " The program should:\n",
    "\n",
    " 1. Accept an arbitrary number of power readings (in kilowatts, kW) using `*args`.\n",
    "\n",
    " 2. Check if any power reading is above `500 kW`, and print a warning if detected.\n",
    "\n",
    " 3. Calculate the total power consumed and return it.\n",
    "\n",
    " 4. Allow an optional `alert_threshold` parameter using `**kwargs` that changes the warning limit dynamically.\n",
    "\n",
    "\n",
    " ### Implementation Details\n",
    "\n",
    " 1. Define a function `monitor_power(*args, **kwargs)`.\n",
    "\n",
    " 2. Loop through all `*args` values and:\n",
    "\n",
    "    - Print a warning message if any power reading exceeds `500 kW` or the provided `alert_threshold` from `**kwargs`.\n",
    "\n",
    " 3. Calculate the total power consumed.\n",
    "\n",
    " 4. Return the total power as output."
   ]
  },
  {
   "cell_type": "code",
   "execution_count": null,
   "id": "6",
   "metadata": {
    "tags": [
     "skip-execution"
    ]
   },
   "outputs": [],
   "source": [
    "# Define the function to monitor power readings\n",
    "...\n",
    "\n",
    "    # Extract the alert threshold from the keyword arguments\n",
    "    # Recall kwargs is a dictionary, and thus we can use the get method to extract the value of the key \"alert_threshold\"\n",
    "    ...\n",
    "    \n",
    "    # Initialize an empty list to store warnings\n",
    "    ...\n",
    "    \n",
    "    # Iterate over the readings and check if any reading exceeds the alert threshold\n",
    "    # If a reading exceeds the alert threshold, append a warning to the warnings list\n",
    "    # we have provided a sample warning message for you to use, look at the call to determine the correct variable to use\n",
    "    ...\n",
    "            warnings.append(f\"⚠️ Warning: High power usage detected at {reading} kW!\")\n",
    "    \n",
    "    # Calculate the total power usage\n",
    "    # We can use the sum function to calculate the total power usage, store in a variable called total_power\n",
    "    ...\n",
    "    \n",
    "    # Return the total power usage and the warnings\n",
    "    ..."
   ]
  },
  {
   "cell_type": "code",
   "execution_count": null,
   "id": "7",
   "metadata": {
    "deletable": false,
    "editable": false,
    "tags": [
     "skip-execution"
    ]
   },
   "outputs": [],
   "source": [
    "grader.check(\"Smart-Grid-Function-Analysis\")"
   ]
  },
  {
   "cell_type": "markdown",
   "id": "8",
   "metadata": {},
   "source": [
    "## Submitting Assignment\n",
    "\n",
    "Please run the following block of code using `shift + enter` to submit your assignment, you should see your score."
   ]
  },
  {
   "cell_type": "code",
   "execution_count": null,
   "id": "9",
   "metadata": {
    "deletable": false,
    "editable": false,
    "tags": [
     "skip-execution"
    ]
   },
   "outputs": [],
   "source": [
    "from pykubegrader.tokens.validate_token import validate_token\n",
    "validate_token()\n",
    "\n",
    "\n",
    "from pykubegrader.submit.submit_assignment import submit_assignment\n",
    "\n",
    "submit_assignment(\"week5-quiz\", \"1_quiz_q\")"
   ]
  }
 ],
 "metadata": {
  "kernelspec": {
   "display_name": "engr131_dev",
   "language": "python",
   "name": "python3"
  },
  "language_info": {
   "codemirror_mode": {
    "name": "ipython",
    "version": 3
   },
   "file_extension": ".py",
   "mimetype": "text/x-python",
   "name": "python",
   "nbconvert_exporter": "python",
   "pygments_lexer": "ipython3",
   "version": "3.12.7"
  },
  "otter": {
   "OK_FORMAT": true,
   "tests": {
    "Smart-Grid-Function-Analysis": {
     "name": "Smart-Grid-Function-Analysis",
     "points": null,
     "suites": [
      {
       "cases": [
        {
         "code": ">>> from pykubegrader.telemetry import ensure_responses, log_variable, score_question, submit_question, telemetry, update_responses\n>>> import os\n>>> import base64\n>>> max_question_points = str(7.0)\n>>> earned_points = 0\n>>> os.environ['EARNED_POINTS'] = str(earned_points)\n>>> os.environ['TOTAL_POINTS_FREE_RESPONSE'] = str(7.0)\n>>> from pykubegrader.tokens.validate_token import validate_token\n>>> validate_token()\n>>> log_variable('total-points', f'Reading-Week-X, 1_quiz_q', 7.0)\n>>> question_id = 'Smart-Grid-Function-Analysis-1'\n>>> max_score = 2.0\n>>> score = 0\n>>> total_power, _ = monitor_power(200, 150, 100, 50)\n>>> assert total_power == 500, f'Expected 500, got {total_power}'\n>>> if total_power == 500:\n...     score = 2.0\n>>> earned_points = float(os.environ.get('EARNED_POINTS', 0))\n>>> earned_points += score\n>>> log_variable('1_quiz_q', f'{score}, {max_score}', question_id)\n>>> os.environ['EARNED_POINTS'] = str(earned_points)\n",
         "failure_message": "Failed: Function does not correctly calculate total power.",
         "hidden": false,
         "locked": false,
         "points": 2,
         "success_message": "Success: Function correctly calculates total power!"
        },
        {
         "code": ">>> from pykubegrader.telemetry import ensure_responses, log_variable, score_question, submit_question, telemetry, update_responses\n>>> import os\n>>> import base64\n>>> question_id = 'Smart-Grid-Function-Analysis-2'\n>>> max_score = 2.0\n>>> score = 0\n>>> _, warnings = monitor_power(300, 600, 200, 700)\n>>> expected_warnings = ['⚠️ Warning: High power usage detected at 600 kW!', '⚠️ Warning: High power usage detected at 700 kW!']\n>>> for expected in expected_warnings:\n...     assert expected in warnings, f\"Expected '{expected}' in warnings but not found.\"\n>>> if expected in warnings:\n...     score = 2.0\n>>> earned_points = float(os.environ.get('EARNED_POINTS', 0))\n>>> earned_points += score\n>>> log_variable('1_quiz_q', f'{score}, {max_score}', question_id)\n>>> os.environ['EARNED_POINTS'] = str(earned_points)\n",
         "failure_message": "Failed: Function does not correctly detect high power usage.",
         "hidden": false,
         "locked": false,
         "points": 2,
         "success_message": "Success: Function correctly detects high power usage!"
        },
        {
         "code": ">>> from pykubegrader.telemetry import ensure_responses, log_variable, score_question, submit_question, telemetry, update_responses\n>>> import os\n>>> import base64\n>>> question_id = 'Smart-Grid-Function-Analysis-3'\n>>> max_score = 1.0\n>>> score = 0\n>>> _, warnings = monitor_power(300, 600, 200, 700, alert_threshold=650)\n>>> expected_warning = '⚠️ Warning: High power usage detected at 700 kW!'\n>>> assert expected_warning in warnings, f\"Expected '{expected_warning}', but got {warnings}\"\n>>> if expected_warning in warnings:\n...     score = 1.0\n>>> earned_points = float(os.environ.get('EARNED_POINTS', 0))\n>>> earned_points += score\n>>> log_variable('1_quiz_q', f'{score}, {max_score}', question_id)\n>>> os.environ['EARNED_POINTS'] = str(earned_points)\n",
         "failure_message": "Failed: Function does not apply custom alert threshold correctly.",
         "hidden": false,
         "locked": false,
         "points": 1,
         "success_message": "Success: Function correctly applies custom alert threshold!"
        },
        {
         "code": ">>> from pykubegrader.telemetry import ensure_responses, log_variable, score_question, submit_question, telemetry, update_responses\n>>> import os\n>>> import base64\n>>> question_id = 'Smart-Grid-Function-Analysis-4'\n>>> max_score = 2.0\n>>> score = 0\n>>> total_power, warnings = monitor_power()\n>>> assert total_power == 0, 'Expected total power to be 0 for empty input.'\n>>> assert not warnings, 'Expected no warnings for empty input.'\n>>> if total_power == 0 and (not warnings):\n...     score = 2.0\n>>> earned_points = float(os.environ.get('EARNED_POINTS', 0))\n>>> earned_points += score\n>>> log_variable('1_quiz_q', f'{score}, {max_score}', question_id)\n>>> os.environ['EARNED_POINTS'] = str(earned_points)\n",
         "failure_message": "Failed: Function does not handle empty input correctly.",
         "hidden": false,
         "locked": false,
         "points": 2,
         "success_message": "Success: Function correctly handles edge cases (no readings)!"
        }
       ],
       "scored": true,
       "setup": "",
       "teardown": "",
       "type": "doctest"
      }
     ]
    }
   }
  }
 },
 "nbformat": 4,
 "nbformat_minor": 5
}
