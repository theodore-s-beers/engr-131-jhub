{
 "cells": [
  {
   "cell_type": "raw",
   "id": "0",
   "metadata": {
    "vscode": {
     "languageId": "raw"
    }
   },
   "source": [
    "# ASSIGNMENT CONFIG\n",
    "solutions_pdf: true\n",
    "generate: \n",
    "    pdf: true\n",
    "    filtering: true\n",
    "    pagebreaks: true\n",
    "    zips: false\n",
    "files: [.client_private_key.bin, .server_public_key.bin]"
   ]
  },
  {
   "cell_type": "raw",
   "id": "1",
   "metadata": {
    "name": "activity-2-Philly Pretzel Challenge",
    "tags": [
     "otter",
     "question"
    ],
    "vscode": {
     "languageId": "raw"
    }
   },
   "source": [
    "# BEGIN QUESTION\n",
    "name: quiz-1-Drexel-basketball"
   ]
  },
  {
   "cell_type": "markdown",
   "id": "2",
   "metadata": {
    "deletable": false,
    "editable": false
   },
   "source": [
    "# Calculate Drexel Basketball Player's Game Stats! 🏀\n",
    "\n",
    "![](./assets/figures/Drexel-Basketball.webp)\n",
    "\n",
    "You are a Drexel Dragons basketball player tracking their performance over the season. You want to calculate how many points you've scored and how many points you need to achieve your target for the season!\n",
    "\n",
    "- **Player ID**: Your Drexel ID (the first part of your email address).\n",
    "- The you have played 15 games, scoring an average of 20 points per game.\n",
    "- The you have also scored 25 bonus points in overtime games.\n",
    "- The your season target is to score 400 points.\n",
    "\n",
    "Using Python, write a program to calculate:\n",
    "1. The **total points scored** by the player so far.\n",
    "2. The **remaining points needed** to reach their season target.\n",
    "\n",
    "## Detailed Instructions\n",
    "1. **Define Player ID**:\n",
    "   - Create a variable `drexel_id` and assign it the value of your drexel_id -- this is the first part of your email. For example, if your email is `abc123@drexel.edu`, your `drexel_id` would be `abc123`. Note that the `drexel_id` should be a string, you can use single or double quotes to define it. For example, `drexel_id = 'abc123'` or `drexel_id = \"abc123\"` are both valid.\n",
    "\n",
    "2. **Define the Number of Games and Bonus Points**:\n",
    "   - Create a variable `games_played` and assign it the value `15`.\n",
    "   - Create a variable `average_points` and assign it the value `20`.\n",
    "   - Create a variable `bonus_points` and assign it the value `25`.\n",
    "   - Create a variable `season_target` and assign it the value `400`.\n",
    "\n",
    "3. **Calculate the Total Points**:\n",
    "   - Multiply the number of games by the average points and save it to `total_game_points`.\n",
    "   - Add the bonus points to get the total points scored so far, saved as `total_points`.\n",
    "\n",
    "4. **Calculate Remaining Points**:\n",
    "   - Subtract the total points scored from the season target to determine the remaining points needed.\n",
    "\n",
    "5. **Print the Results**:\n",
    "   - Use f-strings to display the player ID, total points scored, and remaining points needed. We have provided this code for you so you do not have to write it. \n"
   ]
  },
  {
   "cell_type": "raw",
   "id": "3",
   "metadata": {},
   "source": [
    "# BEGIN SOLUTION"
   ]
  },
  {
   "cell_type": "code",
   "execution_count": null,
   "id": "4",
   "metadata": {},
   "outputs": [],
   "source": [
    "# Player's ID\n",
    "player_id = \"Not-on-a-Real-Student-ID\"  # SOLUTION\n",
    "\n",
    "# Variables\n",
    "\n",
    "# Number of games played\n",
    "# BEGIN SOLUTION\n",
    "games_played = 15\n",
    "# END SOLUTION\n",
    "\n",
    "# Average points per game\n",
    "# BEGIN SOLUTION\n",
    "average_points = 20\n",
    "# END SOLUTION\n",
    "\n",
    "# Bonus points from overtime\n",
    "# BEGIN SOLUTION\n",
    "bonus_points = 25\n",
    "# END SOLUTION\n",
    "\n",
    "# Season target\n",
    "# BEGIN SOLUTION\n",
    "season_target = 400\n",
    "# END SOLUTION\n",
    "\n",
    "# Calculate total points\n",
    "# BEGIN SOLUTION\n",
    "total_game_points = games_played * average_points\n",
    "total_points = total_game_points + bonus_points\n",
    "# END SOLUTION\n",
    "\n",
    "# Calculate remaining points\n",
    "# BEGIN SOLUTION\n",
    "remaining_points = season_target - total_points\n",
    "# END SOLUTION\n",
    "\n",
    "# DO NOT MODIFY BELOW THIS LINE\n",
    "# Print the results\n",
    "print(f\"Player ID: {player_id}\")\n",
    "print(f\"Total Points Scored: {total_points}\")\n",
    "print(f\"Remaining Points to Reach Target: {remaining_points}\")"
   ]
  },
  {
   "cell_type": "raw",
   "id": "5",
   "metadata": {},
   "source": [
    "# END SOLUTION"
   ]
  },
  {
   "cell_type": "raw",
   "id": "6",
   "metadata": {},
   "source": [
    "# BEGIN TESTS"
   ]
  },
  {
   "cell_type": "code",
   "execution_count": null,
   "id": "7",
   "metadata": {},
   "outputs": [],
   "source": [
    "\"\"\" # BEGIN TEST CONFIG\n",
    "points: 2\n",
    "hidden: false\n",
    "success_message: games_played correctly assigned\n",
    "failure_message: games_played not correctly assigned\n",
    "\"\"\"  # END TEST CONFIG\n",
    "\n",
    "assert games_played == 15"
   ]
  },
  {
   "cell_type": "code",
   "execution_count": null,
   "id": "8",
   "metadata": {},
   "outputs": [],
   "source": [
    "\"\"\" # BEGIN TEST CONFIG\n",
    "points: 2\n",
    "hidden: false\n",
    "success_message: average_points correctly assigned\n",
    "failure_message: average_points not correctly assigned\n",
    "\"\"\"  # END TEST CONFIG\n",
    "\n",
    "assert average_points == 20"
   ]
  },
  {
   "cell_type": "code",
   "execution_count": null,
   "id": "9",
   "metadata": {},
   "outputs": [],
   "source": [
    "\"\"\" # BEGIN TEST CONFIG\n",
    "points: 2\n",
    "hidden: false\n",
    "success_message: bonus_points correctly assigned\n",
    "failure_message: bonus_points not correctly assigned\n",
    "\"\"\"  # END TEST CONFIG\n",
    "\n",
    "assert bonus_points == 25"
   ]
  },
  {
   "cell_type": "code",
   "execution_count": null,
   "id": "10",
   "metadata": {},
   "outputs": [],
   "source": [
    "\"\"\" # BEGIN TEST CONFIG\n",
    "points: 2\n",
    "hidden: false\n",
    "success_message: season_target correctly assigned\n",
    "failure_message: season_target not correctly assigned\n",
    "\"\"\"  # END TEST CONFIG\n",
    "\n",
    "assert season_target == 400"
   ]
  },
  {
   "cell_type": "code",
   "execution_count": null,
   "id": "11",
   "metadata": {},
   "outputs": [],
   "source": [
    "\"\"\" # BEGIN TEST CONFIG\n",
    "points: 4\n",
    "hidden: false\n",
    "success_message: total_points correctly calculated\n",
    "failure_message: total_points not correctly calculated\n",
    "\"\"\"  # END TEST CONFIG\n",
    "\n",
    "assert total_points == 325"
   ]
  },
  {
   "cell_type": "code",
   "execution_count": null,
   "id": "12",
   "metadata": {},
   "outputs": [],
   "source": [
    "\"\"\" # BEGIN TEST CONFIG\n",
    "points: 4\n",
    "hidden: false\n",
    "success_message: remaining_points correctly calculated\n",
    "failure_message: remaining_points not correctly calculated\n",
    "\"\"\"  # END TEST CONFIG\n",
    "\n",
    "assert remaining_points == 75"
   ]
  },
  {
   "cell_type": "raw",
   "id": "13",
   "metadata": {},
   "source": [
    "# END TESTS"
   ]
  },
  {
   "cell_type": "raw",
   "id": "14",
   "metadata": {},
   "source": [
    "# END QUESTION"
   ]
  },
  {
   "cell_type": "markdown",
   "id": "15",
   "metadata": {
    "deletable": false,
    "editable": false
   },
   "source": [
    "## 🎉 Well Done!\n",
    "\n",
    "Congratulations on completing the Drexel Basketball Player's Game Stats Calculation! You are one step closer to achieving your season target! 🏀"
   ]
  }
 ],
 "metadata": {
  "kernelspec": {
   "display_name": "engr131_dev",
   "language": "python",
   "name": "python3"
  },
  "language_info": {
   "codemirror_mode": {
    "name": "ipython",
    "version": 3
   },
   "file_extension": ".py",
   "mimetype": "text/x-python",
   "name": "python",
   "nbconvert_exporter": "python",
   "pygments_lexer": "ipython3",
   "version": "3.12.7"
  }
 },
 "nbformat": 4,
 "nbformat_minor": 5
}
