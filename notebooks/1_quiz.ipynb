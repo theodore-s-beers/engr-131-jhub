{
 "cells": [
  {
   "cell_type": "code",
   "execution_count": null,
   "id": "0",
   "metadata": {
    "tags": [
     "skip-execution"
    ]
   },
   "outputs": [],
   "source": [
    "from pykubegrader.tokens.validate_token import validate_token\n",
    "validate_token('type the key provided by your instructor here')\n"
   ]
  },
  {
   "cell_type": "code",
   "execution_count": null,
   "id": "1",
   "metadata": {
    "deletable": false,
    "editable": false,
    "tags": [
     "skip-execution"
    ]
   },
   "outputs": [],
   "source": [
    "# You must make sure to run all cells in sequence using shift + enter or you might encounter errors\n",
    "from pykubegrader.initialize import initialize_assignment\n",
    "\n",
    "responses = initialize_assignment(\"1_quiz\", \"week_1\", \"quiz\", assignment_points = 16.0, assignment_tag = 'week1-quiz')\n",
    "\n",
    "# Initialize Otter\n",
    "import otter\n",
    "grader = otter.Notebook(\"1_quiz.ipynb\")"
   ]
  },
  {
   "cell_type": "markdown",
   "id": "2",
   "metadata": {
    "deletable": false,
    "editable": false
   },
   "source": [
    "# Calculate Drexel Basketball Player's Game Stats! 🏀\n",
    "\n",
    "![](./assets/figures/Drexel-Basketball.webp)\n",
    "\n",
    "You are a Drexel Dragons basketball player tracking their performance over the season. You want to calculate how many points you've scored and how many points you need to achieve your target for the season!\n",
    "\n",
    "- **Player ID**: Your Drexel ID (the first part of your email address).\n",
    "- The you have played 15 games, scoring an average of 20 points per game.\n",
    "- The you have also scored 25 bonus points in overtime games.\n",
    "- The your season target is to score 400 points.\n",
    "\n",
    "Using Python, write a program to calculate:\n",
    "1. The **total points scored** by the player so far.\n",
    "2. The **remaining points needed** to reach their season target.\n",
    "\n",
    "## Detailed Instructions\n",
    "1. **Define Player ID**:\n",
    "   - Create a variable `drexel_id` and assign it the value of your drexel_id -- this is the first part of your email. For example, if your email is `abc123@drexel.edu`, your `drexel_id` would be `abc123`. Note that the `drexel_id` should be a string, you can use single or double quotes to define it. For example, `drexel_id = 'abc123'` or `drexel_id = \"abc123\"` are both valid.\n",
    "\n",
    "2. **Define the Number of Games and Bonus Points**:\n",
    "   - Create a variable `games_played` and assign it the value `15`.\n",
    "   - Create a variable `average_points` and assign it the value `20`.\n",
    "   - Create a variable `bonus_points` and assign it the value `25`.\n",
    "   - Create a variable `season_target` and assign it the value `400`.\n",
    "\n",
    "3. **Calculate the Total Points**:\n",
    "   - Multiply the number of games by the average points and save it to `total_game_points`.\n",
    "   - Add the bonus points to get the total points scored so far, saved as `total_points`.\n",
    "\n",
    "4. **Calculate Remaining Points**:\n",
    "   - Subtract the total points scored from the season target to determine the remaining points needed.\n",
    "\n",
    "5. **Print the Results**:\n",
    "   - Use f-strings to display the player ID, total points scored, and remaining points needed. We have provided this code for you so you do not have to write it. \n"
   ]
  },
  {
   "cell_type": "code",
   "execution_count": null,
   "id": "3",
   "metadata": {
    "tags": [
     "skip-execution"
    ]
   },
   "outputs": [],
   "source": [
    "# Player's ID\n",
    "player_id = ...\n",
    "\n",
    "# Variables\n",
    "\n",
    "# Number of games played\n",
    "...\n",
    "\n",
    "# Average points per game\n",
    "...\n",
    "\n",
    "# Bonus points from overtime\n",
    "...\n",
    "\n",
    "# Season target\n",
    "...\n",
    "\n",
    "# Calculate total points\n",
    "...\n",
    "\n",
    "# Calculate remaining points\n",
    "...\n",
    "\n",
    "# DO NOT MODIFY BELOW THIS LINE\n",
    "# Print the results\n",
    "print(f\"Player ID: {player_id}\")\n",
    "print(f\"Total Points Scored: {total_points}\")\n",
    "print(f\"Remaining Points to Reach Target: {remaining_points}\")"
   ]
  },
  {
   "cell_type": "code",
   "execution_count": null,
   "id": "4",
   "metadata": {
    "deletable": false,
    "editable": false,
    "tags": [
     "skip-execution"
    ]
   },
   "outputs": [],
   "source": [
    "grader.check(\"quiz-1-Drexel-basketball\")"
   ]
  },
  {
   "cell_type": "markdown",
   "id": "5",
   "metadata": {
    "deletable": false,
    "editable": false
   },
   "source": [
    "## 🎉 Well Done!\n",
    "\n",
    "Congratulations on completing the Drexel Basketball Player's Game Stats Calculation! You are one step closer to achieving your season target! 🏀"
   ]
  },
  {
   "cell_type": "markdown",
   "id": "6",
   "metadata": {},
   "source": [
    "## Submitting Assignment\n",
    "\n",
    "Please run the following block of code using `shift + enter` to submit your assignment, you should see your score."
   ]
  },
  {
   "cell_type": "code",
   "execution_count": null,
   "id": "7",
   "metadata": {
    "deletable": false,
    "editable": false,
    "tags": [
     "skip-execution"
    ]
   },
   "outputs": [],
   "source": [
    "from pykubegrader.tokens.validate_token import validate_token\n",
    "validate_token()\n",
    "\n",
    "\n",
    "from pykubegrader.submit.submit_assignment import submit_assignment\n",
    "\n",
    "submit_assignment(\"week1-quiz\", \"1_quiz\")"
   ]
  }
 ],
 "metadata": {
  "kernelspec": {
   "display_name": "engr131_dev",
   "language": "python",
   "name": "python3"
  },
  "language_info": {
   "codemirror_mode": {
    "name": "ipython",
    "version": 3
   },
   "file_extension": ".py",
   "mimetype": "text/x-python",
   "name": "python",
   "nbconvert_exporter": "python",
   "pygments_lexer": "ipython3",
   "version": "3.12.7"
  },
  "otter": {
   "OK_FORMAT": true,
   "tests": {
    "quiz-1-Drexel-basketball": {
     "name": "quiz-1-Drexel-basketball",
     "points": null,
     "suites": [
      {
       "cases": [
        {
         "code": ">>> from pykubegrader.telemetry import ensure_responses, log_variable, score_question, submit_question, telemetry, update_responses\n>>> import os\n>>> max_question_points = str(16.0)\n>>> earned_points = 0\n>>> os.environ['EARNED_POINTS'] = str(earned_points)\n>>> os.environ['TOTAL_POINTS_FREE_RESPONSE'] = str(16.0)\n>>> from pykubegrader.tokens.validate_token import validate_token\n>>> validate_token()\n>>> log_variable('total-points', f'Reading-Week-X, 1_quiz', 16.0)\n>>> question_id = 'quiz-1-Drexel-basketball-1'\n>>> max_score = 2.0\n>>> score = 0\n>>> assert games_played == 15\n>>> if games_played == 15:\n...     score = 2.0\n>>> earned_points = float(os.environ.get('EARNED_POINTS', 0))\n>>> earned_points += score\n>>> log_variable('1_quiz', f'{score}, {max_score}', question_id)\n>>> os.environ['EARNED_POINTS'] = str(earned_points)\n",
         "failure_message": "games_played not correctly assigned",
         "hidden": false,
         "locked": false,
         "points": 2,
         "success_message": "games_played correctly assigned"
        },
        {
         "code": ">>> from pykubegrader.telemetry import ensure_responses, log_variable, score_question, submit_question, telemetry, update_responses\n>>> import os\n>>> question_id = 'quiz-1-Drexel-basketball-2'\n>>> max_score = 2.0\n>>> score = 0\n>>> assert average_points == 20\n>>> if average_points == 20:\n...     score = 2.0\n>>> earned_points = float(os.environ.get('EARNED_POINTS', 0))\n>>> earned_points += score\n>>> log_variable('1_quiz', f'{score}, {max_score}', question_id)\n>>> os.environ['EARNED_POINTS'] = str(earned_points)\n",
         "failure_message": "average_points not correctly assigned",
         "hidden": false,
         "locked": false,
         "points": 2,
         "success_message": "average_points correctly assigned"
        },
        {
         "code": ">>> from pykubegrader.telemetry import ensure_responses, log_variable, score_question, submit_question, telemetry, update_responses\n>>> import os\n>>> question_id = 'quiz-1-Drexel-basketball-3'\n>>> max_score = 2.0\n>>> score = 0\n>>> assert bonus_points == 25\n>>> if bonus_points == 25:\n...     score = 2.0\n>>> earned_points = float(os.environ.get('EARNED_POINTS', 0))\n>>> earned_points += score\n>>> log_variable('1_quiz', f'{score}, {max_score}', question_id)\n>>> os.environ['EARNED_POINTS'] = str(earned_points)\n",
         "failure_message": "bonus_points not correctly assigned",
         "hidden": false,
         "locked": false,
         "points": 2,
         "success_message": "bonus_points correctly assigned"
        },
        {
         "code": ">>> from pykubegrader.telemetry import ensure_responses, log_variable, score_question, submit_question, telemetry, update_responses\n>>> import os\n>>> question_id = 'quiz-1-Drexel-basketball-4'\n>>> max_score = 2.0\n>>> score = 0\n>>> assert season_target == 400\n>>> if season_target == 400:\n...     score = 2.0\n>>> earned_points = float(os.environ.get('EARNED_POINTS', 0))\n>>> earned_points += score\n>>> log_variable('1_quiz', f'{score}, {max_score}', question_id)\n>>> os.environ['EARNED_POINTS'] = str(earned_points)\n",
         "failure_message": "season_target not correctly assigned",
         "hidden": false,
         "locked": false,
         "points": 2,
         "success_message": "season_target correctly assigned"
        },
        {
         "code": ">>> from pykubegrader.telemetry import ensure_responses, log_variable, score_question, submit_question, telemetry, update_responses\n>>> import os\n>>> question_id = 'quiz-1-Drexel-basketball-5'\n>>> max_score = 4.0\n>>> score = 0\n>>> assert total_points == 325\n>>> if total_points == 325:\n...     score = 4.0\n>>> earned_points = float(os.environ.get('EARNED_POINTS', 0))\n>>> earned_points += score\n>>> log_variable('1_quiz', f'{score}, {max_score}', question_id)\n>>> os.environ['EARNED_POINTS'] = str(earned_points)\n",
         "failure_message": "total_points not correctly calculated",
         "hidden": false,
         "locked": false,
         "points": 4,
         "success_message": "total_points correctly calculated"
        },
        {
         "code": ">>> from pykubegrader.telemetry import ensure_responses, log_variable, score_question, submit_question, telemetry, update_responses\n>>> import os\n>>> question_id = 'quiz-1-Drexel-basketball-6'\n>>> max_score = 4.0\n>>> score = 0\n>>> assert remaining_points == 75\n>>> if remaining_points == 75:\n...     score = 4.0\n>>> earned_points = float(os.environ.get('EARNED_POINTS', 0))\n>>> earned_points += score\n>>> log_variable('1_quiz', f'{score}, {max_score}', question_id)\n>>> os.environ['EARNED_POINTS'] = str(earned_points)\n",
         "failure_message": "remaining_points not correctly calculated",
         "hidden": false,
         "locked": false,
         "points": 4,
         "success_message": "remaining_points correctly calculated"
        }
       ],
       "scored": true,
       "setup": "",
       "teardown": "",
       "type": "doctest"
      }
     ]
    }
   }
  }
 },
 "nbformat": 4,
 "nbformat_minor": 5
}
