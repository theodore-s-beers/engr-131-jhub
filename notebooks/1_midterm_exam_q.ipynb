{
 "cells": [
  {
   "cell_type": "code",
   "execution_count": null,
   "metadata": {
    "deletable": false,
    "editable": false,
    "tags": [
     "skip-execution"
    ]
   },
   "outputs": [],
   "source": [
    "# You must make sure to run all cells in sequence using shift + enter or you might encounter errors\n",
    "from pykubegrader.initialize import initialize_assignment\n",
    "\n",
    "responses = initialize_assignment(\"1_midterm_exam_q\", \"week_6\", \"midterm\", assignment_points = 110.0, assignment_tag = 'week6-midterm')\n",
    "\n",
    "# Initialize Otter\n",
    "import otter\n",
    "grader = otter.Notebook(\"1_midterm_exam_q.ipynb\")"
   ]
  },
  {
   "cell_type": "markdown",
   "metadata": {
    "deletable": false,
    "editable": false
   },
   "source": [
    "# ❓ ENGR131: Introduction to Programming for Engineers\n",
    "\n",
    "You will have one hour to complete the midterm exam. Please read the instructions carefully. You will receive feedback similar to your practice midterm exam.\n",
    "\n",
    "## Recommended Tests Taking Strategies\n",
    "\n",
    "1. Look over the point totals for each question\n",
    "2. Quickly complete the multiple choice questions\n",
    "3. Move on to the short answer questions and complete the ones you know first.\n",
    "4. Go back and refine your answers to the short answer questions -- this is a good opportunity to use the python interpreter to test your code.\n",
    "\n",
    "For the multiple choice questions it is expected that you have access to a python interpreter. Do not go at it alone, use the resources available to you to help you answer the questions. Without the interpreter some of the questions may be difficult to answer."
   ]
  },
  {
   "cell_type": "code",
   "execution_count": null,
   "metadata": {
    "tags": [
     "skip-execution"
    ]
   },
   "outputs": [],
   "source": [
    "# Run this block of code by pressing Shift + Enter to display the question\n",
    "from questions._1_midterm_exam_q import Question1\n",
    "Question1().show()\n"
   ]
  },
  {
   "cell_type": "code",
   "execution_count": null,
   "metadata": {
    "tags": [
     "skip-execution"
    ]
   },
   "outputs": [],
   "source": [
    "# Run this block of code by pressing Shift + Enter to display the question\n",
    "from questions._1_midterm_exam_q import Question2\n",
    "Question2().show()\n"
   ]
  },
  {
   "cell_type": "code",
   "execution_count": null,
   "metadata": {
    "tags": [
     "skip-execution"
    ]
   },
   "outputs": [],
   "source": [
    "# Run this block of code by pressing Shift + Enter to display the question\n",
    "from questions._1_midterm_exam_q import Question3\n",
    "Question3().show()\n"
   ]
  },
  {
   "cell_type": "markdown",
   "metadata": {
    "deletable": false,
    "editable": false
   },
   "source": [
    "## Question 1 (Points: 16.0): Quality Control in Manufacturing: Loops, Continue, Break, Dictionaries, and Lists\n",
    "\n",
    "### Instructions:\n",
    "\n",
    "You are managing a **quality control system** in a manufacturing plant. Each manufactured part is represented as a dictionary, where the keys are **part IDs** (e.g., `\"P1\"`) and the values contain details about the part. Your task is to implement a function `inspect_parts()` that processes a list of parts using **loops**, `continue`, and `break`.\n",
    "\n",
    "### Requirements:\n",
    "\n",
    "1. **Input:** The function receives a list of dictionaries, each representing a part:\n",
    "\n",
    "| id | status   | weight (kg) |\n",
    "|----|----------|------------|\n",
    "| P1 | passed   | 1.2        |\n",
    "| P2 | passed   | 2.3        |\n",
    "| P3 | rejected | 3.8        |\n",
    "| P4 | passed   | 5.1        |\n",
    "\n",
    "2. **Part 1:** Count the number of parts with status `\"passed\"` and return the count.\n",
    "3. **Part 2:** Skip parts labeled as `\"rejected\"`, and create a list of IDs for accepted parts.\n",
    "4. **Part 3:** If a part's weight exceeds `4.5 kg`, **break the loop** and return `\"Overweight part detected!\"`.\n",
    "5. **Part 4:** Return a dictionary summarizing:\n",
    "- The count of `\"passed\"` parts.\n",
    "- The list of valid part IDs.\n",
    "- The break message (if triggered).\n",
    "\n",
    "### Helpful Information:\n",
    "\n",
    "- Use a loop to iterate through the `parts` list.\n",
    "- Use `continue` to **skip** certain iterations based on a condition.\n",
    "- Use `break` to **exit** the loop early when another condition is met.\n",
    "- Access dictionary values using `dictionary[key]`.\n",
    "- Useful methods:\n",
    "    - `.append()`: Adds an element to a list.\n",
    "\n",
    "Follow the provided step-by-step instructions carefully and complete each part."
   ]
  },
  {
   "cell_type": "code",
   "execution_count": null,
   "metadata": {
    "tags": [
     "skip-execution"
    ]
   },
   "outputs": [],
   "source": [
    "# Define a list of dictionaries representing parts in the quality control system\n",
    "...\n",
    "\n",
    "# Define the function `inspect_parts` to process parts\n",
    "...\n",
    "\n",
    "    # Initialize variables\n",
    "    # Create a variable `approved_count` and set it to 0\n",
    "    # Create a variable `accepted_parts` and set it to an empty list\n",
    "    # Create a variable `alert_message` and set it to None\n",
    "    ...\n",
    "    \n",
    "    # Loop through parts\n",
    "    ...\n",
    "    \n",
    "        # Part 3: Check for overweight parts\n",
    "        # If the part's weight is greater than 4.5, set `alert_message` to \"Overweight part detected!\" and break the loop\n",
    "        ...\n",
    "        \n",
    "        # Part 2: Skip parts with status \"rejected\"\n",
    "        # If the part's status is \"rejected\", continue to the next iteration\n",
    "        ...\n",
    "        \n",
    "        # Part 1: Count parts with status \"passed\"\n",
    "        # If the part's status is \"passed\", increment `approved_count` by 1 and append the part's id to `accepted_parts`\n",
    "        ...\n",
    "        \n",
    "    # Part 4: Return the results as a dictionary\n",
    "    # Return a dictionary with keys \"approved_count\", \"accepted_parts\", and \"alert_message\" and their corresponding values\n",
    "    ...\n",
    "    \n",
    "# Call the function with the parts dictionary and store the result in a variable `qc_result`\n",
    "..."
   ]
  },
  {
   "cell_type": "code",
   "execution_count": null,
   "metadata": {
    "deletable": false,
    "editable": false,
    "tags": [
     "skip-execution"
    ]
   },
   "outputs": [],
   "source": [
    "grader.check(\"loops-and-dictionaries-quality-control\")"
   ]
  },
  {
   "cell_type": "markdown",
   "metadata": {
    "deletable": false,
    "editable": false
   },
   "source": [
    "## Question 2 (Points: 13.0): Debugging Python Functions: Fixing Syntax, Runtime, and Logical Errors\n",
    "### Instructions:\n",
    "\n",
    "You are provided with the following **buggy code** related to **thermodynamics**. Your task is to debug the function `convert_kelvin_to_celsius`, which is intended to take a list of temperatures in Kelvin and return a new list where only the **valid (above absolute zero)** temperatures are converted to Celsius using the formula:\n",
    "\n",
    "$$\n",
    "C = K - 273.15\n",
    "$$\n",
    "\n",
    "```python\n",
    "def convert_kelvin_to_celsius(temps)\n",
    "\n",
    "celsius_values = []\n",
    "for t in temp:\n",
    "    if t < 273.15\n",
    "    contine\n",
    "\n",
    "    celsiuss_values.add(t - 273.5\n",
    "    print(celsius_values)\n",
    "\n",
    "# Example usage:\n",
    "temperatures = [300, 250, 280, 260, 310]\n",
    "print(convert_kelvin_to_celsius(temperatures)) # Expected output: [26.85, 6.85, 36.85]\n",
    "```\n",
    "### Requirements:\n",
    "\n",
    "1. **Input:** The function receives a list of temperatures in **Kelvin**.\n",
    "2. **Expected Behavior:** The function should return a new list where **only valid Kelvin temperatures** (≥ 273.15) are converted to Celsius.\n",
    "3. **Possible Errors to Fix:**\n",
    "- **Syntax Errors** (missing colons, incorrect operators, typos).\n",
    "- **Runtime Errors** (undefined variables, incorrect function calls).\n",
    "- **Logical Errors** (incorrect formulas or conditions).\n",
    "4. **Return Value:** The function should **return** the converted list, not just print it."
   ]
  },
  {
   "cell_type": "code",
   "execution_count": null,
   "metadata": {
    "tags": [
     "skip-execution"
    ]
   },
   "outputs": [],
   "source": [
    "# Define a function `convert_kelvin_to_celsius` that takes a list of Kelvin temperatures as input\n",
    "..."
   ]
  },
  {
   "cell_type": "code",
   "execution_count": null,
   "metadata": {
    "deletable": false,
    "editable": false,
    "tags": [
     "skip-execution"
    ]
   },
   "outputs": [],
   "source": [
    "# Do Not Modify Below This Line\n",
    "temperatures = [300, 250, 280, 260, 310]\n",
    "result = convert_kelvin_to_celsius(temperatures)\n",
    "print(result)"
   ]
  },
  {
   "cell_type": "code",
   "execution_count": null,
   "metadata": {
    "deletable": false,
    "editable": false,
    "tags": [
     "skip-execution"
    ]
   },
   "outputs": [],
   "source": [
    "grader.check(\"loops-and-errors-debugging-thermodynamics\")"
   ]
  },
  {
   "cell_type": "markdown",
   "metadata": {
    "deletable": false,
    "editable": false
   },
   "source": [
    "## Question 3 (Points: 16.0): Numerical Computing with NumPy: Positive Multiple of 7 Checker 🔢\n",
    "### Instructions:\n",
    "\n",
    "You are working with numerical data and need to determine which numbers in a given NumPy array are **positive multiples of 7**. Your task is to write a function `find_multiples_of_7()` that takes a NumPy array of integers and returns a boolean array indicating which elements are **positive multiples of 7**.\n",
    "\n",
    "### Requirements:\n",
    "\n",
    "1. The function receives a NumPy array of integers, or a list of integers. Hint - You can convert a list to a NumPy array using `np.array()`.\n",
    "2. Implement an efficient multiple-checking function using NumPy.\n",
    "3. The function should return a boolean NumPy array of the same shape as the input, where `True` represents a **positive** multiple of 7, and `False` otherwise.\n",
    "\n",
    "### Helpful Information:\n",
    "\n",
    "- A multiple of **7** is any number `n` that is evenly divisible by **7**.\n",
    "- The first few positive multiples of 7 are: **7, 14, 21, 28, 35, ...**\n",
    "- The function should **only** return `True` for **positive multiples of 7** (i.e., negative numbers should return `False`, even if they are divisible by 7).\n",
    "\n",
    "**Make sure to include docstrings and comments in your code to explain the logic and purpose of the function.**"
   ]
  },
  {
   "cell_type": "code",
   "execution_count": null,
   "metadata": {
    "tags": [
     "skip-execution"
    ]
   },
   "outputs": [],
   "source": [
    "# Import NumPy using the common alias np\n",
    "...\n",
    "\n",
    "# Define the function `find_multiples_of_7` which accepts an input array, or list\n",
    "...\n",
    "    \"\"\"\n",
    "    ...\n",
    "    \"\"\"\n",
    "    # Ensure input is a NumPy array\n",
    "    ...\n",
    "\n",
    "    # Create a boolean array where `True` represents positive multiples of 7\n",
    "    ...\n",
    "\n",
    "    # Return the boolean array `is_multiple_of_7`\n",
    "    ...\n",
    "\n",
    "# Example usage:\n",
    "test_array = np.array([0, 7, 14, -7, 21, -14, 28, 35, -49, 50])\n",
    "multiples_results = find_multiples_of_7(test_array)\n",
    "print(multiples_results)"
   ]
  },
  {
   "cell_type": "code",
   "execution_count": null,
   "metadata": {
    "deletable": false,
    "editable": false,
    "tags": [
     "skip-execution"
    ]
   },
   "outputs": [],
   "source": [
    "grader.check(\"numpy-multiple-of-7-check\")"
   ]
  },
  {
   "cell_type": "markdown",
   "metadata": {
    "deletable": false,
    "editable": false
   },
   "source": [
    "## Question 4 (Points: 10.0): Bonus In-Place Removal of Duplicates in a Sorted Array 🔢\n",
    "### Instructions:\n",
    "\n",
    "You are given an integer array `nums` sorted in **non-decreasing order**. Your task is to **remove duplicates in-place** such that each unique element appears **only once**. The **relative order** of the elements should be maintained.\n",
    "\n",
    "### Requirements:\n",
    "\n",
    "1. **Modify `nums` in-place** such that the **first `k` elements** contain only **unique elements**, while the rest of the elements do not matter.\n",
    "2. **Return `k`**, the number of unique elements in `nums`.\n",
    "3. The function **should not** use extra space; it must modify `nums` in-place.\n",
    "4. the function must return 0 if the input list is empty.\n",
    "\n",
    "### Example Usage:\n",
    "```python\n",
    "nums = [1, 1, 2, 2, 3, 4, 4]\n",
    "k = remove_duplicates(nums)\n",
    "print(k, nums[:k])  # Expected output: 4, [1, 2, 3, 4]\n",
    "```\n",
    "\n",
    "**Constraints:**\n",
    "- `1 <= len(nums) <= 10^4`\n",
    "- `-10^4 <= nums[i] <= 10^4`\n",
    "- `nums` is sorted in **non-decreasing order**."
   ]
  },
  {
   "cell_type": "code",
   "execution_count": null,
   "metadata": {
    "tags": [
     "skip-execution"
    ]
   },
   "outputs": [],
   "source": [
    "# Define the function `remove_duplicates` which modifies `nums` in-place\n",
    "...\n",
    "\n",
    "# Example usage:\n",
    "nums = [1, 1, 2, 2, 3, 4, 4]\n",
    "k = remove_duplicates(nums)\n",
    "print(k, nums[:k])  # Expected output: 4, [1, 2, 3, 4]"
   ]
  },
  {
   "cell_type": "code",
   "execution_count": null,
   "metadata": {
    "deletable": false,
    "editable": false,
    "tags": [
     "skip-execution"
    ]
   },
   "outputs": [],
   "source": [
    "grader.check(\"remove-duplicates-sorted-array\")"
   ]
  },
  {
   "cell_type": "markdown",
   "id": "18",
   "metadata": {},
   "source": [
    "## Submitting Assignment\n",
    "\n",
    "Please run the following block of code using `shift + enter` to submit your assignment, you should see your score."
   ]
  },
  {
   "cell_type": "code",
   "execution_count": null,
   "id": "19",
   "metadata": {
    "deletable": false,
    "editable": true,
    "tags": [
     "skip-execution"
    ]
   },
   "outputs": [],
   "source": [
    "from pykubegrader.submit.submit_assignment import submit_assignment\n",
    "\n",
    "submit_assignment(\"week6-midterm\", \"1_midterm_exam_q\")"
   ]
  }
 ],
 "metadata": {
  "kernelspec": {
   "display_name": "engr131_dev",
   "language": "python",
   "name": "python3"
  },
  "language_info": {
   "codemirror_mode": {
    "name": "ipython",
    "version": 3
   },
   "file_extension": ".py",
   "mimetype": "text/x-python",
   "name": "python",
   "nbconvert_exporter": "python",
   "pygments_lexer": "ipython3",
   "version": "3.12.7"
  },
  "otter": {
   "OK_FORMAT": true,
   "tests": {
    "loops-and-dictionaries-quality-control": {
     "name": "loops-and-dictionaries-quality-control",
     "points": null,
     "suites": [
      {
       "cases": [
        {
         "code": ">>> from pykubegrader.telemetry import ensure_responses, log_variable, score_question, submit_question, telemetry, update_responses\n>>> import os\n>>> import base64\n>>> max_question_points = str(16.0)\n>>> earned_points = 0\n>>> os.environ['EARNED_POINTS'] = str(earned_points)\n>>> os.environ['TOTAL_POINTS_FREE_RESPONSE'] = str(55.0)\n>>> log_variable('total-points', f'week6-midterm, 1_midterm_exam_q', 55.0)\n>>> question_id = 'loops-and-dictionaries-quality-control-1'\n>>> max_score = 1.0\n>>> score = 0\n>>> function_exists = callable(inspect_parts)\n>>> assert function_exists, 'The function `inspect_parts` must be defined and callable.'\n>>> if (function_exists, 'The function `inspect_parts` must be defined and callable.'):\n...     score = 1.0\n>>> earned_points = float(os.environ.get('EARNED_POINTS', 0))\n>>> earned_points += score\n>>> log_variable('1_midterm_exam_q', f'{score}, {max_score}', question_id)\n>>> os.environ['EARNED_POINTS'] = str(earned_points)\n>>> responses = update_responses(question_id, str(function_exists))\n",
         "failure_message": "Failed: The function `inspect_parts` is not defined correctly.",
         "hidden": false,
         "locked": false,
         "points": 1,
         "success_message": "Success: The function `inspect_parts` exists and is callable!"
        },
        {
         "code": ">>> from pykubegrader.telemetry import ensure_responses, log_variable, score_question, submit_question, telemetry, update_responses\n>>> import os\n>>> import base64\n>>> import inspect\n>>> import re\n>>> question_id = 'loops-and-dictionaries-quality-control-2'\n>>> max_score = 2.0\n>>> score = 0\n>>> code = inspect.getsource(inspect_parts)\n>>> approved_count_init = re.search('approved_count\\\\s*=\\\\s*0', code)\n>>> accepted_parts_init = re.search('accepted_parts\\\\s*=\\\\s*\\\\[\\\\]', code)\n>>> alert_message_init = re.search('alert_message\\\\s*=\\\\s*None', code)\n>>> initial_values = all([approved_count_init, accepted_parts_init, alert_message_init])\n>>> assert initial_values, 'Expected variables `approved_count = 0`, `accepted_parts = []`, and `alert_message = None` in the function.'\n>>> if (initial_values, 'Expected variables `approved_count = 0`, `accepted_parts = []`, and `alert_message = None` in the function.'):\n...     score = 2.0\n>>> earned_points = float(os.environ.get('EARNED_POINTS', 0))\n>>> earned_points += score\n>>> log_variable('1_midterm_exam_q', f'{score}, {max_score}', question_id)\n>>> os.environ['EARNED_POINTS'] = str(earned_points)\n>>> responses = update_responses(question_id, str(initial_values))\n",
         "failure_message": "Failed: The function does not correctly initialize variables.",
         "hidden": false,
         "locked": false,
         "points": 2,
         "success_message": "Success: The function correctly initializes variables!"
        },
        {
         "code": ">>> from pykubegrader.telemetry import ensure_responses, log_variable, score_question, submit_question, telemetry, update_responses\n>>> import os\n>>> import base64\n>>> question_id = 'loops-and-dictionaries-quality-control-3'\n>>> max_score = 3.0\n>>> score = 0\n>>> test_parts = [{'id': 'X1', 'status': 'passed', 'weight': 3.0}, {'id': 'X2', 'status': 'passed', 'weight': 5.2}, {'id': 'X3', 'status': 'passed', 'weight': 2.5}]\n>>> result = inspect_parts(test_parts)\n>>> expected_alert_message = 'Overweight part detected!'\n>>> alert_message = result['alert_message']\n>>> assert alert_message == expected_alert_message\n>>> if alert_message == expected_alert_message:\n...     score = 3.0\n>>> earned_points = float(os.environ.get('EARNED_POINTS', 0))\n>>> earned_points += score\n>>> log_variable('1_midterm_exam_q', f'{score}, {max_score}', question_id)\n>>> os.environ['EARNED_POINTS'] = str(earned_points)\n>>> responses = update_responses(question_id, str(alert_message))\n",
         "failure_message": "Failed: The function does not handle overweight parts correctly.",
         "hidden": false,
         "locked": false,
         "points": 3,
         "success_message": "Success: The function correctly detects overweight parts!"
        },
        {
         "code": ">>> from pykubegrader.telemetry import ensure_responses, log_variable, score_question, submit_question, telemetry, update_responses\n>>> import os\n>>> import base64\n>>> question_id = 'loops-and-dictionaries-quality-control-4'\n>>> max_score = 2.0\n>>> score = 0\n>>> test_parts = [{'id': 'Y1', 'status': 'passed', 'weight': 2.0}, {'id': 'Y2', 'status': 'rejected', 'weight': 3.0}, {'id': 'Y3', 'status': 'passed', 'weight': 1.5}]\n>>> result = inspect_parts(test_parts)\n>>> expected_approved_count = 2\n>>> expected_accepted_parts = ['Y1', 'Y3']\n>>> assert result['approved_count'] == expected_approved_count\n>>> assert result['accepted_parts'] == expected_accepted_parts\n>>> if result['approved_count'] == expected_approved_count and result['accepted_parts'] == expected_accepted_parts:\n...     score = 2.0\n>>> earned_points = float(os.environ.get('EARNED_POINTS', 0))\n>>> earned_points += score\n>>> log_variable('1_midterm_exam_q', f'{score}, {max_score}', question_id)\n>>> os.environ['EARNED_POINTS'] = str(earned_points)\n",
         "failure_message": "Failed: The function does not correctly skip rejected parts.",
         "hidden": false,
         "locked": false,
         "points": 2,
         "success_message": "Success: The function correctly skips rejected parts!"
        },
        {
         "code": ">>> from pykubegrader.telemetry import ensure_responses, log_variable, score_question, submit_question, telemetry, update_responses\n>>> import os\n>>> import base64\n>>> question_id = 'loops-and-dictionaries-quality-control-5'\n>>> max_score = 2.0\n>>> score = 0\n>>> test_parts = [{'id': 'X1', 'status': 'passed', 'weight': 6.0}, {'id': 'X2', 'status': 'passed', 'weight': 5.2}, {'id': 'X3', 'status': 'passed', 'weight': 2.5}]\n>>> result = inspect_parts(test_parts)\n>>> expected_alert_message = 'Overweight part detected!'\n>>> alert_message = result['alert_message']\n>>> assert alert_message == expected_alert_message\n>>> if alert_message == expected_alert_message:\n...     score = 2.0\n>>> earned_points = float(os.environ.get('EARNED_POINTS', 0))\n>>> earned_points += score\n>>> log_variable('1_midterm_exam_q', f'{score}, {max_score}', question_id)\n>>> os.environ['EARNED_POINTS'] = str(earned_points)\n>>> responses = update_responses(question_id, str(alert_message))\n",
         "failure_message": "Failed: The function does not handle multiple overweight parts correctly.",
         "hidden": false,
         "locked": false,
         "points": 2,
         "success_message": "Success: The function correctly detects multiple overweight parts!"
        },
        {
         "code": ">>> from pykubegrader.telemetry import ensure_responses, log_variable, score_question, submit_question, telemetry, update_responses\n>>> import os\n>>> import base64\n>>> question_id = 'loops-and-dictionaries-quality-control-6'\n>>> max_score = 3.0\n>>> score = 0\n>>> test_parts = [{'id': 'X1', 'status': 'rejected', 'weight': 1.0}, {'id': 'X2', 'status': 'rejected', 'weight': 5.2}, {'id': 'X3', 'status': 'passed', 'weight': 2.5}]\n>>> result = inspect_parts(test_parts)\n>>> expected_alert_message = 'Overweight part detected!'\n>>> alert_message = result['alert_message']\n>>> assert alert_message == expected_alert_message\n>>> if alert_message == expected_alert_message:\n...     score = 3.0\n>>> earned_points = float(os.environ.get('EARNED_POINTS', 0))\n>>> earned_points += score\n>>> log_variable('1_midterm_exam_q', f'{score}, {max_score}', question_id)\n>>> os.environ['EARNED_POINTS'] = str(earned_points)\n>>> responses = update_responses(question_id, str(alert_message))\n",
         "failure_message": "Failed: The function does not handle rejected overweight parts.",
         "hidden": false,
         "locked": false,
         "points": 3,
         "success_message": "Success: The function deals with rejected overweight parts!"
        },
        {
         "code": ">>> from pykubegrader.telemetry import ensure_responses, log_variable, score_question, submit_question, telemetry, update_responses\n>>> import os\n>>> import base64\n>>> question_id = 'loops-and-dictionaries-quality-control-7'\n>>> max_score = 3.0\n>>> score = 0\n>>> test_parts = [{'id': 'X1', 'status': 'passed', 'weight': 1.8}, {'id': 'X2', 'status': 'rejected', 'weight': 3.2}, {'id': 'X3', 'status': 'passed', 'weight': 2.5}, {'id': 'X4', 'status': 'passed', 'weight': 4.6}, {'id': 'X5', 'status': 'passed', 'weight': 1.9}]\n>>> expected_ids = ['X1', 'X3']\n>>> qc_result_new = inspect_parts(test_parts)\n>>> actual_ids = qc_result_new['accepted_parts']\n>>> assert actual_ids == expected_ids, f'Expected `accepted_parts` to be {expected_ids}, but got {actual_ids}.'\n>>> if actual_ids == expected_ids:\n...     score = 3.0\n>>> earned_points = float(os.environ.get('EARNED_POINTS', 0))\n>>> earned_points += score\n>>> log_variable('1_midterm_exam_q', f'{score}, {max_score}', question_id)\n>>> os.environ['EARNED_POINTS'] = str(earned_points)\n>>> responses = update_responses(question_id, str(expected_ids))\n>>> responses = update_responses(question_id, str(actual_ids))\n",
         "failure_message": "Failed: The `accepted_parts` list does not contain the expected IDs for a different input.",
         "hidden": false,
         "locked": false,
         "points": 3,
         "success_message": "Success: The `accepted_parts` list correctly identifies passed parts!"
        }
       ],
       "scored": true,
       "setup": "",
       "teardown": "",
       "type": "doctest"
      }
     ]
    },
    "loops-and-errors-debugging-thermodynamics": {
     "name": "loops-and-errors-debugging-thermodynamics",
     "points": null,
     "suites": [
      {
       "cases": [
        {
         "code": ">>> from pykubegrader.telemetry import ensure_responses, log_variable, score_question, submit_question, telemetry, update_responses\n>>> import os\n>>> import base64\n>>> max_question_points = str(13.0)\n>>> earned_points = 0\n>>> os.environ['EARNED_POINTS'] = str(earned_points)\n>>> os.environ['TOTAL_POINTS_FREE_RESPONSE'] = str(55.0)\n>>> log_variable('total-points', f'week6-midterm, 1_midterm_exam_q', 55.0)\n>>> question_id = 'loops-and-errors-debugging-thermodynamics-1'\n>>> max_score = 2.0\n>>> score = 0\n>>> function_exists = callable(convert_kelvin_to_celsius)\n>>> assert function_exists, 'The function `convert_kelvin_to_celsius` must be defined and callable.'\n>>> if (function_exists, 'The function `convert_kelvin_to_celsius` must be defined and callable.'):\n...     score = 2.0\n>>> earned_points = float(os.environ.get('EARNED_POINTS', 0))\n>>> earned_points += score\n>>> log_variable('1_midterm_exam_q', f'{score}, {max_score}', question_id)\n>>> os.environ['EARNED_POINTS'] = str(earned_points)\n>>> responses = update_responses(question_id, str(function_exists))\n",
         "failure_message": "Failed: The function `convert_kelvin_to_celsius` is not defined correctly.",
         "hidden": false,
         "locked": false,
         "points": 2,
         "success_message": "Success: The function `convert_kelvin_to_celsius` exists and is callable!"
        },
        {
         "code": ">>> from pykubegrader.telemetry import ensure_responses, log_variable, score_question, submit_question, telemetry, update_responses\n>>> import os\n>>> import base64\n>>> import numpy as np\n>>> question_id = 'loops-and-errors-debugging-thermodynamics-2'\n>>> max_score = 5.0\n>>> score = 0\n>>> exec(base64.b64decode('Y29uZGl0aW9uMSA9IG5wLmlzY2xvc2UoY29udmVydF9rZWx2aW5fdG9fY2Vsc2l1cyhbMjgwLCAyNjAsIDMwMF0pLCBbNi44NSwgMjYuODVdKS5hbGwoKQ==').decode())\n>>> exec(base64.b64decode('Y29uZGl0aW9uMiA9IGNvbnZlcnRfa2VsdmluX3RvX2NlbHNpdXMoWzI2MCwgMjUwLCAyNzBdKSA9PSBbXQ==').decode())\n>>> exec(base64.b64decode('Y29uZGl0aW9uMyA9IG5wLmlzY2xvc2UoY29udmVydF9rZWx2aW5fdG9fY2Vsc2l1cyhbMjczLjE1LCAzMTBdKSwgWzAuMCwgMzYuODVdKS5hbGwoKQ==').decode())\n>>> assert condition1\n>>> assert condition2\n>>> assert condition3\n>>> if condition1 and condition2 and condition3:\n...     score = 5.0\n>>> earned_points = float(os.environ.get('EARNED_POINTS', 0))\n>>> earned_points += score\n>>> log_variable('1_midterm_exam_q', f'{score}, {max_score}', question_id)\n>>> os.environ['EARNED_POINTS'] = str(earned_points)\n>>> responses = update_responses(question_id, str(result))\n",
         "failure_message": "Failed: The function does not correctly filter and convert valid Kelvin temperatures.",
         "hidden": false,
         "locked": false,
         "points": 5,
         "success_message": "Success: The function correctly filters and converts valid Kelvin temperatures!"
        },
        {
         "code": ">>> from pykubegrader.telemetry import ensure_responses, log_variable, score_question, submit_question, telemetry, update_responses\n>>> import os\n>>> import base64\n>>> question_id = 'loops-and-errors-debugging-thermodynamics-3'\n>>> max_score = 2.0\n>>> score = 0\n>>> exec(base64.b64decode('Y29uZGl0aW9uID0gY29udmVydF9rZWx2aW5fdG9fY2Vsc2l1cyhbXSkgPT0gW10=').decode())\n>>> assert condition\n>>> if condition:\n...     score = 2.0\n>>> earned_points = float(os.environ.get('EARNED_POINTS', 0))\n>>> earned_points += score\n>>> log_variable('1_midterm_exam_q', f'{score}, {max_score}', question_id)\n>>> os.environ['EARNED_POINTS'] = str(earned_points)\n>>> responses = update_responses(question_id, str(result))\n",
         "failure_message": "Failed: The function does not handle an empty list correctly.",
         "hidden": false,
         "locked": false,
         "points": 2,
         "success_message": "Success: The function correctly handles an empty input list!"
        },
        {
         "code": ">>> from pykubegrader.telemetry import ensure_responses, log_variable, score_question, submit_question, telemetry, update_responses\n>>> import os\n>>> import base64\n>>> import numpy as np\n>>> question_id = 'loops-and-errors-debugging-thermodynamics-4'\n>>> max_score = 4.0\n>>> score = 0\n>>> exec(base64.b64decode('Y29uZGl0aW9uMSA9IG5wLmlzY2xvc2UoY29udmVydF9rZWx2aW5fdG9fY2Vsc2l1cyhbMzEwLCAyNzUsIDI5MF0pLCBbMzYuODUsIDEuODUsIDE2Ljg1XSkuYWxsKCk=').decode())\n>>> exec(base64.b64decode('Y29uZGl0aW9uMiA9IG5wLmlzY2xvc2UoY29udmVydF9rZWx2aW5fdG9fY2Vsc2l1cyhbMjkwLCAyNzMuMTUsIDI4MF0pLCBbMTYuODUsIDAuMCwgNi44NV0pLmFsbCgp').decode())\n>>> assert condition1\n>>> assert condition2\n>>> if condition1 and condition2:\n...     score = 4.0\n>>> earned_points = float(os.environ.get('EARNED_POINTS', 0))\n>>> earned_points += score\n>>> log_variable('1_midterm_exam_q', f'{score}, {max_score}', question_id)\n>>> os.environ['EARNED_POINTS'] = str(earned_points)\n>>> responses = update_responses(question_id, str(result))\n",
         "failure_message": "Failed: The function does not preserve order of elements.",
         "hidden": false,
         "locked": false,
         "points": 4,
         "success_message": "Success: The function preserves order of elements!"
        }
       ],
       "scored": true,
       "setup": "",
       "teardown": "",
       "type": "doctest"
      }
     ]
    },
    "numpy-multiple-of-7-check": {
     "name": "numpy-multiple-of-7-check",
     "points": null,
     "suites": [
      {
       "cases": [
        {
         "code": ">>> from pykubegrader.telemetry import ensure_responses, log_variable, score_question, submit_question, telemetry, update_responses\n>>> import os\n>>> import base64\n>>> max_question_points = str(16.0)\n>>> earned_points = 0\n>>> os.environ['EARNED_POINTS'] = str(earned_points)\n>>> os.environ['TOTAL_POINTS_FREE_RESPONSE'] = str(55.0)\n>>> log_variable('total-points', f'week6-midterm, 1_midterm_exam_q', 55.0)\n>>> question_id = 'numpy-multiple-of-7-check-1'\n>>> max_score = 2.0\n>>> score = 0\n>>> function_exists = callable(find_multiples_of_7)\n>>> assert function_exists, 'The function `find_multiples_of_7` must be defined and callable.'\n>>> if (function_exists, 'The function `find_multiples_of_7` must be defined and callable.'):\n...     score = 2.0\n>>> earned_points = float(os.environ.get('EARNED_POINTS', 0))\n>>> earned_points += score\n>>> log_variable('1_midterm_exam_q', f'{score}, {max_score}', question_id)\n>>> os.environ['EARNED_POINTS'] = str(earned_points)\n>>> responses = update_responses(question_id, str(function_exists))\n",
         "failure_message": "Failed: The function `find_multiples_of_7` is not defined correctly.",
         "hidden": false,
         "locked": false,
         "points": 2,
         "success_message": "Success: The function `find_multiples_of_7` exists and is callable!"
        },
        {
         "code": ">>> from pykubegrader.telemetry import ensure_responses, log_variable, score_question, submit_question, telemetry, update_responses\n>>> import os\n>>> import base64\n>>> question_id = 'numpy-multiple-of-7-check-2'\n>>> max_score = 3.0\n>>> score = 0\n>>> docstring_exists = find_multiples_of_7.__doc__ is not None\n>>> docstring_word_count = len(find_multiples_of_7.__doc__.split()) if docstring_exists else 0\n>>> assert docstring_exists and docstring_word_count >= 8, f'The function `find_multiples_of_7` must have a docstring with at least 8 words. Current docstring word count: {docstring_word_count}'\n>>> if (docstring_exists and docstring_word_count >= 8, f'The function `find_multiples_of_7` must have a docstring with at least 8 words. Current docstring word count: {docstring_word_count}'):\n...     score = 3.0\n>>> earned_points = float(os.environ.get('EARNED_POINTS', 0))\n>>> earned_points += score\n>>> log_variable('1_midterm_exam_q', f'{score}, {max_score}', question_id)\n>>> os.environ['EARNED_POINTS'] = str(earned_points)\n>>> responses = update_responses(question_id, str(docstring_exists))\n>>> responses = update_responses(question_id, str(docstring_word_count))\n",
         "failure_message": "Failed: The function `find_multiples_of_7` does not have a docstring with at least 8 words.",
         "hidden": false,
         "locked": false,
         "points": 3,
         "success_message": "Success: The function `find_multiples_of_7` has a docstring with at least 8 words."
        },
        {
         "code": ">>> from pykubegrader.telemetry import ensure_responses, log_variable, score_question, submit_question, telemetry, update_responses\n>>> import os\n>>> import base64\n>>> question_id = 'numpy-multiple-of-7-check-3'\n>>> max_score = 3.0\n>>> score = 0\n>>> test_input = np.array([7, 14, 21, 28, 35])\n>>> expected_output = np.array([True, True, True, True, True])\n>>> multiples_test_results = find_multiples_of_7(test_input)\n>>> assert np.array_equal(multiples_test_results, expected_output), f'Expected {expected_output}, but got {multiples_test_results}.'\n>>> if (np.array_equal(multiples_test_results, expected_output), f'Expected {expected_output}, but got {multiples_test_results}.'):\n...     score = 3.0\n>>> earned_points = float(os.environ.get('EARNED_POINTS', 0))\n>>> earned_points += score\n>>> log_variable('1_midterm_exam_q', f'{score}, {max_score}', question_id)\n>>> os.environ['EARNED_POINTS'] = str(earned_points)\n>>> responses = update_responses(question_id, str(multiples_test_results))\n",
         "failure_message": "Failed: The function does not correctly identify positive multiples of 7.",
         "hidden": false,
         "locked": false,
         "points": 3,
         "success_message": "Success: The function `find_multiples_of_7` correctly identifies positive multiples of 7!"
        },
        {
         "code": ">>> from pykubegrader.telemetry import ensure_responses, log_variable, score_question, submit_question, telemetry, update_responses\n>>> import os\n>>> import base64\n>>> question_id = 'numpy-multiple-of-7-check-4'\n>>> max_score = 3.0\n>>> score = 0\n>>> test_array = np.array([6, 8, 15, 20, 30, 50])\n>>> multiples_results = find_multiples_of_7(test_array)\n>>> expected_results = np.array([False, False, False, False, False, False])\n>>> assert np.array_equal(multiples_results, expected_results), f'Expected {expected_results}, but got {multiples_results}'\n>>> if (np.array_equal(multiples_results, expected_results), f'Expected {expected_results}, but got {multiples_results}'):\n...     score = 3.0\n>>> earned_points = float(os.environ.get('EARNED_POINTS', 0))\n>>> earned_points += score\n>>> log_variable('1_midterm_exam_q', f'{score}, {max_score}', question_id)\n>>> os.environ['EARNED_POINTS'] = str(earned_points)\n>>> responses = update_responses(question_id, str(test_array))\n>>> responses = update_responses(question_id, str(multiples_results))\n",
         "failure_message": "Failed: The function does not correctly filter out non-multiples of 7.",
         "hidden": false,
         "locked": false,
         "points": 3,
         "success_message": "Success: The function correctly handles numbers that are NOT multiples of 7!"
        },
        {
         "code": ">>> from pykubegrader.telemetry import ensure_responses, log_variable, score_question, submit_question, telemetry, update_responses\n>>> import os\n>>> import base64\n>>> question_id = 'numpy-multiple-of-7-check-5'\n>>> max_score = 2.0\n>>> score = 0\n>>> test_input = np.array([-7, -14, -21, 7, 14, 21])\n>>> expected_output = np.array([False, False, False, True, True, True])\n>>> negative_test_results = find_multiples_of_7(test_input)\n>>> assert np.array_equal(negative_test_results, expected_output), f'Expected {expected_output}, but got {negative_test_results}.'\n>>> if (np.array_equal(negative_test_results, expected_output), f'Expected {expected_output}, but got {negative_test_results}.'):\n...     score = 2.0\n>>> earned_points = float(os.environ.get('EARNED_POINTS', 0))\n>>> earned_points += score\n>>> log_variable('1_midterm_exam_q', f'{score}, {max_score}', question_id)\n>>> os.environ['EARNED_POINTS'] = str(earned_points)\n>>> responses = update_responses(question_id, str(negative_test_results))\n",
         "failure_message": "Failed: The function does not correctly exclude negative numbers.",
         "hidden": false,
         "locked": false,
         "points": 2,
         "success_message": "Success: The function correctly handles negative numbers!"
        },
        {
         "code": ">>> from pykubegrader.telemetry import ensure_responses, log_variable, score_question, submit_question, telemetry, update_responses\n>>> import os\n>>> import base64\n>>> question_id = 'numpy-multiple-of-7-check-6'\n>>> max_score = 3.0\n>>> score = 0\n>>> test_input = np.array([[7, 14, 3], [21, 6, 49]])\n>>> expected_shape = test_input.shape\n>>> shape_test_results = find_multiples_of_7(test_input).shape\n>>> assert shape_test_results == expected_shape, f'Expected shape {expected_shape}, but got {shape_test_results}.'\n>>> if (shape_test_results == expected_shape, f'Expected shape {expected_shape}, but got {shape_test_results}.'):\n...     score = 3.0\n>>> earned_points = float(os.environ.get('EARNED_POINTS', 0))\n>>> earned_points += score\n>>> log_variable('1_midterm_exam_q', f'{score}, {max_score}', question_id)\n>>> os.environ['EARNED_POINTS'] = str(earned_points)\n>>> responses = update_responses(question_id, str(shape_test_results))\n",
         "failure_message": "Failed: The function does not preserve the shape of the input array.",
         "hidden": false,
         "locked": false,
         "points": 3,
         "success_message": "Success: The function preserves NumPy array shape!"
        }
       ],
       "scored": true,
       "setup": "",
       "teardown": "",
       "type": "doctest"
      }
     ]
    },
    "remove-duplicates-sorted-array": {
     "name": "remove-duplicates-sorted-array",
     "points": null,
     "suites": [
      {
       "cases": [
        {
         "code": ">>> from pykubegrader.telemetry import ensure_responses, log_variable, score_question, submit_question, telemetry, update_responses\n>>> import os\n>>> import base64\n>>> max_question_points = str(10.0)\n>>> earned_points = 0\n>>> os.environ['EARNED_POINTS'] = str(earned_points)\n>>> os.environ['TOTAL_POINTS_FREE_RESPONSE'] = str(55.0)\n>>> log_variable('total-points', f'week6-midterm, 1_midterm_exam_q', 55.0)\n>>> question_id = 'remove-duplicates-sorted-array-1'\n>>> max_score = 10.0\n>>> score = 0\n>>> test_cases = [([1, 1, 2, 2, 3, 4, 4], 4, [1, 2, 3, 4]), ([1, 2, 3, 4, 5], 5, [1, 2, 3, 4, 5]), ([7, 7, 7, 7, 7], 1, [7]), ([0, 0, 1, 1, 2, 3, 3, 4, 5, 5], 6, [0, 1, 2, 3, 4, 5]), ([5], 1, [5]), ([], 0, []), ([10, 10, 20, 30, 30, 40, 50, 50, 60, 70, 70], 7, [10, 20, 30, 40, 50, 60, 70])]\n>>> actual_results = []\n>>> for nums, expected_k, expected_nums in test_cases:\n...     nums_copy = nums[:]\n...     result_k = remove_duplicates(nums_copy)\n...     actual_results.append((result_k, nums_copy[:result_k]))\n...     assert result_k == expected_k, f'Expected {expected_k}, but got {result_k} for input {nums}'\n...     assert nums_copy[:result_k] == expected_nums, f'Expected {expected_nums}, but got {nums_copy[:result_k]} for input {nums}'\n>>> if result_k == expected_k and nums_copy[:result_k] == expected_nums:\n...     score = 10.0\n>>> earned_points = float(os.environ.get('EARNED_POINTS', 0))\n>>> earned_points += score\n>>> log_variable('1_midterm_exam_q', f'{score}, {max_score}', question_id)\n>>> os.environ['EARNED_POINTS'] = str(earned_points)\n",
         "failure_message": "Failed: The function does not pass all test cases.",
         "hidden": false,
         "locked": false,
         "points": 10,
         "success_message": "Success: The function correctly handles all cases! Great JOB!"
        }
       ],
       "scored": true,
       "setup": "",
       "teardown": "",
       "type": "doctest"
      }
     ]
    }
   }
  }
 },
 "nbformat": 4,
 "nbformat_minor": 2
}
